{
 "cells": [
  {
   "cell_type": "markdown",
   "metadata": {},
   "source": [
    "# IXP as-path is increasing on IXPs?\n",
    "Graph IXP routing tables analysing number of received prepends\n",
    "\n",
    "<pre>\n",
    "obs: We also can use \"edit\" distance \n",
    "    https://www.merit.edu/wp-content/uploads/2016/01/Analyzing_BGP_ASPATH.pdf\n",
    "    https://sites.google.com/site/amitsciscozone/networking-datascience/analyzing-bgp-as_path-behaviour-using-python\n",
    "</pre>"
   ]
  },
  {
   "cell_type": "code",
   "execution_count": 1,
   "metadata": {},
   "outputs": [],
   "source": [
    "import pandas as pd\n",
    "import numpy as np\n",
    "import seaborn as sns\n",
    "import plotly \n",
    "import plotly.graph_objs as go\n",
    "import plotly.express as px\n",
    "from IPython.display import HTML\n",
    "from IPython.display import display\n",
    "import os\n",
    "import re\n",
    "import glob\n",
    "import fnmatch\n",
    "from datetime import date, datetime\n",
    "\n",
    "import matplotlib.pyplot as plt\n",
    "import seaborn as sns\n",
    "import timeit\n",
    "\n",
    "from pandarallel import pandarallel\n",
    "import argparse\n",
    "import sys"
   ]
  },
  {
   "cell_type": "markdown",
   "metadata": {},
   "source": [
    "# Globals"
   ]
  },
  {
   "cell_type": "code",
   "execution_count": 2,
   "metadata": {},
   "outputs": [],
   "source": [
    "# Download routing tables to this folder\n",
    "BGP_DATA  = \"/Users/bertholdo/tmp/Routing_Tables/\"      \n",
    "# Output images \n",
    "IMAGE_DIR = \"/Users/bertholdo/PAPERS/asym/leandro/\"\n",
    "# in/out datasets\n",
    "DATASET   = \"/Users/bertholdo/ut_gitlab/asy_pathsize/dataset/\"\n",
    "\n",
    "version='1.10'\n",
    "\n",
    "#List of banned ASes\n",
    "#as_ban=pd.read_csv('results/comm-ban-list.csv', dtype=str)['ASN'].to_list()\n",
    "as_ban=['2914', '1299', '3257', '3356', '174', '7922', '63956', '3491', '2516', \n",
    "        '9318', '2603', '9957', '7473', '6939', '1103', '2603', '20562', '1239', \n",
    "        '3257', '2914', '6461', '6939', '1251', '20080', '264575', '262605', '20473']"
   ]
  },
  {
   "cell_type": "markdown",
   "metadata": {},
   "source": [
    "# Functions"
   ]
  },
  {
   "cell_type": "code",
   "execution_count": 3,
   "metadata": {},
   "outputs": [],
   "source": [
    "def is_jupyter_notebook():\n",
    "    ''' Return True if is running inside Jupyter Notebook or Jupyter lab '''\n",
    "    try:\n",
    "        __IPYTHON__\n",
    "        _in_ipython_session = True\n",
    "    except NameError:\n",
    "        _in_ipython_session = False\n",
    "    return _in_ipython_session"
   ]
  },
  {
   "cell_type": "code",
   "execution_count": 4,
   "metadata": {},
   "outputs": [],
   "source": [
    "def tem_prepend (aspath):\n",
    "    ''' Return True if there is any prepend on aspath False otherwise'''\n",
    "    lst=str(aspath).split()\n",
    "    return any(i==j for i,j in zip(lst, lst[1:]))"
   ]
  },
  {
   "cell_type": "code",
   "execution_count": 5,
   "metadata": {},
   "outputs": [],
   "source": [
    "def qt_origin_prepend (aspath):\n",
    "    ''' Return the number of prepends inserted at ORIGIN_AS'''\n",
    "    lst=str(aspath).split()\n",
    "    return (lst.count(str(lst[-1]))-1)"
   ]
  },
  {
   "cell_type": "code",
   "execution_count": 6,
   "metadata": {},
   "outputs": [],
   "source": [
    "def qt_nei_prepend (aspath):\n",
    "    ''' Return number of prepends added by NEIGHBOR_AS'''\n",
    "    '''prepends added by ixp customer '''\n",
    "    lst=str(aspath).split()\n",
    "    return (lst.count(str(lst[0]))-1)"
   ]
  },
  {
   "cell_type": "code",
   "execution_count": 7,
   "metadata": {},
   "outputs": [],
   "source": [
    "def countips(netblock):\n",
    "    cidr = int(netblock.split('/')[1])\n",
    "    return 2**(32 - cidr)"
   ]
  },
  {
   "cell_type": "code",
   "execution_count": 8,
   "metadata": {},
   "outputs": [],
   "source": [
    "from pandas.errors import EmptyDataError\n",
    "\n",
    "def load_ixp(ixp, option=None, max_samples=10):\n",
    "    \"\"\" Load ixp datasets from BGP_DATA folder, add prepend informations and return\n",
    "    a dataframe (df_all) with the full year regarding that ixp\n",
    "    return a dataframe with IXP data\n",
    "    recv: \n",
    "        ixp = one of ['amsix','spoixbr','six','auix','linx','decix','poaixbr']\n",
    "        option = all/None/best (keep just one path by each prefix - pick the shortest as-path)\n",
    "                 open (just neigbors up/open as listed in peerinfo)\n",
    "                 ban (exclude banned aslist to match ingress asym - case of HE)\n",
    "                 6939 (select just prefixes from huricane eletric)                 \n",
    "    \"\"\"\n",
    "    ixp_asn_lst=[]\n",
    "    req_cols=['NETWORK','AS_PATH','as_neigh','as_origin']\n",
    "    file_selection=glob.glob(BGP_DATA + '*rtable_*_'+ixp+'.csv.gz')\n",
    "    \n",
    "    tot=len(file_selection)\n",
    "    if tot<1:\n",
    "        print('ERROR:: Something Wrong: NO FILES TO ANALYSE ',file_selection)\n",
    "        raise KeyboardInterrupt\n",
    "    \n",
    "    c=0\n",
    "    df_all=pd.DataFrame()\n",
    "    print (f'Loading files for {ixp.upper()} on {BGP_DATA}')\n",
    "    for f in file_selection:   \n",
    "        \n",
    "        if max_samples!=0 and c>=max_samples and is_jupyter_notebook():\n",
    "            break\n",
    "        c=c+1\n",
    "        if (not (c%10)) or c==tot:\n",
    "            sys.stdout.write(f'{c}/{tot}')\n",
    "        else:\n",
    "            sys.stdout.write('.')\n",
    "        sys.stdout.flush()    \n",
    "        try:\n",
    "            df = pd.read_csv(f, usecols=req_cols, dtype=str)\n",
    "        except EmptyDataError:\n",
    "            print (f'ERROR:: File is empty? [{f}]')\n",
    "            continue\n",
    "\n",
    "        day=os.path.basename(f).split('_')[0]\n",
    "        \n",
    "        #\n",
    "        # Select just Huricane Eletric\n",
    "        if '6939' in option:\n",
    "            df=df[df['as_neigh']=='6939']\n",
    "\n",
    "        #\n",
    "        # Remove neighbor routes from our BAN_COMM_LIST\n",
    "        if 'ban' in option: \n",
    "            df=df[~df['as_neigh'].isin(as_ban)]                       \n",
    "            \n",
    "        #\n",
    "        # Select just directed connected as in peerinfo files\n",
    "        if 'open' in option:\n",
    "            for f in glob.glob(f'peerinfo/*_{ixp}.csv.gz'):\n",
    "                df_asnlst=pd.read_csv(f, dtype=str)\n",
    "                df_asnlst = df_asnlst[(df_asnlst['policy'].str.upper()=='OPEN') & (df_asnlst['state'].str.upper()=='UP')]\n",
    "                ixp_asn_lst = df_asnlst['ASN'].unique().tolist()\n",
    "            df=df[df['as_neigh'].isin(ixp_asn_lst)]\n",
    "                        \n",
    "        df['date']=day\n",
    "        df_all=pd.concat([df_all, df])\n",
    "\n",
    "    print('\\tDone!')\n",
    "    df_all['date']=pd.to_datetime(df_all['date'])\n",
    "\n",
    "    print ('\\tStep1:Calc as_path_len')\n",
    "    df_all['as_path_len']=df_all['AS_PATH'].parallel_apply(lambda x: len(str(x).split()))\n",
    "\n",
    "    # Depending the routing table source (multiple Route-servers) we need to pick one as best prefix path\n",
    "    # we orderer by smallest path size and pick the first (Alice, Bird)\n",
    "    # as we are just considering as-path size that is enough.\n",
    "    #if 'best' in option:\n",
    "    print ('\\tChosing the best as-path to count prepends...')\n",
    "    df_all=df_all.sort_values('as_path_len', ascending=True)\n",
    "    df_all=df_all.drop_duplicates(subset=['NETWORK','date'], keep='first')\n",
    "    \n",
    "    print ('\\tStep2:Verifying any_prepend')\n",
    "    df_all['any_prepend']=df_all['AS_PATH'].parallel_apply(tem_prepend)\n",
    "    print ('\\tStep3:Verifying nei_prepend')\n",
    "    df_all['nei_prepend']=df_all['AS_PATH'].parallel_apply(qt_nei_prepend)\n",
    "    print ('\\tStep4:Verifying origin_prepend')\n",
    "    df_all['origin_prepend']=df_all['AS_PATH'].parallel_apply(qt_origin_prepend)    \n",
    "\n",
    "    return df_all"
   ]
  },
  {
   "cell_type": "code",
   "execution_count": null,
   "metadata": {},
   "outputs": [],
   "source": []
  },
  {
   "cell_type": "code",
   "execution_count": 129,
   "metadata": {},
   "outputs": [],
   "source": [
    "'''Shows the effect of HE (AS6939) on IXPs routing table'''\n",
    "\n",
    "def gen_6939_graphs(ixp, sample=10, labely=True, legend='free'):\n",
    "    dbest=gen_ONE_ixp_prepend_dataframe(ixp, 'best', sample)\n",
    "    d69=gen_ONE_ixp_prepend_dataframe(ixp, '6939', sample)\n",
    "\n",
    "    dbest=dbest[['day','tot_paths','any_prep_path']]\n",
    "    rename_col={'tot_paths': 'Total paths',\n",
    "                'any_prep_path':'Any prepend', \n",
    "                'origin_prep': 'Prepend at origin ASes',\n",
    "                'nei_prep_all':'Prepends inserted by customer', \n",
    "                'nei_prep_client':'Customer prepending client prefixes', \n",
    "                'nei_prep_origin':'Customer prepending own prefixes' }  \n",
    "    dbest=dbest.rename(columns=rename_col)\n",
    "\n",
    "    d69=d69[['day','tot_paths','any_prep_path']]\n",
    "    rename_col={'tot_paths': 'Total AS6939 paths',\n",
    "                'any_prep_path':'AS6939 clients prepend', \n",
    "                'origin_prep': 'origin_prep_6939',\n",
    "                'nei_prep_all':'nei_prep_all_6939', \n",
    "                'nei_prep_client':'nei_prep_client_6939', \n",
    "                'nei_prep_origin':'nei_prep_origin_6939' } \n",
    "    d69=d69.rename(columns=rename_col)\n",
    "    \n",
    "    \n",
    "    dbest=dbest.set_index('day')\n",
    "    d69=d69.set_index('day')\n",
    "    df=pd.concat([dbest,d69], join='outer', axis=1)\n",
    "    \n",
    "    df=df.reset_index()\n",
    "    df['day']=pd.to_datetime(df['day'])\n",
    "    df=df.set_index('day')\n",
    "    \n",
    "    #return df\n",
    "    #tidy=df.stack().reset_index().rename(columns={\"level_1\":\"prepend_type\", 0: \"prefixes\"})\n",
    "    ax=df.plot.area( y=['Total paths', 'Total AS6939 paths', 'Any prepend', 'AS6939 clients prepend'], stacked=False)\n",
    "    plt.title('AS6939 influency on '+ixp.upper())\n",
    "    ax.set_xlabel('')\n",
    "    \n",
    "    if labely:\n",
    "        plt.ylabel('Prefixes')   \n",
    "    else:\n",
    "        plt.ylabel('')\n",
    "    plt.xlabel('')\n",
    "    plt.title('')\n",
    "    \n",
    "    if legend==False:\n",
    "        ax.get_legend().remove()\n",
    "    elif legend!='free':\n",
    "        plt.legend(loc=legend)\n",
    "        \n",
    "    #ax.set_ylabel('Prefixes')\n",
    "    #plt.legend(loc='upper right')\n",
    "    \n",
    "    outfig=IMAGE_DIR+ixp+'_as6939.pdf'\n",
    "    print(f'Figure saved at {outfig}')\n",
    "    if (is_jupyter_notebook()):\n",
    "        plt.savefig(outfig,bbox_inches='tight')\n",
    "        plt.show()\n",
    "    else:\n",
    "        plt.savefig(outfig,bbox_inches='tight')\n",
    "        plt.close()\n",
    "        "
   ]
  },
  {
   "cell_type": "markdown",
   "metadata": {},
   "source": [
    "# Who is prepending and how much?\n",
    "<pre>\n",
    "1) for prepends added to IXP path:        AMSIX:[5.61%]  AUIX:[2.56%] POAIXBR:[3.16%]  LINX:[7.99%]  SPOIXBR:[2.39%]  SIX:[4.86%]\n",
    "2) for any prepended path received on IX: AMSIX:[26.81%] AUIX:[27.5%] POAIXBR:[31.59%] LINX:[32.62%] SPOIXBR:[26.47%] SIX:[32.49%] \n",
    "3) prepends for its own prefixes: \n",
    "\n",
    "Takeaway: 26-32% of all prefixes received at the IXP are prendended. \n",
    "The IXP customer is responsible for adding 23% of all those prefixes.\n",
    "They prepend its client prefixes, but not their own.\n",
    "</pre>"
   ]
  },
  {
   "cell_type": "code",
   "execution_count": 130,
   "metadata": {},
   "outputs": [],
   "source": [
    "def who_is_prepending(ixp, df_all):\n",
    "    '''generate a daily summary of who is prepending at one IXP\n",
    "    '''\n",
    "    day_lst = df_all['date'].drop_duplicates().dt.strftime('%Y-%m-%d').to_list()\n",
    "    df_sum=pd.DataFrame()\n",
    "    for day in day_lst:\n",
    "        # for one day in the ixp life\n",
    "        df=df_all[df_all['date']==day]\n",
    "        \n",
    "        #\n",
    "        # Totals\n",
    "        #\n",
    "        #total paths \n",
    "        tot_paths=len(df)\n",
    "        # path with some prepend everywhere\n",
    "        any_prep_path=len(df[df['any_prepend']==True])\n",
    "        # paths prepended at origin (any)\n",
    "        origin_prep=len(df[df['origin_prepend']>0])\n",
    "        # total paths originated on ixp's customer (his own prefixes)\n",
    "        tot_origin_customer=len(df[ (df['as_neigh']==(df['as_origin'])) ])  \n",
    "\n",
    "        #\n",
    "        # prepends added by ixp's customers\n",
    "        #       \n",
    "        # all path prepended by ixp neighbor (directed connected to ixp)\n",
    "        nei_prep_all    = len(df[df['nei_prepend']>0])\n",
    "        # neighbor prepending its own prefixes\n",
    "        nei_prep_origin = len(df[ (df['as_neigh']==(df['as_origin'])) & (df['nei_prepend']>0) ])       \n",
    "        # neighbor prepending prefixes from another AS\n",
    "        nei_prep_client = len(df[ (df['nei_prepend']>0) & (df['as_neigh']!=(df['as_origin'])) ])\n",
    "        \n",
    "        psource={'day':day,\n",
    "                 'ixp':ixp,\n",
    "                 'tot_paths':tot_paths, \n",
    "                 #\n",
    "                 'any_prep_path':any_prep_path,\n",
    "                 'origin_prep':origin_prep,\n",
    "                 'tot_origin_customer':tot_origin_customer,\n",
    "                 'nei_prep_all':nei_prep_all,\n",
    "                 'nei_prep_origin':nei_prep_origin,\n",
    "                 'nei_prep_client':nei_prep_client,\n",
    "                 # mind zero division (and+or)\n",
    "                 'perc_any_prep_path':round((tot_paths and any_prep_path/tot_paths or 0) *100,2) or 0,\n",
    "                 'perc_origin_prep':round( (tot_paths and origin_prep/tot_paths or 0) *100,2) or 0,\n",
    "                 'perc_origin_customer':round( (tot_paths and tot_origin_customer/tot_paths or 0) *100,2),\n",
    "                 'perc_nei_prep_origin':round( (tot_origin_customer and nei_prep_origin/tot_origin_customer or 0) *100,2),  # how much ixp neighbor are prepending its own prefixes.\n",
    "                 'perc_nei_prep_client':round( (any_prep_path and nei_prep_client/any_prep_path or 0) *100,2),      # how much they are prepending other ASes\n",
    "                }    \n",
    "        #df_sum=df_sum.append(psource, ignore_index=True)\n",
    "        df_sum = pd.concat([ df_sum, pd.DataFrame.from_records([psource]) ])\n",
    "        \n",
    "        \n",
    "    return df_sum"
   ]
  },
  {
   "cell_type": "code",
   "execution_count": 131,
   "metadata": {},
   "outputs": [],
   "source": [
    "def gen_ONE_ixp_prepend_dataframe( ixp , option, sample):\n",
    "    ''' Inspect all Routing_Table directory looking for IXPs in IXP_LIST.\n",
    "        Process AS_PATH to extract PREPEND information from each Routing Table.\n",
    "        Generate an entry (row) for each ixp/rtable day found.\n",
    "        RETURN a dataframe with this information:\n",
    "        \n",
    "        ['day', 'ixp', 'tot_paths', 'any_prep_path', 'origin_prep',\n",
    "       'tot_origin_customer', 'nei_prep_all', 'nei_prep_origin',\n",
    "       'nei_prep_client', 'perc_any_prep_path', 'perc_origin_prep',\n",
    "       'perc_origin_customer', 'perc_nei_prep_origin', 'perc_nei_prep_client']\n",
    "       \n",
    "       recv: ixp name and option as described in load_ixp\n",
    "    '''\n",
    "    fname=f'{DATASET}/{ixp}_{option}_{sample}_prepend.csv'\n",
    "    # comment bellow to always generate all prepend csv\n",
    "    if os.path.exists(fname):\n",
    "        print(f'WARNING: Skipping [{ixp}]... Remove file [{fname}] to rebuild!')\n",
    "        print(f'Reading dataframe from file [{fname}]')\n",
    "        return pd.read_csv(fname)\n",
    "\n",
    "    # load Routing_Table\n",
    "    df=load_ixp(ixp, option, sample)  #0=use all tables    \n",
    "    # count who is prepending\n",
    "    dsum=who_is_prepending(ixp, df)   \n",
    "    dsum=dsum.sort_values(by=['day','ixp'], ascending=False).reset_index(drop=True)\n",
    "    # save file\n",
    "    if not os.path.exists(DATASET):\n",
    "        os.makedirs(DATASET)\n",
    "    dsum.to_csv(fname, index=False)\n",
    "    return dsum"
   ]
  },
  {
   "cell_type": "code",
   "execution_count": null,
   "metadata": {},
   "outputs": [],
   "source": []
  },
  {
   "cell_type": "markdown",
   "metadata": {},
   "source": [
    "# Number of Customer prepends on IXPs \n",
    "<pre>\n",
    " Directed conected ASes (customers) are depreferring IXP path?\n",
    "     R: AMSIX customers have signicative variance, with a mean around 1.8 prepends by prefix. \n",
    "     After march 2022 went up almost reaching a mean of 2 prepends by each prefix announcement by customers. \n",
    "</pre>"
   ]
  },
  {
   "cell_type": "code",
   "execution_count": 39,
   "metadata": {},
   "outputs": [],
   "source": [
    "import matplotlib \n",
    "def graph_who_is_prepending(ixp, option, sample):\n",
    "    '''Graph who is prepending and save to IMAGES_DIR'''\n",
    "    df=gen_ONE_ixp_prepend_dataframe(ixp, option, sample)\n",
    "\n",
    "    #df=df[['day','tot_paths','any_prep_path','origin_prep','nei_prep_all','nei_prep_client','nei_prep_origin']]\n",
    "    df=df[['day','any_prep_path','origin_prep','nei_prep_client','nei_prep_origin']]\n",
    "    df['day']=pd.to_datetime(df['day'])\n",
    "    df=df.set_index('day')\n",
    "    #display(data.head(2))\n",
    "\n",
    "    tidy=df.stack().reset_index().rename(columns={\"level_1\":\"prepend_type\", 0: \"prefixes\"})\n",
    "    rename_col={'tot_paths': 'Total paths',\n",
    "                'any_prep_path':'Any prepend', \n",
    "                'origin_prep': 'Origin prepend',\n",
    "                'nei_prep_all':'Neighbor inserted prepend', \n",
    "                'nei_prep_client':'Neighbor prepending client', \n",
    "                'nei_prep_origin':'Neighbor prepending itself' }  \n",
    "    tidy=tidy.replace({'prepend_type': rename_col})\n",
    "    #display(tidy.head(2))\n",
    "\n",
    "    #tidy\n",
    "    fig=plt.figure(figsize=(12,4))\n",
    "    sns.set(font_scale = 1.2)\n",
    "    sns.set_style(\"whitegrid\")\n",
    "    sns.lineplot(data=tidy, x='day', y=\"prefixes\", hue='prepend_type').set(title='Prepended paths on '+ixp.upper())\n",
    "    plt.xlabel('')\n",
    "    plt.title('')\n",
    "    plt.ylabel('Prepended Paths')\n",
    "    plt.xticks(rotation = 25)\n",
    "    #legend\n",
    "    plt.legend(bbox_to_anchor=(0,1.02,1,0.2), loc=\"lower left\", mode=\"expand\", borderaxespad=0, ncol=4)\n",
    "    #plt.legend(bbox_to_anchor=(0,1.02,1,0.2), bbox_transform=fig.transFigure, \n",
    "    #           loc=\"lower right\",mode=\"expand\", borderaxespad=0, ncol=4)\n",
    "    #plt.legend(loc='center left', bbox_to_anchor=(1, 0.5), ncol=1)\n",
    "    outfig=IMAGE_DIR+ixp+'_'+option+'_who_is_prepending.pdf'\n",
    "    print(f'Figure saved at {outfig}')\n",
    "    if (is_jupyter_notebook()):\n",
    "        plt.savefig(outfig,bbox_inches='tight',pad_inches = 0)\n",
    "        plt.show()\n",
    "    else:\n",
    "        plt.savefig(outfig,bbox_inches='tight',pad_inches = 0)\n",
    "        plt.close()"
   ]
  },
  {
   "cell_type": "code",
   "execution_count": null,
   "metadata": {},
   "outputs": [],
   "source": []
  },
  {
   "cell_type": "markdown",
   "metadata": {},
   "source": [
    "## MEDIAN AS-path size seen on IXP\n",
    "<pre>\n",
    " The IXP average as-path is growing? \n",
    "     R: AMSIX-The number of prefixes annouced on IXPs have slightly grew, and the number of prepended paths sligtly diminished.\n",
    "</pre>"
   ]
  },
  {
   "cell_type": "code",
   "execution_count": 114,
   "metadata": {},
   "outputs": [],
   "source": [
    "def graph_prepend_noprepend_best(ixp, option, sample, labely=True, legend='free'):\n",
    "    '''Graph prepended and not prepended paths for the BEST PATH found\n",
    "    and save to IMAGES_DIR'''\n",
    "    df=gen_ONE_ixp_prepend_dataframe(ixp, option, sample)\n",
    "\n",
    "    #df=df[['day','tot_paths','any_prep_path','origin_prep','nei_prep_all','nei_prep_client','nei_prep_origin']]\n",
    "    df=df[['day','tot_paths','any_prep_path']]\n",
    "    df['day']=pd.to_datetime(df['day'])\n",
    "    \n",
    "    # prepare plot\n",
    "    rename_col={'day':'Date',\n",
    "                'tot_paths': 'Regular AS-path',\n",
    "                'any_prep_path':'Prepended AS-path'}  \n",
    "    data=df.rename(columns=rename_col)\n",
    "    data=data.set_index('Date')\n",
    "    #display(data.head(2))\n",
    "\n",
    "    # Plot prepended vs not prepended path on ixp\n",
    "    fig=plt.figure(figsize=(12,4))\n",
    "    sns.set(font_scale = 1.2)\n",
    "    sns.set_style(\"whitegrid\")    \n",
    "    ax=data.plot.area( y=['Regular AS-path','Prepended AS-path'], stacked=False)\n",
    "    plt.title('Evaluating prepended announcements on '+ixp.upper())\n",
    "\n",
    "    if labely:\n",
    "        plt.ylabel('Prefixes')   \n",
    "    else:\n",
    "        plt.ylabel('')\n",
    "    plt.xlabel('')\n",
    "    plt.title('')\n",
    "    \n",
    "    if legend==False:\n",
    "        ax.get_legend().remove()\n",
    "    elif legend!='free':\n",
    "        plt.legend(loc=legend)\n",
    "\n",
    "    plt.xticks(rotation = 25)\n",
    "\n",
    "    outfig=IMAGE_DIR+ixp+'_'+option+'_prepend_vs_notprepend.pdf'\n",
    "    print(f'Figure saved at {outfig}')\n",
    "    if (is_jupyter_notebook()):\n",
    "        plt.savefig(outfig,bbox_inches='tight',pad_inches = 0)\n",
    "        plt.show()\n",
    "    else:\n",
    "        plt.savefig(outfig,bbox_inches='tight',pad_inches = 0)\n",
    "        plt.close()"
   ]
  },
  {
   "cell_type": "code",
   "execution_count": null,
   "metadata": {},
   "outputs": [],
   "source": []
  },
  {
   "cell_type": "code",
   "execution_count": 14,
   "metadata": {},
   "outputs": [],
   "source": [
    "def OLD_prepend_vs_notprepend(df_all):\n",
    "    '''\n",
    "    Process ixp_prepend dataframe for all dates and graph \n",
    "    PREPENDED vs. NOT_PREPENDED paths for all paths received\n",
    "    on route-server. Not just the best.\n",
    "    '''\n",
    "# prepare plot\n",
    "    df=df_all\n",
    "    df=df[['date','NETWORK','any_prep_path']]\n",
    "    df=df.groupby(['date','any_prep_path']).count()\n",
    "    df=df.reset_index().copy()\n",
    "    \n",
    "    d2=df[df['any_prep_path']==True][['date','NETWORK']] \n",
    "    d1=df[df['any_prep_path']==False][['date','NETWORK']] \n",
    "    d2.columns=['Date','Prepended AS-path']\n",
    "    d1.columns=['Date','Regular AS-path']\n",
    "    \n",
    "    df=pd.merge(d1,d2, on='Date').set_index('Date')\n",
    "    df['Total Paths']=df['Regular AS-path']+df['Prepended AS-path']\n",
    "    df['Percentual']=df['Prepended AS-path']/df['Total Paths']*100\n",
    "    \n",
    "    # Summarize all period\n",
    "    df_summary=df.reset_index().copy()\n",
    "    print(\"===> Any Prepended Paths on {} :: MIN:{}%  MAX:{}%  MEAN:{}%\".format(\n",
    "          ixp.upper(), \n",
    "          round(df_summary['Percentual'].min(),2), \n",
    "          round(df_summary['Percentual'].max(),2), \n",
    "          round(df_summary['Percentual'].median(),2),\n",
    "          round(df_summary['Percentual'].mean(),2) ))\n",
    "    #display(df_summary.head(2))\n",
    "    \n",
    "    # Plot prepended vs not prepended path on ixp\n",
    "    ax=df.plot.area( y=['Regular AS-path','Prepended AS-path'], stacked=False)\n",
    "    \n",
    "    plt.title('Evaluating prepended announcements on '+ixp.upper())\n",
    "    ax.set_ylabel('Prefixes')\n",
    "    #ax.set_title('a sine wave')\n",
    "    \n",
    "    outfig=IMAGE_DIR+ixp+'_prepend_vs_notprepend.pdf'\n",
    "    print(f'Figure saved at {outfig}')\n",
    "    if (is_jupyter_notebook()):\n",
    "        #plt.savefig(outfig)\n",
    "        plt.show()\n",
    "    else:\n",
    "        plt.savefig(outfig)\n",
    "        plt.close()"
   ]
  },
  {
   "cell_type": "code",
   "execution_count": 15,
   "metadata": {},
   "outputs": [],
   "source": [
    "def load_prepend_summary( ixp_list=['amsix', 'spoixbr', 'six', 'linx', 'poaixbr'], option='best', sample=0 ):\n",
    "    '''Generate a dataframe summarizing all prepend analisys from each IXP in on dataframe (DSUM).\n",
    "    Create this dataframe if not exist, or just load. Consider OPTION/SAMPLE to generate each IXP data.\n",
    "    receive: ixp_list to call gen_ONE_ixp_prepend_dataframe\n",
    "             option: best, open, ban\n",
    "             sample: how much routing tables to analyse (0=all)\n",
    "    return:  DSUM-summary dataframe joining all IXPs prepend info\n",
    "    '''\n",
    "\n",
    "    fname=f'{DATASET}/SUMMARY_{option}_{sample}_prepend.csv'\n",
    "    # comment bellow to always generate all prepend csv\n",
    "    if os.path.exists(fname):\n",
    "        print(f'WARNING: Skipping... Reading dataframe from file [{fname}]... Remove file to rebuild!')\n",
    "        return pd.read_csv(fname)\n",
    "\n",
    "    dsum=pd.DataFrame()\n",
    "    # for each ixp on list\n",
    "    for ixp in ixp_list:\n",
    "        # Load ixp  Routing_Table and count prepends\n",
    "        df=gen_ONE_ixp_prepend_dataframe(ixp, option, sample)        \n",
    "        # Join with another ixps \n",
    "        dsum=pd.concat([dsum,df])\n",
    "        \n",
    "    #sort dataframe by date\n",
    "    dsum=dsum.sort_values(by=['day','ixp'], ascending=False).reset_index(drop=True)\n",
    "    # save for fast load\n",
    "    if not os.path.exists(DATASET):\n",
    "        os.makedirs(DATASET)\n",
    "    dsum.to_csv(fname, index=False)\n",
    "\n",
    "    return dsum"
   ]
  },
  {
   "cell_type": "code",
   "execution_count": 16,
   "metadata": {},
   "outputs": [],
   "source": [
    "def gen_table_prepend():\n",
    "    '''Generate {tab:ixp-prepend}\n",
    "    '''\n",
    "    df=load_prepend_summary(['amsix', 'spoixbr', 'six', 'linx', 'poaixbr'],'best',0)\n",
    "    df['perc_nei_prep_all'] = round( (df['nei_prep_all']/df['any_prep_path'] )*100,3)\n",
    "    df = df[['ixp', 'perc_any_prep_path', 'perc_nei_prep_all', 'perc_nei_prep_client', 'perc_nei_prep_origin',  'perc_origin_prep', 'tot_paths', 'any_prep_path', 'nei_prep_client', 'nei_prep_origin' ]]\n",
    "    df=df.groupby('ixp').median().reset_index()\n",
    "    \n",
    "    df=df[['ixp','perc_any_prep_path','perc_nei_prep_all','perc_origin_prep','perc_nei_prep_client','perc_nei_prep_origin' ]]\n",
    "    col=dict({'perc_any_prep_path' :'any\\_prep', \n",
    "             'perc_nei_prep_all'   :'nei\\_prep',\n",
    "             'perc_origin_prep'\t   :'origin\\_prep', \n",
    "             'perc_nei_prep_client':'nei\\_client',\n",
    "             'perc_nei_prep_origin':'nei\\_origin',      \n",
    "             })\n",
    "    df=df.rename(columns=col)\n",
    "    \n",
    "    \n",
    "    #d=df.set_axis( df.columns.str.split('-',1,expand=True), axis='columns', inplace=False ).swaplevel(0,1, axis='columns').reset_index()\n",
    "    print( df.style\n",
    "          .set_table_styles([\n",
    "                             {'selector': 'toprule', 'props': ':toprule;'},\n",
    "                             {'selector': 'midrule', 'props': ':midrule;'},\n",
    "                             {'selector': 'bottomrule', 'props': ':hline;'},\n",
    "                            ], overwrite=False)\n",
    "          .format(precision=2, thousands=\",\")   #precision 1 because of median on nets - sometimes 0.5\n",
    "          .hide(axis='index')\n",
    "          .to_latex(position_float=\"centering\", label=\"tab:ixp-prepend\", caption=\"Percentual analisys of IXP's prepended paths\") \n",
    "         )\n",
    "    display(df)\n",
    "    return df"
   ]
  },
  {
   "cell_type": "markdown",
   "metadata": {},
   "source": [
    "# Main"
   ]
  },
  {
   "cell_type": "code",
   "execution_count": 17,
   "metadata": {},
   "outputs": [],
   "source": [
    "#ixp_list=['amsix','spoixbr','six','auix','linx','decix','poaixbr']\n",
    "ixp_list=['amsix','spoixbr','six','linx','poaixbr']\n",
    "\n",
    "if is_jupyter_notebook():\n",
    "    # Select one IXP to run \n",
    "    # ixp='amsix'\n",
    "    # ixp='spoixbr'\n",
    "    # ixp='six'\n",
    "    # ixp='auix'\n",
    "     ixp='linx'\n",
    "    # ixp='decix'\n",
    "    # ixp='poaixbr'\n",
    "\n",
    "    # global\n",
    "     ixp='rrc00-as3333'\n",
    "    #BGP_DATA='/tmp/'\n",
    "    \n",
    "    \n",
    "else:\n",
    "    # Parse Arguments\n",
    "    parser = argparse.ArgumentParser(description='Graphical analisys of as-path size and prepends for IXP routing tables')\n",
    "    parser.add_argument(\"--version\", help=\"print version and exit\", action=\"store_true\")\n",
    "    parser.add_argument(\"--all\", help=f\"run all IXPs [{ixp_list}]\", action=\"store_true\")\n",
    "    parser.add_argument('--ixp', nargs='?', type=str, help=f'Choose one IXP {ixp_list}')   \n",
    "    try:\n",
    "        args = parser.parse_args()\n",
    "    except:\n",
    "        sys.exit(0)\n",
    "        \n",
    "    if (args.version):\n",
    "        print (version)\n",
    "        sys.exit(0)\n",
    "        \n",
    "    if args.ixp in ixp_list:\n",
    "        ixp=args.ixp\n",
    "    elif args.all:\n",
    "        ixp='all'\n",
    "    else:            \n",
    "        print(f\"I do not know which ixp to run!\")\n",
    "        parser.print_help()\n",
    "        sys.exit(0)"
   ]
  },
  {
   "cell_type": "code",
   "execution_count": 18,
   "metadata": {},
   "outputs": [
    {
     "name": "stdout",
     "output_type": "stream",
     "text": [
      "INFO: Pandarallel will run on 6 workers.\n",
      "INFO: Pandarallel will use standard multiprocessing data transfer (pipe) to transfer data between the main process and workers.\n"
     ]
    }
   ],
   "source": [
    "pandarallel.initialize(progress_bar=False)"
   ]
  },
  {
   "cell_type": "code",
   "execution_count": null,
   "metadata": {},
   "outputs": [],
   "source": []
  },
  {
   "cell_type": "code",
   "execution_count": null,
   "metadata": {},
   "outputs": [],
   "source": []
  },
  {
   "cell_type": "markdown",
   "metadata": {},
   "source": [
    "### Generate {fig:linx-whois-prep}"
   ]
  },
  {
   "cell_type": "code",
   "execution_count": 41,
   "metadata": {},
   "outputs": [
    {
     "name": "stdout",
     "output_type": "stream",
     "text": [
      "WARNING: Skipping [linx]... Remove file [/Users/bertholdo/ut_gitlab/asy_pathsize/dataset//linx_best_0_prepend.csv] to rebuild!\n",
      "Reading dataframe from file [/Users/bertholdo/ut_gitlab/asy_pathsize/dataset//linx_best_0_prepend.csv]\n",
      "Figure saved at /Users/bertholdo/PAPERS/asym/leandro/linx_best_who_is_prepending.pdf\n"
     ]
    },
    {
     "data": {
      "image/png": "[encoded data removed]",
      "text/plain": [
       "<Figure size 864x288 with 1 Axes>"
      ]
     },
     "metadata": {},
     "output_type": "display_data"
    }
   ],
   "source": [
    "#graph_who_is_prepending('linx', 'ban', 100)\n",
    "graph_who_is_prepending('linx', 'best', 0)"
   ]
  },
  {
   "cell_type": "markdown",
   "metadata": {},
   "source": [
    "### Generate {fig:prepend-linx}"
   ]
  },
  {
   "cell_type": "code",
   "execution_count": 20,
   "metadata": {},
   "outputs": [],
   "source": [
    "#graph_prepend_noprepend_best('amsix', 'best', 0)"
   ]
  },
  {
   "cell_type": "code",
   "execution_count": 117,
   "metadata": {},
   "outputs": [
    {
     "name": "stdout",
     "output_type": "stream",
     "text": [
      "WARNING: Skipping [linx]... Remove file [/Users/bertholdo/ut_gitlab/asy_pathsize/dataset//linx_best_0_prepend.csv] to rebuild!\n",
      "Reading dataframe from file [/Users/bertholdo/ut_gitlab/asy_pathsize/dataset//linx_best_0_prepend.csv]\n",
      "Figure saved at /Users/bertholdo/PAPERS/asym/leandro/linx_best_prepend_vs_notprepend.pdf\n"
     ]
    },
    {
     "data": {
      "text/plain": [
       "<Figure size 864x288 with 0 Axes>"
      ]
     },
     "metadata": {},
     "output_type": "display_data"
    },
    {
     "data": {
      "image/png": "[encoded data removed]",
      "text/plain": [
       "<Figure size 432x288 with 1 Axes>"
      ]
     },
     "metadata": {},
     "output_type": "display_data"
    }
   ],
   "source": [
    "graph_prepend_noprepend_best('linx', 'best', 0)"
   ]
  },
  {
   "cell_type": "markdown",
   "metadata": {},
   "source": [
    "### Generate {fig:amsix_as6939}"
   ]
  },
  {
   "cell_type": "code",
   "execution_count": 146,
   "metadata": {},
   "outputs": [
    {
     "name": "stdout",
     "output_type": "stream",
     "text": [
      "WARNING: Skipping [amsix]... Remove file [/Users/bertholdo/ut_gitlab/asy_pathsize/dataset//amsix_best_0_prepend.csv] to rebuild!\n",
      "Reading dataframe from file [/Users/bertholdo/ut_gitlab/asy_pathsize/dataset//amsix_best_0_prepend.csv]\n",
      "Loading files for AMSIX on /Users/bertholdo/tmp/Routing_Tables/\n",
      ".........10/372.........20/372.........30/372.........40/372.........50/372.........60/372.........70/372.........80/372.........90/372.........100/372.........110/372.........120/372.........130/372.........140/372.........150/372.........160/372.........170/372.........180/372.........190/372.........200/372.........210/372.........220/372.........230/372.........240/372.........250/372.........260/372.........270/372.........280/372.........290/372.........300/372.........310/372ERROR:: File is empty? [/Users/bertholdo/tmp/Routing_Tables/2021-12-29_rtable_ALICERS_amsix.csv.gz]\n",
      ".........320/372.........330/372.........340/372.........350/372.........360/372.........370/372.372/372\tDone!\n",
      "\tStep1:Calc as_path_len\n",
      "\tChosing the best as-path to count prepends...\n",
      "\tStep2:Verifying any_prepend\n",
      "\tStep3:Verifying nei_prepend\n",
      "\tStep4:Verifying origin_prepend\n",
      "Figure saved at /Users/bertholdo/PAPERS/asym/leandro/amsix_as6939.pdf\n"
     ]
    },
    {
     "data": {
      "image/png": "[encoded data removed]",
      "text/plain": [
       "<Figure size 432x288 with 1 Axes>"
      ]
     },
     "metadata": {},
     "output_type": "display_data"
    }
   ],
   "source": [
    "gen_6939_graphs('amsix', 0, labely=True, legend='upper center')"
   ]
  },
  {
   "cell_type": "markdown",
   "metadata": {},
   "source": [
    "### Generate {fig:spoixbr_as6939}"
   ]
  },
  {
   "cell_type": "code",
   "execution_count": 141,
   "metadata": {},
   "outputs": [
    {
     "name": "stdout",
     "output_type": "stream",
     "text": [
      "WARNING: Skipping [six]... Remove file [/Users/bertholdo/ut_gitlab/asy_pathsize/dataset//six_best_0_prepend.csv] to rebuild!\n",
      "Reading dataframe from file [/Users/bertholdo/ut_gitlab/asy_pathsize/dataset//six_best_0_prepend.csv]\n",
      "Loading files for SIX on /Users/bertholdo/tmp/Routing_Tables/\n",
      ".........10/377.........20/377.........30/377.........40/377.........50/377.........60/377.........70/377.........80/377.........90/377.........100/377.........110/377.........120/377.........130/377.........140/377.........150/377.........160/377.........170/377.........180/377.........190/377.........200/377.........210/377.........220/377.........230/377.........240/377.........250/377.........260/377.........270/377.........280/377.........290/377.........300/377.........310/377.........320/377.........330/377.........340/377.........350/377.........360/377.........370/377......377/377\tDone!\n",
      "\tStep1:Calc as_path_len\n",
      "\tChosing the best as-path to count prepends...\n",
      "\tStep2:Verifying any_prepend\n",
      "\tStep3:Verifying nei_prepend\n",
      "\tStep4:Verifying origin_prepend\n",
      "Figure saved at /Users/bertholdo/PAPERS/asym/leandro/six_as6939.pdf\n"
     ]
    },
    {
     "data": {
      "image/png": "[encoded data removed]",
      "text/plain": [
       "<Figure size 432x288 with 1 Axes>"
      ]
     },
     "metadata": {},
     "output_type": "display_data"
    }
   ],
   "source": [
    "gen_6939_graphs('six', 0, labely=False, legend=False)"
   ]
  },
  {
   "cell_type": "code",
   "execution_count": null,
   "metadata": {},
   "outputs": [],
   "source": []
  },
  {
   "cell_type": "code",
   "execution_count": null,
   "metadata": {},
   "outputs": [],
   "source": []
  },
  {
   "cell_type": "markdown",
   "metadata": {},
   "source": [
    "### Generate  ALL {fig:as6939} (appendix) "
   ]
  },
  {
   "cell_type": "code",
   "execution_count": 22,
   "metadata": {},
   "outputs": [],
   "source": [
    "# for ixp in ixp_list:\n",
    "#     print (ixp)\n",
    "#     gen_6939_graphs(ixp, 0)"
   ]
  },
  {
   "cell_type": "code",
   "execution_count": 23,
   "metadata": {},
   "outputs": [
    {
     "name": "stdout",
     "output_type": "stream",
     "text": [
      "Loading files for LINX on /Users/bertholdo/tmp/Routing_Tables/\n",
      ".\tDone!\n",
      "\tStep1:Calc as_path_len\n",
      "\tChosing the best as-path to count prepends...\n",
      "\tStep2:Verifying any_prepend\n",
      "\tStep3:Verifying nei_prepend\n",
      "\tStep4:Verifying origin_prepend\n"
     ]
    },
    {
     "data": {
      "text/plain": [
       "count    88448.000000\n",
       "mean         4.003075\n",
       "std          2.269204\n",
       "min          1.000000\n",
       "25%          3.000000\n",
       "50%          3.000000\n",
       "75%          5.000000\n",
       "max         29.000000\n",
       "Name: as_path_len, dtype: float64"
      ]
     },
     "execution_count": 23,
     "metadata": {},
     "output_type": "execute_result"
    }
   ],
   "source": [
    "# MEAN AS-PATH size from AS6939 on SIX\n",
    "df=load_ixp('linx', '6939', max_samples=1)\n",
    "df['as_path_len'].describe()"
   ]
  },
  {
   "cell_type": "markdown",
   "metadata": {},
   "source": [
    "### Calculate MEAN/MAX as-path to all IXPS"
   ]
  },
  {
   "cell_type": "code",
   "execution_count": 24,
   "metadata": {},
   "outputs": [
    {
     "name": "stdout",
     "output_type": "stream",
     "text": [
      "Loading files for AMSIX on /Users/bertholdo/tmp/Routing_Tables/\n",
      ".........10/372.........20/372.........30/372.........40/372.........50/372\tDone!\n",
      "\tStep1:Calc as_path_len\n",
      "\tChosing the best as-path to count prepends...\n",
      "\tStep2:Verifying any_prepend\n",
      "\tStep3:Verifying nei_prepend\n",
      "\tStep4:Verifying origin_prepend\n",
      " Percentile 97.0% ON amsix ==> 10.0\n",
      "Loading files for SPOIXBR on /Users/bertholdo/tmp/Routing_Tables/\n",
      ".........10/327.........20/327.........30/327.........40/327.........50/327\tDone!\n",
      "\tStep1:Calc as_path_len\n",
      "\tChosing the best as-path to count prepends...\n",
      "\tStep2:Verifying any_prepend\n",
      "\tStep3:Verifying nei_prepend\n",
      "\tStep4:Verifying origin_prepend\n",
      " Percentile 97.0% ON spoixbr ==> 10.0\n",
      "Loading files for SIX on /Users/bertholdo/tmp/Routing_Tables/\n",
      ".........10/377.........20/377.........30/377.........40/377.........50/377\tDone!\n",
      "\tStep1:Calc as_path_len\n",
      "\tChosing the best as-path to count prepends...\n",
      "\tStep2:Verifying any_prepend\n",
      "\tStep3:Verifying nei_prepend\n",
      "\tStep4:Verifying origin_prepend\n",
      " Percentile 97.0% ON six ==> 10.0\n",
      "Loading files for LINX on /Users/bertholdo/tmp/Routing_Tables/\n",
      ".........10/375.........20/375.........30/375.........40/375.........50/375\tDone!\n",
      "\tStep1:Calc as_path_len\n",
      "\tChosing the best as-path to count prepends...\n",
      "\tStep2:Verifying any_prepend\n",
      "\tStep3:Verifying nei_prepend\n",
      "\tStep4:Verifying origin_prepend\n",
      " Percentile 97.0% ON linx ==> 10.0\n",
      "Loading files for POAIXBR on /Users/bertholdo/tmp/Routing_Tables/\n",
      ".........10/375.........20/375.........30/375.........40/375.........50/375\tDone!\n",
      "\tStep1:Calc as_path_len\n",
      "\tChosing the best as-path to count prepends...\n",
      "\tStep2:Verifying any_prepend\n",
      "\tStep3:Verifying nei_prepend\n",
      "\tStep4:Verifying origin_prepend\n",
      " Percentile 97.0% ON poaixbr ==> 11.0\n"
     ]
    }
   ],
   "source": [
    "# MAX/MEAN AS-PATH to all IXPs\n",
    "# (95% of all registers annoucemtns by one year on IXP is up to 10-as-path-long)\n",
    "for ixp in ixp_list:\n",
    "    percentile=0.97\n",
    "    df=load_ixp(ixp, 'open', max_samples=50)\n",
    "    print (f\" Percentile {percentile*100}% ON {ixp} ==> {df['as_path_len'].quantile(percentile)}\")\n",
    "    #display(df['as_path_len'].describe())"
   ]
  },
  {
   "cell_type": "markdown",
   "metadata": {},
   "source": [
    "### Generate all IXP prepend (best) analisys"
   ]
  },
  {
   "cell_type": "code",
   "execution_count": 25,
   "metadata": {},
   "outputs": [],
   "source": [
    "# # count IXPs prepends (best)\n",
    "# ixp='all'\n",
    "# option='best' #option='ban'\n",
    "# sample=0\n",
    "# if ixp=='all':\n",
    "#     for ixp in ixp_list:\n",
    "#         graph_who_is_prepending(ixp,option, sample)\n",
    "#         graph_prepend_noprepend_best(ixp, option,sample)        \n",
    "# else:\n",
    "#     graph_who_is_prepending(ixp,option,sample)\n",
    "#     graph_prepend_noprepend_best(ixp, option,sample)"
   ]
  },
  {
   "cell_type": "code",
   "execution_count": null,
   "metadata": {},
   "outputs": [],
   "source": []
  },
  {
   "cell_type": "markdown",
   "metadata": {},
   "source": [
    "### Generate AS3333 view"
   ]
  },
  {
   "cell_type": "code",
   "execution_count": 120,
   "metadata": {},
   "outputs": [
    {
     "name": "stdout",
     "output_type": "stream",
     "text": [
      "WARNING: Skipping [rrc00-as3333]... Remove file [/Users/bertholdo/ut_gitlab/asy_pathsize/dataset//rrc00-as3333_best_0_prepend.csv] to rebuild!\n",
      "Reading dataframe from file [/Users/bertholdo/ut_gitlab/asy_pathsize/dataset//rrc00-as3333_best_0_prepend.csv]\n",
      "Figure saved at /Users/bertholdo/PAPERS/asym/leandro/rrc00-as3333_best_prepend_vs_notprepend.pdf\n"
     ]
    },
    {
     "data": {
      "text/plain": [
       "<Figure size 864x288 with 0 Axes>"
      ]
     },
     "metadata": {},
     "output_type": "display_data"
    },
    {
     "data": {
      "image/png": "[encoded data removed]",
      "text/plain": [
       "<Figure size 432x288 with 1 Axes>"
      ]
     },
     "metadata": {},
     "output_type": "display_data"
    }
   ],
   "source": [
    "graph_prepend_noprepend_best('rrc00-as3333', 'best', 0, labely=False)#legend=False)#, , legend='center right')"
   ]
  },
  {
   "cell_type": "markdown",
   "metadata": {},
   "source": [
    "### Generate Table prepend {tab:prepend}"
   ]
  },
  {
   "cell_type": "code",
   "execution_count": 27,
   "metadata": {},
   "outputs": [
    {
     "name": "stdout",
     "output_type": "stream",
     "text": [
      "WARNING: Skipping... Reading dataframe from file [/Users/bertholdo/ut_gitlab/asy_pathsize/dataset//SUMMARY_best_0_prepend.csv]... Remove file to rebuild!\n",
      "\\begin{table}\n",
      "\\centering\n",
      "\\caption{Percentual analisys of IXP's prepended paths}\n",
      "\\label{tab:ixp-prepend}\n",
      "\\begin{tabular}{lrrrrr}\n",
      "\\toprule\n",
      "ixp & any\\_prep & nei\\_prep & origin\\_prep & nei\\_client & nei\\_origin \\\\\n",
      "\\midrule\n",
      "amsix & 26.52 & 20.52 & 17.86 & 16.57 & 8.52 \\\\\n",
      "linx & 28.91 & 23.43 & 17.94 & 19.74 & 9.21 \\\\\n",
      "poaixbr & 31.00 & 9.56 & 14.39 & 8.79 & 3.25 \\\\\n",
      "six & 30.19 & 11.96 & 22.10 & 5.22 & 24.29 \\\\\n",
      "spoixbr & 26.15 & 8.72 & 18.43 & 5.84 & 6.41 \\\\\n",
      "\\hline\n",
      "\\end{tabular}\n",
      "\\end{table}\n",
      "\n"
     ]
    },
    {
     "data": {
      "text/html": [
       "<div>\n",
       "<style scoped>\n",
       "    .dataframe tbody tr th:only-of-type {\n",
       "        vertical-align: middle;\n",
       "    }\n",
       "\n",
       "    .dataframe tbody tr th {\n",
       "        vertical-align: top;\n",
       "    }\n",
       "\n",
       "    .dataframe thead th {\n",
       "        text-align: right;\n",
       "    }\n",
       "</style>\n",
       "<table border=\"1\" class=\"dataframe\">\n",
       "  <thead>\n",
       "    <tr style=\"text-align: right;\">\n",
       "      <th></th>\n",
       "      <th>ixp</th>\n",
       "      <th>any\\_prep</th>\n",
       "      <th>nei\\_prep</th>\n",
       "      <th>origin\\_prep</th>\n",
       "      <th>nei\\_client</th>\n",
       "      <th>nei\\_origin</th>\n",
       "    </tr>\n",
       "  </thead>\n",
       "  <tbody>\n",
       "    <tr>\n",
       "      <th>0</th>\n",
       "      <td>amsix</td>\n",
       "      <td>26.52</td>\n",
       "      <td>20.515</td>\n",
       "      <td>17.86</td>\n",
       "      <td>16.57</td>\n",
       "      <td>8.52</td>\n",
       "    </tr>\n",
       "    <tr>\n",
       "      <th>1</th>\n",
       "      <td>linx</td>\n",
       "      <td>28.91</td>\n",
       "      <td>23.429</td>\n",
       "      <td>17.94</td>\n",
       "      <td>19.74</td>\n",
       "      <td>9.21</td>\n",
       "    </tr>\n",
       "    <tr>\n",
       "      <th>2</th>\n",
       "      <td>poaixbr</td>\n",
       "      <td>31.00</td>\n",
       "      <td>9.560</td>\n",
       "      <td>14.39</td>\n",
       "      <td>8.79</td>\n",
       "      <td>3.25</td>\n",
       "    </tr>\n",
       "    <tr>\n",
       "      <th>3</th>\n",
       "      <td>six</td>\n",
       "      <td>30.19</td>\n",
       "      <td>11.960</td>\n",
       "      <td>22.10</td>\n",
       "      <td>5.22</td>\n",
       "      <td>24.29</td>\n",
       "    </tr>\n",
       "    <tr>\n",
       "      <th>4</th>\n",
       "      <td>spoixbr</td>\n",
       "      <td>26.15</td>\n",
       "      <td>8.716</td>\n",
       "      <td>18.43</td>\n",
       "      <td>5.84</td>\n",
       "      <td>6.41</td>\n",
       "    </tr>\n",
       "  </tbody>\n",
       "</table>\n",
       "</div>"
      ],
      "text/plain": [
       "       ixp  any\\_prep  nei\\_prep  origin\\_prep  nei\\_client  nei\\_origin\n",
       "0    amsix      26.52     20.515         17.86        16.57         8.52\n",
       "1     linx      28.91     23.429         17.94        19.74         9.21\n",
       "2  poaixbr      31.00      9.560         14.39         8.79         3.25\n",
       "3      six      30.19     11.960         22.10         5.22        24.29\n",
       "4  spoixbr      26.15      8.716         18.43         5.84         6.41"
      ]
     },
     "metadata": {},
     "output_type": "display_data"
    },
    {
     "data": {
      "text/html": [
       "<div>\n",
       "<style scoped>\n",
       "    .dataframe tbody tr th:only-of-type {\n",
       "        vertical-align: middle;\n",
       "    }\n",
       "\n",
       "    .dataframe tbody tr th {\n",
       "        vertical-align: top;\n",
       "    }\n",
       "\n",
       "    .dataframe thead th {\n",
       "        text-align: right;\n",
       "    }\n",
       "</style>\n",
       "<table border=\"1\" class=\"dataframe\">\n",
       "  <thead>\n",
       "    <tr style=\"text-align: right;\">\n",
       "      <th></th>\n",
       "      <th>ixp</th>\n",
       "      <th>any\\_prep</th>\n",
       "      <th>nei\\_prep</th>\n",
       "      <th>origin\\_prep</th>\n",
       "      <th>nei\\_client</th>\n",
       "      <th>nei\\_origin</th>\n",
       "    </tr>\n",
       "  </thead>\n",
       "  <tbody>\n",
       "    <tr>\n",
       "      <th>0</th>\n",
       "      <td>amsix</td>\n",
       "      <td>26.52</td>\n",
       "      <td>20.515</td>\n",
       "      <td>17.86</td>\n",
       "      <td>16.57</td>\n",
       "      <td>8.52</td>\n",
       "    </tr>\n",
       "    <tr>\n",
       "      <th>1</th>\n",
       "      <td>linx</td>\n",
       "      <td>28.91</td>\n",
       "      <td>23.429</td>\n",
       "      <td>17.94</td>\n",
       "      <td>19.74</td>\n",
       "      <td>9.21</td>\n",
       "    </tr>\n",
       "    <tr>\n",
       "      <th>2</th>\n",
       "      <td>poaixbr</td>\n",
       "      <td>31.00</td>\n",
       "      <td>9.560</td>\n",
       "      <td>14.39</td>\n",
       "      <td>8.79</td>\n",
       "      <td>3.25</td>\n",
       "    </tr>\n",
       "    <tr>\n",
       "      <th>3</th>\n",
       "      <td>six</td>\n",
       "      <td>30.19</td>\n",
       "      <td>11.960</td>\n",
       "      <td>22.10</td>\n",
       "      <td>5.22</td>\n",
       "      <td>24.29</td>\n",
       "    </tr>\n",
       "    <tr>\n",
       "      <th>4</th>\n",
       "      <td>spoixbr</td>\n",
       "      <td>26.15</td>\n",
       "      <td>8.716</td>\n",
       "      <td>18.43</td>\n",
       "      <td>5.84</td>\n",
       "      <td>6.41</td>\n",
       "    </tr>\n",
       "  </tbody>\n",
       "</table>\n",
       "</div>"
      ],
      "text/plain": [
       "       ixp  any\\_prep  nei\\_prep  origin\\_prep  nei\\_client  nei\\_origin\n",
       "0    amsix      26.52     20.515         17.86        16.57         8.52\n",
       "1     linx      28.91     23.429         17.94        19.74         9.21\n",
       "2  poaixbr      31.00      9.560         14.39         8.79         3.25\n",
       "3      six      30.19     11.960         22.10         5.22        24.29\n",
       "4  spoixbr      26.15      8.716         18.43         5.84         6.41"
      ]
     },
     "execution_count": 27,
     "metadata": {},
     "output_type": "execute_result"
    }
   ],
   "source": [
    "gen_table_prepend()"
   ]
  },
  {
   "cell_type": "markdown",
   "metadata": {},
   "source": [
    "# Are ISPs  \"depreferring\" the IXP path?"
   ]
  },
  {
   "cell_type": "code",
   "execution_count": null,
   "metadata": {},
   "outputs": [],
   "source": []
  },
  {
   "cell_type": "markdown",
   "metadata": {},
   "source": [
    "# Test area"
   ]
  },
  {
   "cell_type": "markdown",
   "metadata": {},
   "source": [
    "### Mind SIX routing table issue in APR-MAI/2022  (investigate if needed)"
   ]
  },
  {
   "cell_type": "code",
   "execution_count": 28,
   "metadata": {},
   "outputs": [],
   "source": [
    "# SIX routing table issue in APR-MAI/2022  (investigate if needed)\n",
    "# Same POAIXBR in dez/2021\n",
    "# dsum=load_prepend_summary()\n",
    "# df=dsum.copy()\n",
    "# \n",
    "# df['sum']=df['perc_nei_prep_client']+df['perc_nei_prep_origin']\n",
    "# df['dif']=df['perc_any_prep_path']-df['sum']\n",
    "# df['a-o']=df['any_prep_path']-df['origin_prep']\n",
    "# df['zero']=df['any_prep_path']-df['origin_prep']-df['sum']\n",
    "# \n",
    "# df[df['dif']<-5]['dif'].describe()\n",
    "# \n",
    "# df['dif'].describe()\n",
    "# \n",
    "# df[df['dif']<-5]\n",
    "#\n",
    "# df[df['zero']<0]"
   ]
  },
  {
   "cell_type": "markdown",
   "metadata": {},
   "source": [
    "# Compare GLOBAL prefixes from AS3333 and AMSIX for ONE DAY \n",
    " <pre>\n",
    " Takeaway: When we compare individual prefixes annouced on IXP with the global routing table view from AS3333\n",
    " we notice more than 97% of direct connected AMSIX customers provides an equal (~71.46%) of shortest (~20.69%) \n",
    " as-path\n",
    " When we look at all prefixes annouced to the IXP we got equal(64.75%), and shortest(20.69%)\n",
    "</pre>"
   ]
  },
  {
   "cell_type": "code",
   "execution_count": 50,
   "metadata": {},
   "outputs": [],
   "source": [
    "def xx3_global_prefixes():\n",
    "    ixp=BGP_DATA+'2022-04-01_rtable_ALICERS_amsix.csv.gz'\n",
    "    #ixp=BGP_DATA+'2022-04-01_rtable_BIRD_spoixbr.csv.gz'\n",
    "    \n",
    "    as3333=BGP_DATA+'2022-04-01_rtable_GLOBAL_rrc00-as3333.csv.gz'\n",
    "    \n",
    "    # Load global and IXP\n",
    "    ix_df=pd.read_csv(ixp)\n",
    "    global_df=pd.read_csv(as3333)\n",
    "    \n",
    "    ix_name=ixp.split('_')[4].split('.')[0]\n",
    "    \n",
    "    # Count prepends \n",
    "    ix_df['any_prepend']=ix_df['AS_PATH'].parallel_apply(tem_prepend)\n",
    "    ix_df['as_path_len']=ix_df['AS_PATH'].parallel_apply(lambda x: len(str(x).split()))\n",
    "    global_df['any_prepend']=global_df['AS_PATH'].parallel_apply(tem_prepend)\n",
    "    global_df['as_path_len']=global_df['AS_PATH'].parallel_apply(lambda x: len(str(x).split()))\n",
    "    print (f'routes amsix[{len(ix_df)}]  global[{len(global_df)}]')\n",
    "    \n",
    "    # Filter prepended networks on ixp\n",
    "    lnet=ix_df[ix_df['any_prepend']==True]['NETWORK'].to_list()\n",
    "    # count num of ixp prepended but not global prepended\n",
    "    df=global_df[global_df['NETWORK'].isin(lnet)]\n",
    "    numP = len(df[df['any_prepend']==True])\n",
    "    numNP = len(df[df['any_prepend']==False])\n",
    "    print(f'ixp prefix Prepended also on global {numP}   Not prepended on global {numNP}')\n",
    "    \n",
    "    # Compare IXP and global by as-path size on same prefix\n",
    "    \n",
    "    # rename ix columns to merge\n",
    "    cix=ix_df.copy()\n",
    "    cix.columns = 'ix_' + cix.columns.values\n",
    "    \n",
    "    # join global and ixp as-paths\n",
    "    df=pd.merge(global_df[['NETWORK', 'AS_PATH', 'any_prepend', 'as_path_len']], \n",
    "                      cix[['ix_NETWORK','ix_AS_PATH','ix_any_prepend','ix_as_path_len','ix_as_neigh', 'ix_as_origin']], how=\"inner\", left_on = 'NETWORK', right_on = 'ix_NETWORK')\n",
    "    df=df[~df.isnull().any(1)]  #ignoring routes originated on AS3333(just 6 cases) global_df[global_df.isnull().any(1)]\n",
    "    \n",
    "    \n",
    "    # path len difference as3333 vs. IXP\n",
    "    total=  len(df)\n",
    "    equal=  df[df['as_path_len']==df['ix_as_path_len']]['NETWORK'].count()\n",
    "    bigger= df[(df['as_path_len']>df['ix_as_path_len'])]['NETWORK'].count()\n",
    "    smaller=df[(df['as_path_len']<df['ix_as_path_len'])]['NETWORK'].count()\n",
    "    #print (f'AS3333 have \\t{equal} equal as-paths length than {ix_name.upper()}, \\n\\t\\t{bigger} bigger, and \\n\\t\\t{smaller} smaller lenght')\n",
    "    print ('\\n=== Path len difference Global and IXP view ===')\n",
    "    print ('AS3333 have {} paths. \\n\\t{} {}% equal as-path length than {}, \\n\\t{} {}% IXP is shortest, and \\n\\t{} {}% IXP is longer '.format(\n",
    "        total, equal, round(equal/total*100,2), {ix_name.upper()},bigger, round(bigger/total*100,2), smaller, round(smaller/total*100,2) ))\n",
    "    \n",
    "    # path len difference as3333 vs. IXP - JUST DIRECTED CONNECTED AS-prefixes\n",
    "    # Obviously directed connected is the best path for >90% or equal >5%\n",
    "    total= len(df[(df['ix_as_neigh']==df['ix_as_origin'])])\n",
    "    equal=  df[(df['as_path_len']==df['ix_as_path_len']) & (df['ix_as_neigh']==df['ix_as_origin'])]['NETWORK'].count()\n",
    "    bigger= df[(df['as_path_len']>df['ix_as_path_len'])  & (df['ix_as_neigh']==df['ix_as_origin'])]['NETWORK'].count()\n",
    "    smaller=df[(df['as_path_len']<df['ix_as_path_len'])  & (df['ix_as_neigh']==df['ix_as_origin'])]['NETWORK'].count()\n",
    "    print ('\\n=== Path len difference of Global and directed connected AS-prefixes ===')\n",
    "    print ('AS3333 have {} paths. \\n\\t{} {}% equal as-path length than {}, \\n\\t{} {} IXP is shortest, and \\n\\t{} {} IXP is longer '.format(\n",
    "        total, equal, round(equal/total*100,2), {ix_name.upper()},bigger, round(bigger/total*100,2), smaller, round(smaller/total*100,2) ))"
   ]
  },
  {
   "cell_type": "code",
   "execution_count": 51,
   "metadata": {},
   "outputs": [
    {
     "data": {
      "text/plain": [
       "<function __main__.xx3_global_prefixes()>"
      ]
     },
     "execution_count": 51,
     "metadata": {},
     "output_type": "execute_result"
    }
   ],
   "source": [
    "xx3_global_prefixes"
   ]
  },
  {
   "cell_type": "code",
   "execution_count": null,
   "metadata": {},
   "outputs": [],
   "source": []
  },
  {
   "cell_type": "code",
   "execution_count": null,
   "metadata": {},
   "outputs": [],
   "source": []
  },
  {
   "cell_type": "code",
   "execution_count": 30,
   "metadata": {},
   "outputs": [],
   "source": [
    "#df=pd.read_csv('/Users/bertholdo/tmp/Routing_Tables/2022-05-05_rtable_ALICE_linx.csv.gz')\n",
    "#df.groupby('as_neigh').count().sort_values('NETWORK', ascending=False)"
   ]
  },
  {
   "cell_type": "code",
   "execution_count": null,
   "metadata": {},
   "outputs": [],
   "source": [
    "\n"
   ]
  },
  {
   "cell_type": "code",
   "execution_count": null,
   "metadata": {},
   "outputs": [],
   "source": []
  },
  {
   "cell_type": "markdown",
   "metadata": {},
   "source": [
    "# TEST"
   ]
  },
  {
   "cell_type": "code",
   "execution_count": 32,
   "metadata": {},
   "outputs": [
    {
     "name": "stdout",
     "output_type": "stream",
     "text": [
      "WARNING: Skipping... Reading dataframe from file [/Users/bertholdo/ut_gitlab/asy_pathsize/dataset//SUMMARY_best_0_prepend.csv]... Remove file to rebuild!\n"
     ]
    },
    {
     "data": {
      "text/html": [
       "<div>\n",
       "<style scoped>\n",
       "    .dataframe tbody tr th:only-of-type {\n",
       "        vertical-align: middle;\n",
       "    }\n",
       "\n",
       "    .dataframe tbody tr th {\n",
       "        vertical-align: top;\n",
       "    }\n",
       "\n",
       "    .dataframe thead th {\n",
       "        text-align: right;\n",
       "    }\n",
       "</style>\n",
       "<table border=\"1\" class=\"dataframe\">\n",
       "  <thead>\n",
       "    <tr style=\"text-align: right;\">\n",
       "      <th></th>\n",
       "      <th>day</th>\n",
       "      <th>ixp</th>\n",
       "      <th>tot_paths</th>\n",
       "      <th>any_prep_path</th>\n",
       "      <th>origin_prep</th>\n",
       "      <th>tot_origin_customer</th>\n",
       "      <th>nei_prep_all</th>\n",
       "      <th>nei_prep_origin</th>\n",
       "      <th>nei_prep_client</th>\n",
       "      <th>perc_any_prep_path</th>\n",
       "      <th>perc_origin_prep</th>\n",
       "      <th>perc_origin_customer</th>\n",
       "      <th>perc_nei_prep_origin</th>\n",
       "      <th>perc_nei_prep_client</th>\n",
       "    </tr>\n",
       "  </thead>\n",
       "  <tbody>\n",
       "    <tr>\n",
       "      <th>0</th>\n",
       "      <td>2022-05-20</td>\n",
       "      <td>spoixbr</td>\n",
       "      <td>174206</td>\n",
       "      <td>45007</td>\n",
       "      <td>31090</td>\n",
       "      <td>19123</td>\n",
       "      <td>4119</td>\n",
       "      <td>1241</td>\n",
       "      <td>2878</td>\n",
       "      <td>25.84</td>\n",
       "      <td>17.85</td>\n",
       "      <td>10.98</td>\n",
       "      <td>6.49</td>\n",
       "      <td>6.39</td>\n",
       "    </tr>\n",
       "    <tr>\n",
       "      <th>1</th>\n",
       "      <td>2022-05-20</td>\n",
       "      <td>six</td>\n",
       "      <td>134783</td>\n",
       "      <td>39960</td>\n",
       "      <td>28550</td>\n",
       "      <td>10633</td>\n",
       "      <td>4627</td>\n",
       "      <td>2613</td>\n",
       "      <td>2014</td>\n",
       "      <td>29.65</td>\n",
       "      <td>21.18</td>\n",
       "      <td>7.89</td>\n",
       "      <td>24.57</td>\n",
       "      <td>5.04</td>\n",
       "    </tr>\n",
       "  </tbody>\n",
       "</table>\n",
       "</div>"
      ],
      "text/plain": [
       "          day      ixp  tot_paths  any_prep_path  origin_prep  \\\n",
       "0  2022-05-20  spoixbr     174206          45007        31090   \n",
       "1  2022-05-20      six     134783          39960        28550   \n",
       "\n",
       "   tot_origin_customer  nei_prep_all  nei_prep_origin  nei_prep_client  \\\n",
       "0                19123          4119             1241             2878   \n",
       "1                10633          4627             2613             2014   \n",
       "\n",
       "   perc_any_prep_path  perc_origin_prep  perc_origin_customer  \\\n",
       "0               25.84             17.85                 10.98   \n",
       "1               29.65             21.18                  7.89   \n",
       "\n",
       "   perc_nei_prep_origin  perc_nei_prep_client  \n",
       "0                  6.49                  6.39  \n",
       "1                 24.57                  5.04  "
      ]
     },
     "execution_count": 32,
     "metadata": {},
     "output_type": "execute_result"
    }
   ],
   "source": [
    "df=load_prepend_summary(['amsix', 'spoixbr', 'six', 'linx', 'poaixbr'],'best',0)\n",
    "df.head(2)"
   ]
  },
  {
   "cell_type": "code",
   "execution_count": 33,
   "metadata": {},
   "outputs": [
    {
     "data": {
      "text/plain": [
       "Index(['day', 'ixp', 'tot_paths', 'any_prep_path', 'origin_prep',\n",
       "       'tot_origin_customer', 'nei_prep_all', 'nei_prep_origin',\n",
       "       'nei_prep_client', 'perc_any_prep_path', 'perc_origin_prep',\n",
       "       'perc_origin_customer', 'perc_nei_prep_origin', 'perc_nei_prep_client'],\n",
       "      dtype='object')"
      ]
     },
     "execution_count": 33,
     "metadata": {},
     "output_type": "execute_result"
    }
   ],
   "source": [
    "df.columns"
   ]
  },
  {
   "cell_type": "code",
   "execution_count": 70,
   "metadata": {},
   "outputs": [
    {
     "name": "stdout",
     "output_type": "stream",
     "text": [
      "WARNING: Skipping... Reading dataframe from file [/Users/bertholdo/ut_gitlab/asy_pathsize/dataset//SUMMARY_best_0_prepend.csv]... Remove file to rebuild!\n"
     ]
    },
    {
     "data": {
      "text/html": [
       "<div>\n",
       "<style scoped>\n",
       "    .dataframe tbody tr th:only-of-type {\n",
       "        vertical-align: middle;\n",
       "    }\n",
       "\n",
       "    .dataframe tbody tr th {\n",
       "        vertical-align: top;\n",
       "    }\n",
       "\n",
       "    .dataframe thead th {\n",
       "        text-align: right;\n",
       "    }\n",
       "</style>\n",
       "<table border=\"1\" class=\"dataframe\">\n",
       "  <thead>\n",
       "    <tr style=\"text-align: right;\">\n",
       "      <th></th>\n",
       "      <th>day</th>\n",
       "      <th>tot_paths</th>\n",
       "      <th>any_prep_path</th>\n",
       "      <th>origin_prep</th>\n",
       "      <th>tot_origin_customer</th>\n",
       "      <th>nei_prep_all</th>\n",
       "      <th>nei_prep_origin</th>\n",
       "    </tr>\n",
       "  </thead>\n",
       "  <tbody>\n",
       "    <tr>\n",
       "      <th>3</th>\n",
       "      <td>2022-05-20</td>\n",
       "      <td>248863</td>\n",
       "      <td>67567</td>\n",
       "      <td>41102</td>\n",
       "      <td>28511</td>\n",
       "      <td>15477</td>\n",
       "      <td>1957</td>\n",
       "    </tr>\n",
       "    <tr>\n",
       "      <th>8</th>\n",
       "      <td>2022-05-19</td>\n",
       "      <td>247844</td>\n",
       "      <td>66286</td>\n",
       "      <td>40837</td>\n",
       "      <td>28393</td>\n",
       "      <td>14043</td>\n",
       "      <td>1946</td>\n",
       "    </tr>\n",
       "  </tbody>\n",
       "</table>\n",
       "</div>"
      ],
      "text/plain": [
       "         day  tot_paths  any_prep_path  origin_prep  tot_origin_customer  \\\n",
       "3 2022-05-20     248863          67567        41102                28511   \n",
       "8 2022-05-19     247844          66286        40837                28393   \n",
       "\n",
       "   nei_prep_all  nei_prep_origin  \n",
       "3         15477             1957  \n",
       "8         14043             1946  "
      ]
     },
     "metadata": {},
     "output_type": "display_data"
    },
    {
     "data": {
      "text/plain": [
       "<AxesSubplot:xlabel='day'>"
      ]
     },
     "execution_count": 70,
     "metadata": {},
     "output_type": "execute_result"
    },
    {
     "data": {
      "image/png": "[encoded data removed]",
      "text/plain": [
       "<Figure size 432x288 with 1 Axes>"
      ]
     },
     "metadata": {},
     "output_type": "display_data"
    }
   ],
   "source": [
    "ixp='linx'\n",
    "df=load_prepend_summary(['amsix', 'spoixbr', 'six', 'linx', 'poaixbr'],'best',0)\n",
    "df=df[df['ixp']==ixp]\n",
    "df = df[['day', 'tot_paths', 'any_prep_path', 'origin_prep',\n",
    "       'tot_origin_customer', 'nei_prep_all', 'nei_prep_origin']]\n",
    "df['day']=pd.to_datetime(df['day'])\n",
    "display(df.head(2))\n",
    "df.plot.line(x='day')"
   ]
  },
  {
   "cell_type": "code",
   "execution_count": 66,
   "metadata": {},
   "outputs": [],
   "source": [
    "\n"
   ]
  },
  {
   "cell_type": "code",
   "execution_count": null,
   "metadata": {},
   "outputs": [],
   "source": []
  }
 ],
 "metadata": {
  "kernelspec": {
   "display_name": "Python 3 (ipykernel)",
   "language": "python",
   "name": "python3"
  },
  "language_info": {
   "codemirror_mode": {
    "name": "ipython",
    "version": 3
   },
   "file_extension": ".py",
   "mimetype": "text/x-python",
   "name": "python",
   "nbconvert_exporter": "python",
   "pygments_lexer": "ipython3",
   "version": "3.8.5"
  }
 },
 "nbformat": 4,
 "nbformat_minor": 4
}

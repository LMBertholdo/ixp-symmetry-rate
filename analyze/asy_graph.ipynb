{
 "cells": [
  {
   "cell_type": "markdown",
   "id": "66f996e0-6b30-4afd-acd0-fcbd9a1ecd05",
   "metadata": {},
   "source": [
    "# Create Graph from asy results"
   ]
  },
  {
   "cell_type": "code",
   "execution_count": 1,
   "id": "1cb8ab82-f856-4365-862a-4680b80715ad",
   "metadata": {},
   "outputs": [],
   "source": [
    "import pandas as pd\n",
    "import numpy as np\n",
    "import seaborn as sns\n",
    "import plotly \n",
    "import plotly.graph_objs as go\n",
    "import plotly.express as px\n",
    "from IPython.display import HTML\n",
    "from IPython.display import display\n",
    "import os\n",
    "import re\n",
    "import glob\n",
    "import fnmatch\n",
    "from datetime import date, datetime\n",
    "\n",
    "import matplotlib.pyplot as plt\n",
    "from matplotlib import rcParams\n",
    "import seaborn as sns\n",
    "import timeit\n",
    "\n",
    "from pandarallel import pandarallel\n",
    "import argparse\n",
    "import sys"
   ]
  },
  {
   "cell_type": "code",
   "execution_count": 2,
   "id": "e69838a7-60ad-4a4a-9854-642004478514",
   "metadata": {},
   "outputs": [],
   "source": [
    "import collections\n",
    "\n",
    "import numpy as np\n",
    "import pandas as pd\n",
    "from pandas import *\n",
    "from numpy import int64,float64\n",
    "\n",
    "import os\n",
    "import sys\n",
    "import glob\n",
    "import subprocess\n",
    "import paramiko\n",
    "import time\n",
    "from datetime import datetime, timedelta, date\n",
    "\n",
    "import seaborn as sns\n",
    "import plotly \n",
    "import plotly.graph_objs as go\n",
    "from IPython.display import HTML\n",
    "import plotly.io as pio\n",
    "pio.renderers.default='iframe'  # Dont forget: to use plotly MUST set\n",
    "import plotly.express as px\n",
    "import matplotlib.pyplot as plt\n",
    "\n",
    "\n",
    "import re\n",
    "import json\n",
    "from pprint import pprint\n",
    "import requests\n",
    "import cfscrape\n",
    "from lxml import etree\n",
    "from bs4 import BeautifulSoup\n",
    "import requests\n",
    "from pandas.io.json import json_normalize\n",
    "\n",
    "# import pyspark\n",
    "# from pyspark.sql.types import *\n",
    "# import pyspark.sql.functions as F\n",
    "# from pyspark.sql.functions import input_file_name, regexp_extract, split, col, lit, udf \n",
    "# import functools"
   ]
  },
  {
   "cell_type": "markdown",
   "id": "c957a25f-83fb-475a-8b96-78e8cd52f476",
   "metadata": {},
   "source": [
    "# GLOBALS"
   ]
  },
  {
   "cell_type": "code",
   "execution_count": 3,
   "id": "3651d491-3330-492f-a8a1-fb805ab2acd1",
   "metadata": {},
   "outputs": [],
   "source": [
    "RES=\"results/result_table_ases_up_and_open.csv\"\n",
    "CLASSIF='results/as_classification.csv'\n",
    "IMG='/Users/bertholdo/PAPERS/asym/leandro/'"
   ]
  },
  {
   "cell_type": "code",
   "execution_count": 4,
   "id": "0bc5b7be-1a85-42c5-99b4-fca24ba0222e",
   "metadata": {},
   "outputs": [],
   "source": [
    "pd.set_option('display.max_rows', 20)"
   ]
  },
  {
   "cell_type": "markdown",
   "id": "ee4ff1f1-7bd9-4e62-9b58-3b3ab8207e5d",
   "metadata": {},
   "source": [
    "# FUNCTIONS"
   ]
  },
  {
   "cell_type": "code",
   "execution_count": 5,
   "id": "f39a3e0e-9da3-4275-bfa1-3d7fa9b753c7",
   "metadata": {},
   "outputs": [],
   "source": [
    "def result_view(tipo, netasn, pfxsize):\n",
    "    '''return a dataframe with result_table view based on:\n",
    "    tipo: asy,any,exc\n",
    "    netasn: net, asn\n",
    "    pfxsize: 24,23\n",
    "    usage: result_view('asy','asn','24')\n",
    "    NOte ASN will also return qt_onlydiscard() and qt_ans_nonetworks(not mapped AS on verfploter)\n",
    "    '''\n",
    "    \n",
    "\n",
    "    # Read result_table just fist time\n",
    "    global dfall\n",
    "    if 'dfall' not in globals():\n",
    "        print (f'Reading {RES}')\n",
    "        dfall=pd.read_csv(RES)\n",
    "        dfall['date'] = pd.to_datetime(dfall['date']).dt.date\n",
    "        dfall=dfall.fillna(0)\n",
    "    \n",
    "    # select columns\n",
    "    method = tipo+pfxsize\n",
    "    df = dfall[dfall['method']==method]\n",
    "    select=['_'+netasn, pfxsize]\n",
    "    col=['ixp','date']\n",
    "    col.extend([col for col in df.columns if all(x in col for x  in select) ])\n",
    "    #col=[x for x in col if not x.startswith('qt_asn_nonetworks') and not x.startswith('qt_asn_onlydiscard')]\n",
    "    col=[x for x in col]\n",
    "    \n",
    "    return df[col]"
   ]
  },
  {
   "cell_type": "code",
   "execution_count": null,
   "id": "4a07316b-2c32-4cba-8896-61fb9f028ced",
   "metadata": {},
   "outputs": [],
   "source": []
  },
  {
   "cell_type": "markdown",
   "id": "8dac4b98-9e72-452f-a39c-2d18e5b1ebfa",
   "metadata": {},
   "source": [
    "# MAIN"
   ]
  },
  {
   "cell_type": "markdown",
   "id": "9ac6cf71-3f79-4516-a118-047d81585f2c",
   "metadata": {
    "tags": []
   },
   "source": [
    "# Check samples"
   ]
  },
  {
   "cell_type": "markdown",
   "id": "581f6cd5-bcfe-46ad-ab8b-26736c8494e6",
   "metadata": {},
   "source": [
    "## By ASN-24"
   ]
  },
  {
   "cell_type": "code",
   "execution_count": 6,
   "id": "f27c4028-ed60-4fc2-b6e4-18901993c18a",
   "metadata": {},
   "outputs": [
    {
     "name": "stdout",
     "output_type": "stream",
     "text": [
      "Reading results/result_table_ases_up_and_open.csv\n"
     ]
    },
    {
     "data": {
      "text/plain": [
       "<AxesSubplot:xlabel='date'>"
      ]
     },
     "execution_count": 6,
     "metadata": {},
     "output_type": "execute_result"
    },
    {
     "data": {
      "image/png": "[encoded data removed]",
      "text/plain": [
       "<Figure size 864x288 with 1 Axes>"
      ]
     },
     "metadata": {
      "needs_background": "light"
     },
     "output_type": "display_data"
    }
   ],
   "source": [
    "df=result_view('asy','asn','24')\n",
    "\n",
    "df=df[['date', 'ixp', 'nei_asn24']]\n",
    "data=df.pivot(index='date',columns='ixp')['nei_asn24']\n",
    "data.plot(figsize=(12, 4))"
   ]
  },
  {
   "cell_type": "markdown",
   "id": "fbfbcbeb-3a6c-46d5-892e-e66c23474cf7",
   "metadata": {},
   "source": [
    "## By NET-24"
   ]
  },
  {
   "cell_type": "code",
   "execution_count": 7,
   "id": "fbd50873-12b3-4030-8f0c-0001c0d875f9",
   "metadata": {},
   "outputs": [
    {
     "data": {
      "text/plain": [
       "<AxesSubplot:xlabel='date'>"
      ]
     },
     "execution_count": 7,
     "metadata": {},
     "output_type": "execute_result"
    },
    {
     "data": {
      "image/png": "[encoded data removed]",
      "text/plain": [
       "<Figure size 864x288 with 1 Axes>"
      ]
     },
     "metadata": {
      "needs_background": "light"
     },
     "output_type": "display_data"
    }
   ],
   "source": [
    "df=result_view('asy','net','24')\n",
    "\n",
    "df=df[['date', 'ixp', 'nei_net24']]\n",
    "data=df.pivot(index='date',columns='ixp')['nei_net24']\n",
    "data.plot(figsize=(12, 4))"
   ]
  },
  {
   "cell_type": "markdown",
   "id": "1d5833bb-2985-469b-87e0-60b91f563de3",
   "metadata": {},
   "source": [
    "# Table of symmetry by ASN"
   ]
  },
  {
   "cell_type": "markdown",
   "id": "4c7007cd-96ab-4915-89a6-fe21c8f7c218",
   "metadata": {},
   "source": [
    "# Full ixp symmetry (considering just one sample)"
   ]
  },
  {
   "cell_type": "markdown",
   "id": "21427ac5-f585-4959-bf07-fc7957733a07",
   "metadata": {},
   "source": [
    "#### FULL NET"
   ]
  },
  {
   "cell_type": "code",
   "execution_count": 8,
   "id": "15dc6abb-a88d-4179-9ee5-4a84e18cec95",
   "metadata": {},
   "outputs": [
    {
     "name": "stdout",
     "output_type": "stream",
     "text": [
      "\\begin{table}\n",
      "\\centering\n",
      "\\label{tab:percent-net}\n",
      "\\begin{tabular}{lrrrrrrrr}\n",
      "\\toprule\n",
      " & \\multicolumn{4}{r}{24} & \\multicolumn{4}{r}{23} \\\\\n",
      " & nei-net & perc-sym & perc-in & perc-out & nei-net & perc-sym & perc-in & perc-out \\\\\n",
      "ixp &  &  &  &  &  &  &  &  \\\\\n",
      "\\midrule\n",
      "amsix & 795,584.0 & 55.2 & 22.4 & 22.4 & 658,425.0 & 41.4 & 18.3 & 40.3 \\\\\n",
      "linx & 958,614.0 & 30.3 & 34.4 & 35.3 & 839,548.0 & 22.1 & 26.5 & 51.3 \\\\\n",
      "poaixbr & 50,945.0 & 38.0 & 37.8 & 24.2 & 46,993.0 & 35.4 & 32.5 & 32.1 \\\\\n",
      "\\hline\n",
      "\\end{tabular}\n",
      "\\end{table}\n",
      "\n"
     ]
    },
    {
     "data": {
      "text/html": [
       "<style type=\"text/css\">\n",
       "#T_37bf7 toprule {\n",
       "  : toprule;\n",
       "}\n",
       "#T_37bf7 midrule {\n",
       "  : midrule;\n",
       "}\n",
       "#T_37bf7 bottomrule {\n",
       "  : hline;\n",
       "}\n",
       "#T_37bf7 th {\n",
       "  text-align: center;\n",
       "}\n",
       "</style>\n",
       "<table id=\"T_37bf7\">\n",
       "  <thead>\n",
       "    <tr>\n",
       "      <th class=\"blank level0\" >&nbsp;</th>\n",
       "      <th id=\"T_37bf7_level0_col0\" class=\"col_heading level0 col0\" colspan=\"4\">24</th>\n",
       "      <th id=\"T_37bf7_level0_col4\" class=\"col_heading level0 col4\" colspan=\"4\">23</th>\n",
       "    </tr>\n",
       "    <tr>\n",
       "      <th class=\"blank level1\" >&nbsp;</th>\n",
       "      <th id=\"T_37bf7_level1_col0\" class=\"col_heading level1 col0\" >nei-net</th>\n",
       "      <th id=\"T_37bf7_level1_col1\" class=\"col_heading level1 col1\" >perc-sym</th>\n",
       "      <th id=\"T_37bf7_level1_col2\" class=\"col_heading level1 col2\" >perc-in</th>\n",
       "      <th id=\"T_37bf7_level1_col3\" class=\"col_heading level1 col3\" >perc-out</th>\n",
       "      <th id=\"T_37bf7_level1_col4\" class=\"col_heading level1 col4\" >nei-net</th>\n",
       "      <th id=\"T_37bf7_level1_col5\" class=\"col_heading level1 col5\" >perc-sym</th>\n",
       "      <th id=\"T_37bf7_level1_col6\" class=\"col_heading level1 col6\" >perc-in</th>\n",
       "      <th id=\"T_37bf7_level1_col7\" class=\"col_heading level1 col7\" >perc-out</th>\n",
       "    </tr>\n",
       "    <tr>\n",
       "      <th class=\"index_name level0\" >ixp</th>\n",
       "      <th class=\"blank col0\" >&nbsp;</th>\n",
       "      <th class=\"blank col1\" >&nbsp;</th>\n",
       "      <th class=\"blank col2\" >&nbsp;</th>\n",
       "      <th class=\"blank col3\" >&nbsp;</th>\n",
       "      <th class=\"blank col4\" >&nbsp;</th>\n",
       "      <th class=\"blank col5\" >&nbsp;</th>\n",
       "      <th class=\"blank col6\" >&nbsp;</th>\n",
       "      <th class=\"blank col7\" >&nbsp;</th>\n",
       "    </tr>\n",
       "  </thead>\n",
       "  <tbody>\n",
       "    <tr>\n",
       "      <th id=\"T_37bf7_level0_row0\" class=\"row_heading level0 row0\" >amsix</th>\n",
       "      <td id=\"T_37bf7_row0_col0\" class=\"data row0 col0\" >795,584.00</td>\n",
       "      <td id=\"T_37bf7_row0_col1\" class=\"data row0 col1\" >55.19</td>\n",
       "      <td id=\"T_37bf7_row0_col2\" class=\"data row0 col2\" >22.38</td>\n",
       "      <td id=\"T_37bf7_row0_col3\" class=\"data row0 col3\" >22.43</td>\n",
       "      <td id=\"T_37bf7_row0_col4\" class=\"data row0 col4\" >658,425.00</td>\n",
       "      <td id=\"T_37bf7_row0_col5\" class=\"data row0 col5\" >41.40</td>\n",
       "      <td id=\"T_37bf7_row0_col6\" class=\"data row0 col6\" >18.32</td>\n",
       "      <td id=\"T_37bf7_row0_col7\" class=\"data row0 col7\" >40.28</td>\n",
       "    </tr>\n",
       "    <tr>\n",
       "      <th id=\"T_37bf7_level0_row1\" class=\"row_heading level0 row1\" >linx</th>\n",
       "      <td id=\"T_37bf7_row1_col0\" class=\"data row1 col0\" >958,614.00</td>\n",
       "      <td id=\"T_37bf7_row1_col1\" class=\"data row1 col1\" >30.26</td>\n",
       "      <td id=\"T_37bf7_row1_col2\" class=\"data row1 col2\" >34.43</td>\n",
       "      <td id=\"T_37bf7_row1_col3\" class=\"data row1 col3\" >35.30</td>\n",
       "      <td id=\"T_37bf7_row1_col4\" class=\"data row1 col4\" >839,548.00</td>\n",
       "      <td id=\"T_37bf7_row1_col5\" class=\"data row1 col5\" >22.13</td>\n",
       "      <td id=\"T_37bf7_row1_col6\" class=\"data row1 col6\" >26.53</td>\n",
       "      <td id=\"T_37bf7_row1_col7\" class=\"data row1 col7\" >51.33</td>\n",
       "    </tr>\n",
       "    <tr>\n",
       "      <th id=\"T_37bf7_level0_row2\" class=\"row_heading level0 row2\" >poaixbr</th>\n",
       "      <td id=\"T_37bf7_row2_col0\" class=\"data row2 col0\" >50,945.00</td>\n",
       "      <td id=\"T_37bf7_row2_col1\" class=\"data row2 col1\" >38.04</td>\n",
       "      <td id=\"T_37bf7_row2_col2\" class=\"data row2 col2\" >37.78</td>\n",
       "      <td id=\"T_37bf7_row2_col3\" class=\"data row2 col3\" >24.19</td>\n",
       "      <td id=\"T_37bf7_row2_col4\" class=\"data row2 col4\" >46,993.00</td>\n",
       "      <td id=\"T_37bf7_row2_col5\" class=\"data row2 col5\" >35.39</td>\n",
       "      <td id=\"T_37bf7_row2_col6\" class=\"data row2 col6\" >32.48</td>\n",
       "      <td id=\"T_37bf7_row2_col7\" class=\"data row2 col7\" >32.14</td>\n",
       "    </tr>\n",
       "  </tbody>\n",
       "</table>\n"
      ],
      "text/plain": [
       "<pandas.io.formats.style.Styler at 0x12efa4a60>"
      ]
     },
     "execution_count": 8,
     "metadata": {},
     "output_type": "execute_result"
    }
   ],
   "source": [
    "# Network asymmetry for all (not just neighbors) \n",
    "df=result_view('full','net','23')\n",
    "df=df.loc[:, df.columns!='date']\n",
    "df=df.groupby('ixp').agg('median') #agg(['mean','std'])\n",
    "df=df.sort_values('ixp')\n",
    "full23=df\n",
    "\n",
    "pc=pd.DataFrame()\n",
    "pc['sym23']  = round( df['qt_net_sym23']/df['nei_net23']*100 ,2)\n",
    "pc['asy23-in'] = round( df['qt_net_asy23_in']/df['nei_net23']*100 ,2)\n",
    "pc['asy23-out']= round( df['qt_net_asy23_out']/df['nei_net23']*100 ,2)\n",
    "pfull23=pc\n",
    "\n",
    "df=result_view('full','net','24')\n",
    "df=df.loc[:, df.columns!='date']\n",
    "df=df.groupby('ixp').agg('median') #agg(['mean','std'])\n",
    "df=df.sort_values('ixp')\n",
    "full24=df\n",
    "pc=pd.DataFrame()\n",
    "pc['sym24']  = round( df['qt_net_sym24']/df['nei_net24']*100 ,2)\n",
    "pc['asy24-in'] = round( df['qt_net_asy24_in']/df['nei_net24']*100 ,2)\n",
    "pc['asy24-out']= round( df['qt_net_asy24_out']/df['nei_net24']*100 ,2)\n",
    "pfull24=pc\n",
    "\n",
    "# join numbers and percentage\n",
    "df=pfull23.join(pfull24).join(full23).join(full24)\n",
    "\n",
    "# order columns\n",
    "#df=df[['nei_net24',  'qt_net_sym24','sym24',  'qt_net_asy24_in','asy24-in',  'qt_net_asy24_out','asy24-out',\n",
    "#       'nei_net23',  'qt_net_sym23','sym23',  'qt_net_asy23_in','asy23-in',  'qt_net_asy23_out','asy23-out' ]]\n",
    "df=df[['nei_net24',  'sym24',  'asy24-in',  'asy24-out',\n",
    "       'nei_net23',  'sym23',  'asy23-in',  'asy23-out' ]]\n",
    "\n",
    "\n",
    "\n",
    "# rename for multiIndexing\n",
    "col=dict({'nei_net24'\t\t  :'24-nei-net',\n",
    "         'nei_net23'\t\t  :'23-nei-net', \n",
    "         'qt_net_sym24'\t      :'24-nei-sym',\n",
    "         'qt_net_sym23'\t      :'23-nei-sym', \n",
    "         'qt_net_asy24_in'    :'24-only-in',\n",
    "         'qt_net_asy23_in'    :'23-only-in', \n",
    "         'qt_net_asy24_out'   :'24-only-out',\n",
    "         'qt_net_asy23_out'   :'23-only-out',\n",
    "         'sym23'              :'23-perc-sym',\n",
    "         'asy23-in'           :'23-perc-in',\n",
    "         'asy23-out'          :'23-perc-out',\n",
    "         'sym24'              :'24-perc-sym',\n",
    "         'asy24-in'           :'24-perc-in',\n",
    "         'asy24-out'          :'24-perc-out',          \n",
    "         })\n",
    "df=df.rename(columns=col).sort_index()\n",
    "\n",
    "d=df.set_axis( df.columns.str.split('-',1,expand=True), axis='columns', inplace=False )#.swaplevel(0,1, axis='columns')#.reset_index()\n",
    "d.stack(0).swaplevel(0,1, axis='rows').T\n",
    "\n",
    "\n",
    "print( d.style\n",
    "      .set_table_styles([\n",
    "                         {'selector': 'toprule', 'props': ':toprule;'},\n",
    "                         {'selector': 'midrule', 'props': ':midrule;'},\n",
    "                         {'selector': 'bottomrule', 'props': ':hline;'},\n",
    "                         #{'selector': 'th', 'props':[('text-align', 'center')]}, # does not work\n",
    "                        ], overwrite=False)\n",
    "      .format(precision=1, thousands=\",\")   #precision 1 because of median on nets - sometimes 0.5\n",
    "      #.hide(axis='index')\n",
    "      .to_latex(position_float=\"centering\", label=\"tab:percent-net\") \n",
    "     )\n",
    "\n",
    "d.style\\\n",
    "      .set_table_styles([\n",
    "                         {'selector': 'toprule', 'props': ':toprule;'},\n",
    "                         {'selector': 'midrule', 'props': ':midrule;'},\n",
    "                         {'selector': 'bottomrule', 'props': ':hline;'},\n",
    "                         {'selector': 'th', 'props':[('text-align', 'center')]},\n",
    "                        ], overwrite=False)\\\n",
    "      .format(precision=2, thousands=\",\")   #precision 1 because of median on nets - sometimes 0.5\n",
    "      #.hide(axis='index')\n",
    "      #.to_latex(position_float=\"centering\", label=\"tab:percent-net\") "
   ]
  },
  {
   "cell_type": "markdown",
   "id": "71995038-72f7-440f-87bc-bf73d175050f",
   "metadata": {},
   "source": [
    "#### FULL ASN"
   ]
  },
  {
   "cell_type": "code",
   "execution_count": 9,
   "id": "587802ac-fe82-47a2-85c8-59a1140f7745",
   "metadata": {},
   "outputs": [
    {
     "data": {
      "text/html": [
       "<div>\n",
       "<style scoped>\n",
       "    .dataframe tbody tr th:only-of-type {\n",
       "        vertical-align: middle;\n",
       "    }\n",
       "\n",
       "    .dataframe tbody tr th {\n",
       "        vertical-align: top;\n",
       "    }\n",
       "\n",
       "    .dataframe thead th {\n",
       "        text-align: right;\n",
       "    }\n",
       "</style>\n",
       "<table border=\"1\" class=\"dataframe\">\n",
       "  <thead>\n",
       "    <tr style=\"text-align: right;\">\n",
       "      <th></th>\n",
       "      <th>nei_asn23</th>\n",
       "      <th>qt_asn_sym23</th>\n",
       "      <th>qt_asn_asy23_in</th>\n",
       "      <th>qt_asn_asy23_out</th>\n",
       "      <th>qt_asn_hib23</th>\n",
       "      <th>qt_asn_onlydiscard23</th>\n",
       "      <th>qt_asn_nonetworks23</th>\n",
       "    </tr>\n",
       "    <tr>\n",
       "      <th>ixp</th>\n",
       "      <th></th>\n",
       "      <th></th>\n",
       "      <th></th>\n",
       "      <th></th>\n",
       "      <th></th>\n",
       "      <th></th>\n",
       "      <th></th>\n",
       "    </tr>\n",
       "  </thead>\n",
       "  <tbody>\n",
       "    <tr>\n",
       "      <th>amsix</th>\n",
       "      <td>57480.0</td>\n",
       "      <td>12568.0</td>\n",
       "      <td>5079.0</td>\n",
       "      <td>14121.0</td>\n",
       "      <td>518.0</td>\n",
       "      <td>25194.0</td>\n",
       "      <td>0.0</td>\n",
       "    </tr>\n",
       "    <tr>\n",
       "      <th>linx</th>\n",
       "      <td>57397.0</td>\n",
       "      <td>8589.0</td>\n",
       "      <td>5563.0</td>\n",
       "      <td>14641.0</td>\n",
       "      <td>483.0</td>\n",
       "      <td>28121.0</td>\n",
       "      <td>0.0</td>\n",
       "    </tr>\n",
       "    <tr>\n",
       "      <th>poaixbr</th>\n",
       "      <td>57394.0</td>\n",
       "      <td>2179.0</td>\n",
       "      <td>633.0</td>\n",
       "      <td>2789.0</td>\n",
       "      <td>46.0</td>\n",
       "      <td>51747.0</td>\n",
       "      <td>0.0</td>\n",
       "    </tr>\n",
       "  </tbody>\n",
       "</table>\n",
       "</div>"
      ],
      "text/plain": [
       "         nei_asn23  qt_asn_sym23  qt_asn_asy23_in  qt_asn_asy23_out  \\\n",
       "ixp                                                                   \n",
       "amsix      57480.0       12568.0           5079.0           14121.0   \n",
       "linx       57397.0        8589.0           5563.0           14641.0   \n",
       "poaixbr    57394.0        2179.0            633.0            2789.0   \n",
       "\n",
       "         qt_asn_hib23  qt_asn_onlydiscard23  qt_asn_nonetworks23  \n",
       "ixp                                                               \n",
       "amsix           518.0               25194.0                  0.0  \n",
       "linx            483.0               28121.0                  0.0  \n",
       "poaixbr          46.0               51747.0                  0.0  "
      ]
     },
     "metadata": {},
     "output_type": "display_data"
    },
    {
     "data": {
      "text/html": [
       "<div>\n",
       "<style scoped>\n",
       "    .dataframe tbody tr th:only-of-type {\n",
       "        vertical-align: middle;\n",
       "    }\n",
       "\n",
       "    .dataframe tbody tr th {\n",
       "        vertical-align: top;\n",
       "    }\n",
       "\n",
       "    .dataframe thead th {\n",
       "        text-align: right;\n",
       "    }\n",
       "</style>\n",
       "<table border=\"1\" class=\"dataframe\">\n",
       "  <thead>\n",
       "    <tr style=\"text-align: right;\">\n",
       "      <th></th>\n",
       "      <th>sym24</th>\n",
       "      <th>asy24-in</th>\n",
       "      <th>asy24-out</th>\n",
       "      <th>hybrid24</th>\n",
       "      <th>unmapped24</th>\n",
       "    </tr>\n",
       "    <tr>\n",
       "      <th>ixp</th>\n",
       "      <th></th>\n",
       "      <th></th>\n",
       "      <th></th>\n",
       "      <th></th>\n",
       "      <th></th>\n",
       "    </tr>\n",
       "  </thead>\n",
       "  <tbody>\n",
       "    <tr>\n",
       "      <th>amsix</th>\n",
       "      <td>30.89</td>\n",
       "      <td>12.73</td>\n",
       "      <td>15.20</td>\n",
       "      <td>0.92</td>\n",
       "      <td>40.26</td>\n",
       "    </tr>\n",
       "    <tr>\n",
       "      <th>linx</th>\n",
       "      <td>24.50</td>\n",
       "      <td>15.21</td>\n",
       "      <td>15.65</td>\n",
       "      <td>0.89</td>\n",
       "      <td>43.74</td>\n",
       "    </tr>\n",
       "    <tr>\n",
       "      <th>poaixbr</th>\n",
       "      <td>4.88</td>\n",
       "      <td>1.88</td>\n",
       "      <td>3.73</td>\n",
       "      <td>0.09</td>\n",
       "      <td>89.42</td>\n",
       "    </tr>\n",
       "  </tbody>\n",
       "</table>\n",
       "</div>"
      ],
      "text/plain": [
       "         sym24  asy24-in  asy24-out  hybrid24  unmapped24\n",
       "ixp                                                      \n",
       "amsix    30.89     12.73      15.20      0.92       40.26\n",
       "linx     24.50     15.21      15.65      0.89       43.74\n",
       "poaixbr   4.88      1.88       3.73      0.09       89.42"
      ]
     },
     "metadata": {},
     "output_type": "display_data"
    },
    {
     "data": {
      "text/plain": [
       "ixp\n",
       "amsix      100.00\n",
       "linx        99.99\n",
       "poaixbr    100.00\n",
       "dtype: float64"
      ]
     },
     "metadata": {},
     "output_type": "display_data"
    }
   ],
   "source": [
    "df=result_view('full','asn','23')\n",
    "\n",
    "data=df.groupby('ixp').agg('median') #agg(['mean','std'])\n",
    "data=data.sort_values('ixp')\n",
    "full23=data\n",
    "pc=pd.DataFrame()\n",
    "pc['sym23']  =   round( data['qt_asn_sym23']    / data['nei_asn23']*100 ,2)\n",
    "pc['asy23-in'] = round( data['qt_asn_asy23_in'] / data['nei_asn23']*100 ,2)\n",
    "pc['asy23-out']= round( data['qt_asn_asy23_out']/ data['nei_asn23']*100 ,2)\n",
    "pc['hybrid23'] = round( data['qt_asn_hib23']    / data['nei_asn23']*100 ,2)\n",
    "pc['unmapped23']=round( (data['qt_asn_onlydiscard23']+data['qt_asn_nonetworks23']) / data['nei_asn23']*100 ,2)\n",
    "pfull23=pc\n",
    "display(full23)\n",
    "\n",
    "df=result_view('full','asn','24')\n",
    "data=df.groupby('ixp').agg('median') #agg(['mean','std'])\n",
    "data=data.sort_values('ixp')\n",
    "full24=data\n",
    "pc=pd.DataFrame()\n",
    "pc['sym24']  =   round( data['qt_asn_sym24']    / data['nei_asn24']*100 ,2)\n",
    "pc['asy24-in'] = round( data['qt_asn_asy24_in'] / data['nei_asn24']*100 ,2)\n",
    "pc['asy24-out']= round( data['qt_asn_asy24_out']/ data['nei_asn24']*100 ,2)\n",
    "pc['hybrid24'] = round( data['qt_asn_hib24']    / data['nei_asn24']*100 ,2)\n",
    "pc['unmapped24']=round( (data['qt_asn_onlydiscard24']+data['qt_asn_nonetworks24']) / data['nei_asn24']*100 ,2)\n",
    "\n",
    "pfull24=pc\n",
    "display(pfull24)\n",
    "display(pfull24.sum(axis=1))\n"
   ]
  },
  {
   "cell_type": "code",
   "execution_count": null,
   "id": "a7b2ab40-fb08-42bc-b417-4309ca6ded3f",
   "metadata": {},
   "outputs": [],
   "source": []
  },
  {
   "cell_type": "markdown",
   "id": "8de8564e-a5ff-4e88-873e-7c9ce8b62d37",
   "metadata": {},
   "source": [
    "### ASY_ASN_24"
   ]
  },
  {
   "cell_type": "code",
   "execution_count": 10,
   "id": "13c5f312-b19f-4999-8d5b-efe71002827b",
   "metadata": {},
   "outputs": [
    {
     "data": {
      "text/html": [
       "<div>\n",
       "<style scoped>\n",
       "    .dataframe tbody tr th:only-of-type {\n",
       "        vertical-align: middle;\n",
       "    }\n",
       "\n",
       "    .dataframe tbody tr th {\n",
       "        vertical-align: top;\n",
       "    }\n",
       "\n",
       "    .dataframe thead th {\n",
       "        text-align: right;\n",
       "    }\n",
       "</style>\n",
       "<table border=\"1\" class=\"dataframe\">\n",
       "  <thead>\n",
       "    <tr style=\"text-align: right;\">\n",
       "      <th></th>\n",
       "      <th>sym24</th>\n",
       "      <th>asy_in</th>\n",
       "      <th>asy_out</th>\n",
       "      <th>hybrid</th>\n",
       "      <th>unmapped</th>\n",
       "    </tr>\n",
       "    <tr>\n",
       "      <th>ixp</th>\n",
       "      <th></th>\n",
       "      <th></th>\n",
       "      <th></th>\n",
       "      <th></th>\n",
       "      <th></th>\n",
       "    </tr>\n",
       "  </thead>\n",
       "  <tbody>\n",
       "    <tr>\n",
       "      <th>amsix</th>\n",
       "      <td>80.93</td>\n",
       "      <td>4.24</td>\n",
       "      <td>6.36</td>\n",
       "      <td>2.54</td>\n",
       "      <td>5.93</td>\n",
       "    </tr>\n",
       "    <tr>\n",
       "      <th>linx</th>\n",
       "      <td>77.68</td>\n",
       "      <td>5.01</td>\n",
       "      <td>7.97</td>\n",
       "      <td>2.28</td>\n",
       "      <td>7.29</td>\n",
       "    </tr>\n",
       "    <tr>\n",
       "      <th>poaixbr</th>\n",
       "      <td>86.36</td>\n",
       "      <td>1.36</td>\n",
       "      <td>3.18</td>\n",
       "      <td>0.91</td>\n",
       "      <td>8.18</td>\n",
       "    </tr>\n",
       "    <tr>\n",
       "      <th>six</th>\n",
       "      <td>66.18</td>\n",
       "      <td>5.88</td>\n",
       "      <td>12.75</td>\n",
       "      <td>4.41</td>\n",
       "      <td>10.78</td>\n",
       "    </tr>\n",
       "    <tr>\n",
       "      <th>spoixbr</th>\n",
       "      <td>78.13</td>\n",
       "      <td>1.06</td>\n",
       "      <td>6.17</td>\n",
       "      <td>0.69</td>\n",
       "      <td>13.89</td>\n",
       "    </tr>\n",
       "  </tbody>\n",
       "</table>\n",
       "</div>"
      ],
      "text/plain": [
       "         sym24  asy_in  asy_out  hybrid  unmapped\n",
       "ixp                                              \n",
       "amsix    80.93    4.24     6.36    2.54      5.93\n",
       "linx     77.68    5.01     7.97    2.28      7.29\n",
       "poaixbr  86.36    1.36     3.18    0.91      8.18\n",
       "six      66.18    5.88    12.75    4.41     10.78\n",
       "spoixbr  78.13    1.06     6.17    0.69     13.89"
      ]
     },
     "execution_count": 10,
     "metadata": {},
     "output_type": "execute_result"
    }
   ],
   "source": [
    "df=result_view('asy','asn','24')\n",
    "\n",
    "data=df.groupby('ixp').agg('median') #agg(['mean','std'])\n",
    "data=data.sort_values('ixp')\n",
    "\n",
    "pc=pd.DataFrame()\n",
    "pc['sym24']  = round( data['qt_asn_sym24']/data['nei_asn24']*100 ,2)\n",
    "pc['asy_in'] = round( data['qt_asn_asy24_in']/data['nei_asn24']*100 ,2)\n",
    "pc['asy_out']= round( data['qt_asn_asy24_out']/data['nei_asn24']*100 ,2)\n",
    "pc['hybrid'] = round( data['qt_asn_hib24']/data['nei_asn24']*100 ,2)\n",
    "pc['unmapped']=round( (data['qt_asn_onlydiscard24']+data['qt_asn_nonetworks24']) / data['nei_asn24']*100 ,2)\n",
    "\n",
    "\n",
    "asn24=pc\n",
    "pc"
   ]
  },
  {
   "cell_type": "code",
   "execution_count": null,
   "id": "918d17b9-99ae-4245-b686-2154dc94e56b",
   "metadata": {},
   "outputs": [],
   "source": []
  },
  {
   "cell_type": "markdown",
   "id": "11948ea3-614a-41a6-86d1-b716aca8eccc",
   "metadata": {},
   "source": [
    "### ASY_ASN_23"
   ]
  },
  {
   "cell_type": "code",
   "execution_count": 11,
   "id": "82c379f2-24e0-4e48-bef7-bbd1957b6bfe",
   "metadata": {},
   "outputs": [
    {
     "data": {
      "text/html": [
       "<div>\n",
       "<style scoped>\n",
       "    .dataframe tbody tr th:only-of-type {\n",
       "        vertical-align: middle;\n",
       "    }\n",
       "\n",
       "    .dataframe tbody tr th {\n",
       "        vertical-align: top;\n",
       "    }\n",
       "\n",
       "    .dataframe thead th {\n",
       "        text-align: right;\n",
       "    }\n",
       "</style>\n",
       "<table border=\"1\" class=\"dataframe\">\n",
       "  <thead>\n",
       "    <tr style=\"text-align: right;\">\n",
       "      <th></th>\n",
       "      <th>sym23</th>\n",
       "      <th>asy_in</th>\n",
       "      <th>asy_out</th>\n",
       "      <th>hybrid</th>\n",
       "      <th>unmapped</th>\n",
       "    </tr>\n",
       "    <tr>\n",
       "      <th>ixp</th>\n",
       "      <th></th>\n",
       "      <th></th>\n",
       "      <th></th>\n",
       "      <th></th>\n",
       "      <th></th>\n",
       "    </tr>\n",
       "  </thead>\n",
       "  <tbody>\n",
       "    <tr>\n",
       "      <th>amsix</th>\n",
       "      <td>59.96</td>\n",
       "      <td>3.39</td>\n",
       "      <td>27.97</td>\n",
       "      <td>2.75</td>\n",
       "      <td>6.14</td>\n",
       "    </tr>\n",
       "    <tr>\n",
       "      <th>linx</th>\n",
       "      <td>63.55</td>\n",
       "      <td>3.19</td>\n",
       "      <td>22.78</td>\n",
       "      <td>2.73</td>\n",
       "      <td>7.74</td>\n",
       "    </tr>\n",
       "    <tr>\n",
       "      <th>poaixbr</th>\n",
       "      <td>83.18</td>\n",
       "      <td>0.91</td>\n",
       "      <td>6.36</td>\n",
       "      <td>0.91</td>\n",
       "      <td>8.18</td>\n",
       "    </tr>\n",
       "    <tr>\n",
       "      <th>six</th>\n",
       "      <td>59.80</td>\n",
       "      <td>5.39</td>\n",
       "      <td>19.61</td>\n",
       "      <td>4.41</td>\n",
       "      <td>10.78</td>\n",
       "    </tr>\n",
       "    <tr>\n",
       "      <th>spoixbr</th>\n",
       "      <td>75.36</td>\n",
       "      <td>0.90</td>\n",
       "      <td>9.37</td>\n",
       "      <td>0.80</td>\n",
       "      <td>13.78</td>\n",
       "    </tr>\n",
       "  </tbody>\n",
       "</table>\n",
       "</div>"
      ],
      "text/plain": [
       "         sym23  asy_in  asy_out  hybrid  unmapped\n",
       "ixp                                              \n",
       "amsix    59.96    3.39    27.97    2.75      6.14\n",
       "linx     63.55    3.19    22.78    2.73      7.74\n",
       "poaixbr  83.18    0.91     6.36    0.91      8.18\n",
       "six      59.80    5.39    19.61    4.41     10.78\n",
       "spoixbr  75.36    0.90     9.37    0.80     13.78"
      ]
     },
     "execution_count": 11,
     "metadata": {},
     "output_type": "execute_result"
    }
   ],
   "source": [
    "df=result_view('asy','asn','23')\n",
    "\n",
    "data=df.groupby('ixp').agg('median') #agg(['mean','std'])\n",
    "data=data.sort_values('ixp')\n",
    "\n",
    "pc=pd.DataFrame()\n",
    "pc['sym23']  = round( data['qt_asn_sym23']/data['nei_asn23']*100 ,2)\n",
    "pc['asy_in'] = round( data['qt_asn_asy23_in']/data['nei_asn23']*100 ,2)\n",
    "pc['asy_out']= round( data['qt_asn_asy23_out']/data['nei_asn23']*100 ,2)\n",
    "pc['hybrid'] = round( data['qt_asn_hib23']/data['nei_asn23']*100 ,2)\n",
    "pc['unmapped']=round( (data['qt_asn_onlydiscard23']+data['qt_asn_nonetworks23']) / data['nei_asn23']*100 ,2)\n",
    "\n",
    "\n",
    "asn23=pc\n",
    "pc"
   ]
  },
  {
   "cell_type": "code",
   "execution_count": null,
   "id": "da99746b-f6c4-4f22-ac27-f9ce8e6ff89f",
   "metadata": {},
   "outputs": [],
   "source": []
  },
  {
   "cell_type": "markdown",
   "id": "2a46d3a1-f3b6-4735-ac80-24a5ec5a7399",
   "metadata": {},
   "source": [
    "# Table of Symmetry by net "
   ]
  },
  {
   "cell_type": "markdown",
   "id": "76ec47c4-c181-4850-b5cf-3c9d20b5d525",
   "metadata": {
    "tags": []
   },
   "source": [
    "## EXC_NET-24"
   ]
  },
  {
   "cell_type": "code",
   "execution_count": 12,
   "id": "9e44cfe0-792e-4012-b5e4-5827bca1f684",
   "metadata": {},
   "outputs": [
    {
     "data": {
      "text/html": [
       "<style type=\"text/css\">\n",
       "</style>\n",
       "<table id=\"T_16c1f\">\n",
       "  <thead>\n",
       "    <tr>\n",
       "      <th class=\"blank level0\" >&nbsp;</th>\n",
       "      <th id=\"T_16c1f_level0_col0\" class=\"col_heading level0 col0\" >nei_net24</th>\n",
       "      <th id=\"T_16c1f_level0_col1\" class=\"col_heading level0 col1\" >qt_net_sym24</th>\n",
       "      <th id=\"T_16c1f_level0_col2\" class=\"col_heading level0 col2\" >qt_net_asy24_in</th>\n",
       "      <th id=\"T_16c1f_level0_col3\" class=\"col_heading level0 col3\" >qt_net_asy24_out</th>\n",
       "    </tr>\n",
       "    <tr>\n",
       "      <th class=\"index_name level0\" >ixp</th>\n",
       "      <th class=\"blank col0\" >&nbsp;</th>\n",
       "      <th class=\"blank col1\" >&nbsp;</th>\n",
       "      <th class=\"blank col2\" >&nbsp;</th>\n",
       "      <th class=\"blank col3\" >&nbsp;</th>\n",
       "    </tr>\n",
       "  </thead>\n",
       "  <tbody>\n",
       "    <tr>\n",
       "      <th id=\"T_16c1f_level0_row0\" class=\"row_heading level0 row0\" >amsix</th>\n",
       "      <td id=\"T_16c1f_row0_col0\" class=\"data row0 col0\" >77,661.00</td>\n",
       "      <td id=\"T_16c1f_row0_col1\" class=\"data row0 col1\" >71,680.00</td>\n",
       "      <td id=\"T_16c1f_row0_col2\" class=\"data row0 col2\" >5,961.00</td>\n",
       "      <td id=\"T_16c1f_row0_col3\" class=\"data row0 col3\" >0.00</td>\n",
       "    </tr>\n",
       "    <tr>\n",
       "      <th id=\"T_16c1f_level0_row1\" class=\"row_heading level0 row1\" >linx</th>\n",
       "      <td id=\"T_16c1f_row1_col0\" class=\"data row1 col0\" >63,333.00</td>\n",
       "      <td id=\"T_16c1f_row1_col1\" class=\"data row1 col1\" >58,748.00</td>\n",
       "      <td id=\"T_16c1f_row1_col2\" class=\"data row1 col2\" >4,642.00</td>\n",
       "      <td id=\"T_16c1f_row1_col3\" class=\"data row1 col3\" >0.00</td>\n",
       "    </tr>\n",
       "    <tr>\n",
       "      <th id=\"T_16c1f_level0_row2\" class=\"row_heading level0 row2\" >poaixbr</th>\n",
       "      <td id=\"T_16c1f_row2_col0\" class=\"data row2 col0\" >6,329.00</td>\n",
       "      <td id=\"T_16c1f_row2_col1\" class=\"data row2 col1\" >6,246.00</td>\n",
       "      <td id=\"T_16c1f_row2_col2\" class=\"data row2 col2\" >84.00</td>\n",
       "      <td id=\"T_16c1f_row2_col3\" class=\"data row2 col3\" >0.00</td>\n",
       "    </tr>\n",
       "    <tr>\n",
       "      <th id=\"T_16c1f_level0_row3\" class=\"row_heading level0 row3\" >six</th>\n",
       "      <td id=\"T_16c1f_row3_col0\" class=\"data row3 col0\" >28,840.00</td>\n",
       "      <td id=\"T_16c1f_row3_col1\" class=\"data row3 col1\" >27,644.00</td>\n",
       "      <td id=\"T_16c1f_row3_col2\" class=\"data row3 col2\" >1,156.00</td>\n",
       "      <td id=\"T_16c1f_row3_col3\" class=\"data row3 col3\" >0.00</td>\n",
       "    </tr>\n",
       "    <tr>\n",
       "      <th id=\"T_16c1f_level0_row4\" class=\"row_heading level0 row4\" >spoixbr</th>\n",
       "      <td id=\"T_16c1f_row4_col0\" class=\"data row4 col0\" >31,089.00</td>\n",
       "      <td id=\"T_16c1f_row4_col1\" class=\"data row4 col1\" >30,441.00</td>\n",
       "      <td id=\"T_16c1f_row4_col2\" class=\"data row4 col2\" >611.00</td>\n",
       "      <td id=\"T_16c1f_row4_col3\" class=\"data row4 col3\" >0.00</td>\n",
       "    </tr>\n",
       "  </tbody>\n",
       "</table>\n"
      ],
      "text/plain": [
       "<pandas.io.formats.style.Styler at 0x12f0f3df0>"
      ]
     },
     "execution_count": 12,
     "metadata": {},
     "output_type": "execute_result"
    }
   ],
   "source": [
    "df=result_view('exc','net','24')\n",
    "df=df.loc[:, df.columns!='date']\n",
    "#print (df.columns)\n",
    "data=df.groupby('ixp').agg('median') #agg(['mean','std'])\n",
    "data=data.sort_values('ixp')\n",
    "pc=pd.DataFrame()\n",
    "pc['sym24']    = round( data['qt_net_sym24']/data['nei_net24']*100 ,2)\n",
    "pc['asy24-in'] = round( data['qt_net_asy24_in']/data['nei_net24']*100 ,2)\n",
    "pc['asy24-out']= round( data['qt_net_asy24_out']/data['nei_net24']*100 ,2)\n",
    "\n",
    "excnet24  = data\n",
    "pexcnet24 = pc\n",
    "\n",
    "pexcnet24\n",
    "excnet24.style.format(precision=2, thousands=\",\")"
   ]
  },
  {
   "cell_type": "code",
   "execution_count": null,
   "id": "b2d061cc-8b8b-4473-8593-c206a85742d9",
   "metadata": {},
   "outputs": [],
   "source": []
  },
  {
   "cell_type": "code",
   "execution_count": null,
   "id": "cfe85002-20f1-4cff-a083-0bf58d2a9bea",
   "metadata": {},
   "outputs": [],
   "source": []
  },
  {
   "cell_type": "markdown",
   "id": "6405cb6f-9d08-44a2-a7e6-8da6c7d0591d",
   "metadata": {},
   "source": [
    "# ASY_24_NET"
   ]
  },
  {
   "cell_type": "code",
   "execution_count": 13,
   "id": "8d983aed-09dc-402c-892b-e0485dd9102c",
   "metadata": {},
   "outputs": [],
   "source": [
    "df=result_view('asy','net','24')\n",
    "df=df.loc[:, df.columns!='date']\n",
    "data=df.groupby('ixp').agg('median') "
   ]
  },
  {
   "cell_type": "code",
   "execution_count": 14,
   "id": "d494a625-9574-4e53-b5e5-ce9f35b93dae",
   "metadata": {},
   "outputs": [
    {
     "data": {
      "text/html": [
       "<div>\n",
       "<style scoped>\n",
       "    .dataframe tbody tr th:only-of-type {\n",
       "        vertical-align: middle;\n",
       "    }\n",
       "\n",
       "    .dataframe tbody tr th {\n",
       "        vertical-align: top;\n",
       "    }\n",
       "\n",
       "    .dataframe thead th {\n",
       "        text-align: right;\n",
       "    }\n",
       "</style>\n",
       "<table border=\"1\" class=\"dataframe\">\n",
       "  <thead>\n",
       "    <tr style=\"text-align: right;\">\n",
       "      <th></th>\n",
       "      <th>sym24</th>\n",
       "      <th>asy24-in</th>\n",
       "      <th>asy24-out</th>\n",
       "    </tr>\n",
       "    <tr>\n",
       "      <th>ixp</th>\n",
       "      <th></th>\n",
       "      <th></th>\n",
       "      <th></th>\n",
       "    </tr>\n",
       "  </thead>\n",
       "  <tbody>\n",
       "    <tr>\n",
       "      <th>amsix</th>\n",
       "      <td>79.42</td>\n",
       "      <td>6.63</td>\n",
       "      <td>13.83</td>\n",
       "    </tr>\n",
       "    <tr>\n",
       "      <th>linx</th>\n",
       "      <td>88.46</td>\n",
       "      <td>7.02</td>\n",
       "      <td>4.17</td>\n",
       "    </tr>\n",
       "    <tr>\n",
       "      <th>poaixbr</th>\n",
       "      <td>78.93</td>\n",
       "      <td>1.06</td>\n",
       "      <td>20.02</td>\n",
       "    </tr>\n",
       "    <tr>\n",
       "      <th>six</th>\n",
       "      <td>88.17</td>\n",
       "      <td>3.69</td>\n",
       "      <td>8.06</td>\n",
       "    </tr>\n",
       "    <tr>\n",
       "      <th>spoixbr</th>\n",
       "      <td>85.36</td>\n",
       "      <td>1.72</td>\n",
       "      <td>12.27</td>\n",
       "    </tr>\n",
       "  </tbody>\n",
       "</table>\n",
       "</div>"
      ],
      "text/plain": [
       "         sym24  asy24-in  asy24-out\n",
       "ixp                                \n",
       "amsix    79.42      6.63      13.83\n",
       "linx     88.46      7.02       4.17\n",
       "poaixbr  78.93      1.06      20.02\n",
       "six      88.17      3.69       8.06\n",
       "spoixbr  85.36      1.72      12.27"
      ]
     },
     "execution_count": 14,
     "metadata": {},
     "output_type": "execute_result"
    }
   ],
   "source": [
    "data=data.sort_values('ixp')\n",
    "pc=pd.DataFrame()\n",
    "pc['sym24']    = round( data['qt_net_sym24']/data['nei_net24']*100,2)\n",
    "pc['asy24-in'] = round( data['qt_net_asy24_in']/data['nei_net24']*100,2)\n",
    "pc['asy24-out']= round( data['qt_net_asy24_out']/data['nei_net24']*100,2)\n",
    "\n",
    "net24  = data\n",
    "pnet24 = pc\n",
    "\n",
    "pnet24\n",
    "#net24.style.format(precision=2, thousands=\",\")"
   ]
  },
  {
   "cell_type": "markdown",
   "id": "8af107b8-fc8c-46a7-b499-e71fcb8b0ff9",
   "metadata": {},
   "source": [
    "### ASY_NET_24 BOXPLOT\n",
    "<pre>\n",
    "{fig:'leandro/symmetry_subnets24_box_plot.pdf'}\n",
    "</pre>"
   ]
  },
  {
   "cell_type": "code",
   "execution_count": 15,
   "id": "2ac489ce-0f26-4447-b86d-328e26ee9fd6",
   "metadata": {},
   "outputs": [
    {
     "data": {
      "image/png": "[encoded data removed]",
      "text/plain": [
       "<Figure size 864x288 with 3 Axes>"
      ]
     },
     "metadata": {
      "needs_background": "light"
     },
     "output_type": "display_data"
    }
   ],
   "source": [
    "df=result_view('asy','net','24')\n",
    "df['sym']=     df['qt_net_sym24']/df['nei_net24']\n",
    "df['only_in']= df['qt_net_asy24_in']/df['nei_net24']\n",
    "df['only_out']=df['qt_net_asy24_out']/df['nei_net24']\n",
    "\n",
    "\n",
    "df=df[['ixp','date','sym','only_in','only_out']]\n",
    "asy24=df.copy()\n",
    "\n",
    "pd.options.plotting.backend = 'matplotlib'\n",
    "ax=df.boxplot(column=['sym','only_in','only_out'],by='ixp', figsize=(12,4), layout=(1,3))\n",
    "\n",
    "# hit auto suptitle\n",
    "plt.suptitle('')\n",
    "# remove automatic label\n",
    "for x in 0,1,2:\n",
    "    ax[x].set_xlabel('')\n",
    "#Add title to graph\n",
    "ax[0].set_title('Symmetric Networks')\n",
    "ax[1].set_title('Only Ingress Traffic')\n",
    "ax[2].set_title('Only Egress Traffic')\n",
    "#ax[0].set_ylabel('Percentage of Networks')\n",
    "\n",
    "plt.savefig(IMG+'boxplot_asy_24_net.pdf', bbox_inches='tight',pad_inches = 0)\n",
    "plt.show()\n"
   ]
  },
  {
   "cell_type": "markdown",
   "id": "a72e41fc-5b46-44b3-b3f0-4ac405a3d983",
   "metadata": {},
   "source": [
    "## ASY-NET-23 boxplot"
   ]
  },
  {
   "cell_type": "code",
   "execution_count": 16,
   "id": "706dcd52-7964-44c9-b6b4-34ee28474474",
   "metadata": {},
   "outputs": [
    {
     "data": {
      "image/png": "[encoded data removed]",
      "text/plain": [
       "<Figure size 864x288 with 3 Axes>"
      ]
     },
     "metadata": {
      "needs_background": "light"
     },
     "output_type": "display_data"
    }
   ],
   "source": [
    "# SYM-23 \n",
    "df=result_view('asy','net','23')\n",
    "df['sym']=     df['qt_net_sym23']/df['nei_net23']\n",
    "df['only_in']= df['qt_net_asy23_in']/df['nei_net23']\n",
    "df['only_out']=df['qt_net_asy23_out']/df['nei_net23']\n",
    "\n",
    "df=df[['ixp','date','sym','only_in','only_out']]\n",
    "asy23 = df.copy()\n",
    "\n",
    "pd.options.plotting.backend = 'matplotlib'\n",
    "ax=df.boxplot(column=['sym','only_in','only_out'],by='ixp', figsize=(12,4), layout=(1,3))\n",
    "\n",
    "# hit auto suptitle\n",
    "plt.suptitle('')\n",
    "# remove automatic label\n",
    "for x in 0,1,2:\n",
    "    ax[x].set_xlabel('')\n",
    "#Add title to graph\n",
    "ax[0].set_title('Symmetric Networks')\n",
    "ax[1].set_title('Only Ingress Traffic')\n",
    "ax[2].set_title('Only Egress Traffic')\n",
    "#ax[0].set_ylabel('Percentage of Networks')\n",
    "\n",
    "plt.savefig(IMG+'boxplot_asy_23_net.pdf', bbox_inches='tight',pad_inches = 0)\n",
    "plt.show()"
   ]
  },
  {
   "cell_type": "markdown",
   "id": "0e64bbad-84b3-4710-9e1e-03de6ea5b63c",
   "metadata": {},
   "source": [
    "## ANY-23 "
   ]
  },
  {
   "cell_type": "code",
   "execution_count": 17,
   "id": "a6683bfb-9f81-4bc5-9b51-a9aaa2ce8001",
   "metadata": {},
   "outputs": [
    {
     "data": {
      "image/png": "[encoded data removed]",
      "text/plain": [
       "<Figure size 864x288 with 3 Axes>"
      ]
     },
     "metadata": {
      "needs_background": "light"
     },
     "output_type": "display_data"
    }
   ],
   "source": [
    "# ANY-23 \n",
    "df=result_view('any','net','23')\n",
    "df['sym']=     df['qt_net_sym23']/df['nei_net23']\n",
    "df['only_in']= df['qt_net_asy23_in']/df['nei_net23']\n",
    "df['only_out']=df['qt_net_asy23_out']/df['nei_net23']\n",
    "\n",
    "df=df[['ixp','date','sym','only_in','only_out']]\n",
    "any23 = df.copy()\n",
    "\n",
    "pd.options.plotting.backend = 'matplotlib'\n",
    "ax=df.boxplot(column=['sym','only_in','only_out'],by='ixp', figsize=(12,4), layout=(1,3))\n",
    "\n",
    "# hit auto suptitle\n",
    "plt.suptitle('')\n",
    "# remove automatic label\n",
    "for x in 0,1,2:\n",
    "    ax[x].set_xlabel('')\n",
    "#Add title to graph\n",
    "ax[0].set_title('Symmetric Networks')\n",
    "ax[1].set_title('Only Ingress Traffic')\n",
    "ax[2].set_title('Only Egress Traffic')\n",
    "#ax[0].set_ylabel('Percentage of Networks')\n",
    "\n",
    "plt.savefig(IMG+'boxplot_any_23_net.pdf', bbox_inches='tight',pad_inches = 0)\n",
    "plt.show()"
   ]
  },
  {
   "cell_type": "markdown",
   "id": "cacef263-6d57-4e3f-b68d-42878cd248cb",
   "metadata": {},
   "source": [
    "## ANY-24"
   ]
  },
  {
   "cell_type": "code",
   "execution_count": 18,
   "id": "241fdf2d-4256-442b-8a05-0f8bf11884b6",
   "metadata": {},
   "outputs": [
    {
     "data": {
      "image/png": "[encoded data removed]",
      "text/plain": [
       "<Figure size 864x288 with 3 Axes>"
      ]
     },
     "metadata": {
      "needs_background": "light"
     },
     "output_type": "display_data"
    },
    {
     "data": {
      "text/html": [
       "<div>\n",
       "<style scoped>\n",
       "    .dataframe tbody tr th:only-of-type {\n",
       "        vertical-align: middle;\n",
       "    }\n",
       "\n",
       "    .dataframe tbody tr th {\n",
       "        vertical-align: top;\n",
       "    }\n",
       "\n",
       "    .dataframe thead th {\n",
       "        text-align: right;\n",
       "    }\n",
       "</style>\n",
       "<table border=\"1\" class=\"dataframe\">\n",
       "  <thead>\n",
       "    <tr style=\"text-align: right;\">\n",
       "      <th></th>\n",
       "      <th>ixp</th>\n",
       "      <th>date</th>\n",
       "      <th>sym</th>\n",
       "      <th>only_in</th>\n",
       "      <th>only_out</th>\n",
       "    </tr>\n",
       "  </thead>\n",
       "  <tbody>\n",
       "    <tr>\n",
       "      <th>1</th>\n",
       "      <td>amsix</td>\n",
       "      <td>2022-05-05</td>\n",
       "      <td>0.797624</td>\n",
       "      <td>0.064597</td>\n",
       "      <td>0.137779</td>\n",
       "    </tr>\n",
       "    <tr>\n",
       "      <th>7</th>\n",
       "      <td>linx</td>\n",
       "      <td>2022-05-05</td>\n",
       "      <td>0.921408</td>\n",
       "      <td>0.035778</td>\n",
       "      <td>0.042813</td>\n",
       "    </tr>\n",
       "    <tr>\n",
       "      <th>13</th>\n",
       "      <td>poaixbr</td>\n",
       "      <td>2022-05-05</td>\n",
       "      <td>0.790142</td>\n",
       "      <td>0.010562</td>\n",
       "      <td>0.199296</td>\n",
       "    </tr>\n",
       "  </tbody>\n",
       "</table>\n",
       "</div>"
      ],
      "text/plain": [
       "        ixp        date       sym   only_in  only_out\n",
       "1     amsix  2022-05-05  0.797624  0.064597  0.137779\n",
       "7      linx  2022-05-05  0.921408  0.035778  0.042813\n",
       "13  poaixbr  2022-05-05  0.790142  0.010562  0.199296"
      ]
     },
     "metadata": {},
     "output_type": "display_data"
    }
   ],
   "source": [
    "df=result_view('any','net','24')\n",
    "df['sym']=     df['qt_net_sym24']/df['nei_net24']\n",
    "df['only_in']= df['qt_net_asy24_in']/df['nei_net24']\n",
    "df['only_out']=df['qt_net_asy24_out']/df['nei_net24']\n",
    "\n",
    "\n",
    "df=df[['ixp','date','sym','only_in','only_out']]\n",
    "pd.options.plotting.backend = 'matplotlib'\n",
    "ax=df.boxplot(column=['sym','only_in','only_out'],by='ixp', figsize=(12,4), layout=(1,3))\n",
    "\n",
    "# hit auto suptitle\n",
    "plt.suptitle('')\n",
    "# remove automatic label\n",
    "for x in 0,1,2:\n",
    "    ax[x].set_xlabel('')\n",
    "#Add title to graph\n",
    "ax[0].set_title('Symmetric Networks')\n",
    "ax[1].set_title('Only Ingress Traffic')\n",
    "ax[2].set_title('Only Egress Traffic')\n",
    "#ax[0].set_ylabel('Percentage of Networks')\n",
    "\n",
    "plt.savefig(IMG+'boxplot_any_24_net.pdf', bbox_inches='tight',pad_inches = 0)\n",
    "plt.show()\n",
    "display(df.head(3))"
   ]
  },
  {
   "cell_type": "markdown",
   "id": "ac771164-14d2-40a4-b18a-1e9e20a57b90",
   "metadata": {},
   "source": [
    "## ASY_NET_23"
   ]
  },
  {
   "cell_type": "code",
   "execution_count": 19,
   "id": "6bc48ab9-8318-481b-8c8f-c0a51ecef176",
   "metadata": {},
   "outputs": [
    {
     "data": {
      "text/html": [
       "<div>\n",
       "<style scoped>\n",
       "    .dataframe tbody tr th:only-of-type {\n",
       "        vertical-align: middle;\n",
       "    }\n",
       "\n",
       "    .dataframe tbody tr th {\n",
       "        vertical-align: top;\n",
       "    }\n",
       "\n",
       "    .dataframe thead th {\n",
       "        text-align: right;\n",
       "    }\n",
       "</style>\n",
       "<table border=\"1\" class=\"dataframe\">\n",
       "  <thead>\n",
       "    <tr style=\"text-align: right;\">\n",
       "      <th></th>\n",
       "      <th>sym23</th>\n",
       "      <th>asy23-in</th>\n",
       "      <th>asy23-out</th>\n",
       "    </tr>\n",
       "    <tr>\n",
       "      <th>ixp</th>\n",
       "      <th></th>\n",
       "      <th></th>\n",
       "      <th></th>\n",
       "    </tr>\n",
       "  </thead>\n",
       "  <tbody>\n",
       "    <tr>\n",
       "      <th>amsix</th>\n",
       "      <td>63.25</td>\n",
       "      <td>2.17</td>\n",
       "      <td>34.49</td>\n",
       "    </tr>\n",
       "    <tr>\n",
       "      <th>linx</th>\n",
       "      <td>74.34</td>\n",
       "      <td>6.05</td>\n",
       "      <td>19.33</td>\n",
       "    </tr>\n",
       "    <tr>\n",
       "      <th>poaixbr</th>\n",
       "      <td>76.71</td>\n",
       "      <td>0.96</td>\n",
       "      <td>22.24</td>\n",
       "    </tr>\n",
       "    <tr>\n",
       "      <th>six</th>\n",
       "      <td>86.36</td>\n",
       "      <td>3.44</td>\n",
       "      <td>10.13</td>\n",
       "    </tr>\n",
       "    <tr>\n",
       "      <th>spoixbr</th>\n",
       "      <td>85.45</td>\n",
       "      <td>0.84</td>\n",
       "      <td>13.65</td>\n",
       "    </tr>\n",
       "  </tbody>\n",
       "</table>\n",
       "</div>"
      ],
      "text/plain": [
       "         sym23  asy23-in  asy23-out\n",
       "ixp                                \n",
       "amsix    63.25      2.17      34.49\n",
       "linx     74.34      6.05      19.33\n",
       "poaixbr  76.71      0.96      22.24\n",
       "six      86.36      3.44      10.13\n",
       "spoixbr  85.45      0.84      13.65"
      ]
     },
     "execution_count": 19,
     "metadata": {},
     "output_type": "execute_result"
    }
   ],
   "source": [
    "df=result_view('asy','net','23')\n",
    "#print (df.columns)\n",
    "data=df.groupby('ixp').agg('median') #agg(['mean','std'])\n",
    "data=data.sort_values('ixp')\n",
    "\n",
    "pc=pd.DataFrame()\n",
    "pc['sym23']    = round( data['qt_net_sym23']/data['nei_net23']*100,2) \n",
    "pc['asy23-in'] = round( data['qt_net_asy23_in']/data['nei_net23'] *100,2) \n",
    "pc['asy23-out']= round( data['qt_net_asy23_out']/data['nei_net23'] *100,2) \n",
    "\n",
    "net23  = data\n",
    "pnet23 = pc\n",
    "\n",
    "pnet23\n",
    "#net23.style.format(precision=2, thousands=\",\")"
   ]
  },
  {
   "cell_type": "code",
   "execution_count": null,
   "id": "d0b48d1c-d172-4677-a869-adaa1eb97414",
   "metadata": {},
   "outputs": [],
   "source": []
  },
  {
   "cell_type": "markdown",
   "id": "2acc9981-558e-4829-8ca2-ee9c41f812a4",
   "metadata": {},
   "source": [
    "# PAPER boxplot:: Refining anycast (plot 18Apr-20Apr)\n",
    "<pre>\n",
    "    {fig:boxplot-anycast}\n",
    "    {fig:violin-anycast}\n",
    "    {fig:linx-anycast-week}\n",
    "</pre>"
   ]
  },
  {
   "cell_type": "markdown",
   "id": "3577a7ef-0849-43ae-a314-9a3022caeb13",
   "metadata": {},
   "source": [
    "## Anycast by day (all period): Here we notice the effect on pinger place on anycast/only-ingress \n",
    "(IXP peers view)"
   ]
  },
  {
   "cell_type": "code",
   "execution_count": 20,
   "id": "1a9f5f3a-e303-49f9-ba20-5809bd8032af",
   "metadata": {},
   "outputs": [
    {
     "data": {
      "image/png": "[encoded data removed]",
      "text/plain": [
       "<Figure size 2880x288 with 3 Axes>"
      ]
     },
     "metadata": {
      "needs_background": "light"
     },
     "output_type": "display_data"
    },
    {
     "data": {
      "image/png": "[encoded data removed]",
      "text/plain": [
       "<Figure size 2880x288 with 3 Axes>"
      ]
     },
     "metadata": {
      "needs_background": "light"
     },
     "output_type": "display_data"
    }
   ],
   "source": [
    "# Anycast networks included (/23)\n",
    "d1=result_view('any','net','23')\n",
    "d1=d1.rename(columns={'qt_net_asy23_in':'qt_net_any23_in', 'qt_net_asy23_out':'qt_net_any23_out'})\n",
    "# Excluded anycast networks\n",
    "d2=result_view('asy','net','23')\n",
    "\n",
    "# # Anycast networks included (/24)\n",
    "# d1=result_view('any','net','24')\n",
    "# d1=d1.rename(columns={'qt_net_asy24_in':'qt_net_any24_in', 'qt_net_asy24_out':'qt_net_any24_out'})\n",
    "# # Excluded anycast networks\n",
    "# d2=result_view('asy','net','24')\n",
    "\n",
    "# join datataframes\n",
    "d1=d1.set_index(['ixp','date'])\n",
    "d2=d2.set_index(['ixp','date'])\n",
    "df=pd.concat([d1,d2], axis=1)\n",
    "df=df.reset_index()\n",
    "\n",
    "\n",
    "# Plot anycast variation by day for one IXP (/23)\n",
    "df=df[df['ixp']=='linx']\n",
    "df.boxplot(column=['qt_net_any23_in','qt_net_asy23_in'],by='date', figsize=(40,4), layout=(1,3), rot=45)\n",
    "plt.suptitle('')\n",
    "df.boxplot(column=['qt_net_any23_out','qt_net_asy23_out'],by='date', figsize=(40,4), layout=(1,3), rot=45)\n",
    "plt.suptitle('')\n",
    "\n",
    "\n",
    "# #Plot anycast variation by day for one IXP (/24)\n",
    "# df=df[df['ixp']=='linx']\n",
    "# df.boxplot(column=['qt_net_any24_in','qt_net_asy24_in'],by='date', figsize=(40,4), layout=(1,3), rot=45)\n",
    "# plt.suptitle('')\n",
    "# df.boxplot(column=['qt_net_any24_out','qt_net_asy24_out'],by='date', figsize=(40,4), layout=(1,3), rot=45)\n",
    "# plt.suptitle('')\n",
    "\n",
    "plt.savefig(IMG+'linx-anycast-week.pdf', bbox_inches='tight',pad_inches = 0)\n",
    "plt.show()"
   ]
  },
  {
   "cell_type": "markdown",
   "id": "063552c8-f2b9-4085-a926-b557d40e4427",
   "metadata": {},
   "source": [
    "### All IXPs boxplot mixing methods(17-20 pinger in ixp, 21-5May pinger on MIA)"
   ]
  },
  {
   "cell_type": "code",
   "execution_count": 29,
   "id": "6de5c919-dc14-4e32-817f-8d6c97db9bac",
   "metadata": {},
   "outputs": [
    {
     "data": {
      "image/png": "[encoded data removed]",
      "text/plain": [
       "<Figure size 864x216 with 2 Axes>"
      ]
     },
     "metadata": {
      "needs_background": "light"
     },
     "output_type": "display_data"
    }
   ],
   "source": [
    "d1=any23[['ixp','date','only_in']].copy()\n",
    "d1=d1.rename(columns={'only_in':'Only Ingress'})\n",
    "d1=d1.set_index(['ixp','date'])\n",
    "\n",
    "d2=asy23[['ixp','date','only_in']].copy()\n",
    "d2=d2.rename(columns={'only_in':'Only Ingress without Anycast'})\n",
    "d2=d2.set_index(['ixp','date'])\n",
    "\n",
    "df=pd.concat([d1,d2], axis=1)\n",
    "df=df.reset_index()\n",
    "\n",
    "ax=df.boxplot(column=['Only Ingress','Only Ingress without Anycast'],by='ixp', figsize=(12,3), layout=(1,2), fontsize=13)\n",
    "#ax.set_xticklabels(Fontsize=12)\n",
    "\n",
    "# hit auto suptitle\n",
    "plt.suptitle('')\n",
    "# remove automatic label\n",
    "for x in 0,1:\n",
    "    ax[x].set_xlabel('')\n",
    "#Add title to graph\n",
    "#ax[0].set_title('Only Ingress ')\n",
    "#ax[1].set_title('Only Ingress without Anycast')\n",
    "\n",
    "plt.savefig(IMG+'boxplot_anycast_halfsize.pdf', bbox_inches='tight',pad_inches = 0)\n",
    "plt.show()"
   ]
  },
  {
   "cell_type": "code",
   "execution_count": 27,
   "id": "dcb92796-d27e-4949-8f27-9eb3a9256939",
   "metadata": {},
   "outputs": [
    {
     "data": {
      "text/html": [
       "<div>\n",
       "<style scoped>\n",
       "    .dataframe tbody tr th:only-of-type {\n",
       "        vertical-align: middle;\n",
       "    }\n",
       "\n",
       "    .dataframe tbody tr th {\n",
       "        vertical-align: top;\n",
       "    }\n",
       "\n",
       "    .dataframe thead th {\n",
       "        text-align: right;\n",
       "    }\n",
       "</style>\n",
       "<table border=\"1\" class=\"dataframe\">\n",
       "  <thead>\n",
       "    <tr style=\"text-align: right;\">\n",
       "      <th></th>\n",
       "      <th>ixp</th>\n",
       "      <th>date</th>\n",
       "      <th>Only Ingress</th>\n",
       "      <th>Only Ingress without Anycast</th>\n",
       "    </tr>\n",
       "  </thead>\n",
       "  <tbody>\n",
       "    <tr>\n",
       "      <th>0</th>\n",
       "      <td>amsix</td>\n",
       "      <td>2022-05-05</td>\n",
       "      <td>0.021156</td>\n",
       "      <td>0.021695</td>\n",
       "    </tr>\n",
       "    <tr>\n",
       "      <th>1</th>\n",
       "      <td>linx</td>\n",
       "      <td>2022-05-05</td>\n",
       "      <td>0.025453</td>\n",
       "      <td>0.025836</td>\n",
       "    </tr>\n",
       "    <tr>\n",
       "      <th>2</th>\n",
       "      <td>poaixbr</td>\n",
       "      <td>2022-05-05</td>\n",
       "      <td>0.009572</td>\n",
       "      <td>0.009575</td>\n",
       "    </tr>\n",
       "    <tr>\n",
       "      <th>3</th>\n",
       "      <td>six</td>\n",
       "      <td>2022-05-05</td>\n",
       "      <td>0.065914</td>\n",
       "      <td>0.070173</td>\n",
       "    </tr>\n",
       "    <tr>\n",
       "      <th>4</th>\n",
       "      <td>spoixbr</td>\n",
       "      <td>2022-05-05</td>\n",
       "      <td>0.008309</td>\n",
       "      <td>0.008166</td>\n",
       "    </tr>\n",
       "    <tr>\n",
       "      <th>...</th>\n",
       "      <td>...</td>\n",
       "      <td>...</td>\n",
       "      <td>...</td>\n",
       "      <td>...</td>\n",
       "    </tr>\n",
       "    <tr>\n",
       "      <th>90</th>\n",
       "      <td>amsix</td>\n",
       "      <td>2022-04-17</td>\n",
       "      <td>0.028536</td>\n",
       "      <td>0.028819</td>\n",
       "    </tr>\n",
       "    <tr>\n",
       "      <th>91</th>\n",
       "      <td>linx</td>\n",
       "      <td>2022-04-17</td>\n",
       "      <td>0.112877</td>\n",
       "      <td>0.076223</td>\n",
       "    </tr>\n",
       "    <tr>\n",
       "      <th>92</th>\n",
       "      <td>poaixbr</td>\n",
       "      <td>2022-04-17</td>\n",
       "      <td>0.240723</td>\n",
       "      <td>0.014410</td>\n",
       "    </tr>\n",
       "    <tr>\n",
       "      <th>93</th>\n",
       "      <td>six</td>\n",
       "      <td>2022-04-17</td>\n",
       "      <td>0.115341</td>\n",
       "      <td>0.038875</td>\n",
       "    </tr>\n",
       "    <tr>\n",
       "      <th>94</th>\n",
       "      <td>spoixbr</td>\n",
       "      <td>2022-04-17</td>\n",
       "      <td>0.014149</td>\n",
       "      <td>0.007695</td>\n",
       "    </tr>\n",
       "  </tbody>\n",
       "</table>\n",
       "<p>95 rows × 4 columns</p>\n",
       "</div>"
      ],
      "text/plain": [
       "        ixp        date  Only Ingress  Only Ingress without Anycast\n",
       "0     amsix  2022-05-05      0.021156                      0.021695\n",
       "1      linx  2022-05-05      0.025453                      0.025836\n",
       "2   poaixbr  2022-05-05      0.009572                      0.009575\n",
       "3       six  2022-05-05      0.065914                      0.070173\n",
       "4   spoixbr  2022-05-05      0.008309                      0.008166\n",
       "..      ...         ...           ...                           ...\n",
       "90    amsix  2022-04-17      0.028536                      0.028819\n",
       "91     linx  2022-04-17      0.112877                      0.076223\n",
       "92  poaixbr  2022-04-17      0.240723                      0.014410\n",
       "93      six  2022-04-17      0.115341                      0.038875\n",
       "94  spoixbr  2022-04-17      0.014149                      0.007695\n",
       "\n",
       "[95 rows x 4 columns]"
      ]
     },
     "execution_count": 27,
     "metadata": {},
     "output_type": "execute_result"
    }
   ],
   "source": [
    "df"
   ]
  },
  {
   "cell_type": "markdown",
   "id": "fa41e5cd-794c-444c-b815-aa2f635c62f9",
   "metadata": {},
   "source": [
    "## Anycast Analysis (17-20Apr) "
   ]
  },
  {
   "cell_type": "code",
   "execution_count": null,
   "id": "8bae9a23-485b-4310-9f92-ada6c7d023b7",
   "metadata": {},
   "outputs": [],
   "source": [
    "# Anycast networks included (/23)\n",
    "d1=result_view('any','net','23')\n",
    "d1=d1.rename(columns={'qt_net_asy23_in':'qt_net_any23_in', 'qt_net_asy23_out':'qt_net_any23_out'})\n",
    "# Excluded anycast networks\n",
    "d2=result_view('asy','net','23')\n",
    "\n",
    "# # Anycast networks included (/24)\n",
    "# d1=result_view('any','net','24')\n",
    "# d1=d1.rename(columns={'qt_net_asy24_in':'qt_net_any24_in', 'qt_net_asy24_out':'qt_net_any24_out'})\n",
    "# # Excluded anycast networks\n",
    "# d2=result_view('asy','net','24')\n",
    "\n",
    "# Select dates (17-20 pinger on-site)\n",
    "start_day=datetime.strptime('2022-04-17', \"%Y-%m-%d\").date()\n",
    "end_day=datetime.strptime('2022-04-20', \"%Y-%m-%d\").date()\n",
    "\n",
    "#end_day=datetime.strptime('2022-05-05', \"%Y-%m-%d\").date()\n",
    "#start_day=datetime.strptime('2022-04-21', \"%Y-%m-%d\").date()\n",
    "\n",
    "d1 = d1[ (d1['date']>=start_day) & (d1['date']<=end_day) ]\n",
    "d2 = d2[ (d2['date']>=start_day) & (d2['date']<=end_day) ]\n",
    "\n",
    "# join datataframes\n",
    "d1=d1.set_index(['ixp','date'])\n",
    "d2=d2.set_index(['ixp','date'])\n",
    "df=pd.concat([d1,d2], axis=1)\n",
    "df=df.reset_index()"
   ]
  },
  {
   "cell_type": "markdown",
   "id": "ec8a1a1a-5883-4696-99ef-60e6cdd15884",
   "metadata": {},
   "source": [
    "### Violin"
   ]
  },
  {
   "cell_type": "code",
   "execution_count": null,
   "id": "38017162-cc51-4831-8640-01d53cefce6e",
   "metadata": {},
   "outputs": [],
   "source": [
    "plt.figure(figsize=(12,4))\n",
    "#plt.figure(figsize=(20,10))\n",
    "\n",
    "\n",
    "plt.subplot(1, 2, 1) #index 1\n",
    "ax1=sns.violinplot(x='ixp', y='qt_net_any23_in', data=d1.reset_index())\n",
    "ax1=sns.swarmplot(x='ixp',y='qt_net_any23_in', data=d1.reset_index(),  alpha=0.5)\n",
    "ax1.set_title('Only Ingress')\n",
    "ax1.set_xlabel('')\n",
    "ax1.set_ylabel('Number of Networks')\n",
    "ax1.set(ylim=(0, 9000))\n",
    "\n",
    "plt.subplot(1, 2, 2) # index 2\n",
    "ax2=sns.violinplot(x='ixp', y='qt_net_asy23_in', data=d2.reset_index())\n",
    "ax2=sns.swarmplot(x='ixp',y='qt_net_asy23_in', data=d2.reset_index(),  alpha=0.5)\n",
    "ax2.set_title('Only Ingress without Anycast')\n",
    "ax2.set_xlabel('')\n",
    "ax2.set_ylabel('')\n",
    "#ax2.axes.get_yaxis().set_visible(False)\n",
    "ax2.set(ylim=(0, 9000))\n",
    "\n",
    "plt.savefig(IMG+'violin_anycast.pdf', bbox_inches='tight',pad_inches = 0)\n",
    "plt.show()"
   ]
  },
  {
   "cell_type": "markdown",
   "id": "f75ec11b-9b13-4b97-b33e-17d7048de48b",
   "metadata": {},
   "source": [
    "### Boxplot"
   ]
  },
  {
   "cell_type": "code",
   "execution_count": null,
   "id": "d86b8cf5-e492-4745-aa35-86c1847d8f3d",
   "metadata": {},
   "outputs": [],
   "source": [
    "#df=df['ixp', 'date', 'nei_net23', 'qt_net_sym23', 'qt_net_any23_in',\n",
    "#       'qt_net_any23_out', 'nei_net23', 'qt_net_sym23', 'qt_net_asy23_in',\n",
    "#       'qt_net_asy23_out']\n",
    "#ax=df.boxplot(column=['Only Ingress','Only Ingress without Anycast'],by='ixp', figsize=(12,4), layout=(1,3))\n",
    "ax=df.boxplot(column=['qt_net_any23_in','qt_net_asy23_in'],by='ixp', figsize=(12,4), layout=(1,3))\n",
    "\n",
    "# hit auto suptitle\n",
    "plt.suptitle('')\n",
    "# remove automatic label\n",
    "for x in 0,1:\n",
    "    ax[x].set_xlabel('')\n",
    "#Add title to graph\n",
    "ax[0].set_title('Only Ingress ')\n",
    "ax[1].set_title('Only Ingress without Anycast')\n",
    "\n",
    "plt.savefig(IMG+'boxplot_anycast.pdf', bbox_inches='tight',pad_inches = 0)\n",
    "plt.show()\n",
    "\n",
    "\n",
    "#df.boxplot(column=['qt_net_any23_in','qt_net_asy23_in'],by='ixp', figsize=(12,4), layout=(1,3))\n"
   ]
  },
  {
   "cell_type": "markdown",
   "id": "12f9c13d-225d-4614-87a2-e2f5ab5d4324",
   "metadata": {},
   "source": [
    "### Anycast only egress comparison (not afected by anycast)"
   ]
  },
  {
   "cell_type": "code",
   "execution_count": null,
   "id": "4071b17d-7b75-4bb5-97ae-c46446464ca1",
   "metadata": {},
   "outputs": [],
   "source": [
    "plt.figure(figsize=(20,10))\n",
    "plt.figure(figsize=(12,4))\n",
    "\n",
    "plt.subplot(1, 2, 1)\n",
    "\n",
    "ax1=sns.violinplot(x='ixp', y='qt_net_any23_out', data=d1.reset_index())\n",
    "ax1=sns.swarmplot(x='ixp',y='qt_net_any23_out', data=d1.reset_index(),  alpha=0.5)\n",
    "#ax1.set(ylim=(10, 40))\n",
    "\n",
    "plt.subplot(1, 2, 2) # index 2\n",
    "ax2=sns.violinplot(x='ixp', y='qt_net_asy23_out', data=d2.reset_index())\n",
    "ax2=sns.swarmplot(x='ixp',y='qt_net_asy23_out', data=d2.reset_index(),  alpha=0.5)\n",
    "#ax2.set(ylim=(10, 5000))\n",
    "\n",
    "plt.show()"
   ]
  },
  {
   "cell_type": "code",
   "execution_count": null,
   "id": "430757e0-eace-4e41-8996-c5bfc0c3158f",
   "metadata": {},
   "outputs": [],
   "source": []
  },
  {
   "cell_type": "code",
   "execution_count": null,
   "id": "b8db37e4-f5d1-43a3-b75e-f6ae9377e68f",
   "metadata": {},
   "outputs": [],
   "source": []
  },
  {
   "cell_type": "code",
   "execution_count": null,
   "id": "5e2a8d5e-69cb-40b1-ae2b-030eeb368af6",
   "metadata": {},
   "outputs": [],
   "source": []
  },
  {
   "cell_type": "markdown",
   "id": "3976dc2c-426a-40bb-bbdb-28b6c235d470",
   "metadata": {},
   "source": [
    "# PAPER boxplot:: Comparing /24 and /23 \n",
    "<pre>\n",
    "    {fig:boxplot-prefixsize}\n",
    "</pre>"
   ]
  },
  {
   "cell_type": "code",
   "execution_count": null,
   "id": "9b129bf8-0fc3-4ed0-9a87-b3aace7ab28c",
   "metadata": {},
   "outputs": [],
   "source": [
    "d1=asy23\n",
    "d1=d1.rename(columns={'only_in':'Only Ingress', 'only_out':'Only Egress', 'sym':'Symmetric'})\n",
    "d1=d1.set_index(['ixp','date'])\n",
    "\n",
    "d2=asy24\n",
    "d2=d2.rename(columns={'only_in':'Only Ingress(24)', 'only_out':'Only Egress(24)', 'sym':'Symmetric(24)'})\n",
    "d2=d2.set_index(['ixp','date'])\n",
    "\n",
    "df=pd.concat([d1,d2], axis=1)\n",
    "df=df.reset_index()\n"
   ]
  },
  {
   "cell_type": "code",
   "execution_count": null,
   "id": "0e19e052-2f94-4f05-969e-1c96383c027f",
   "metadata": {},
   "outputs": [],
   "source": [
    "\n",
    "# plot 2x3\n",
    "ax=df.boxplot(column=['Symmetric', 'Only Ingress', 'Only Egress','Symmetric(24)', 'Only Ingress(24)', 'Only Egress(24)'],\n",
    "              by='ixp', figsize=(12,8), layout=(2,3))\n",
    "\n",
    "# hit auto suptitle\n",
    "plt.suptitle('')\n",
    "# remove automatic label\n",
    "#for x in range(6):\n",
    "#    ax[x].set_xlabel('')\n",
    "#Add title to graph\n",
    "#ax[0].set_title('Symmetric Networks')\n",
    "#ax[1].set_title('Only Ingress Traffic')\n",
    "#ax[2].set_title('Only Egress Traffic')\n",
    "#ax[0].set_ylabel('Percentage of Networks')\n",
    "\n",
    "plt.savefig(IMG+'boxplot_prefixsize.pdf', bbox_inches='tight',pad_inches = 0)\n",
    "plt.show()"
   ]
  },
  {
   "cell_type": "code",
   "execution_count": null,
   "id": "40da8efc-190f-4d66-8915-20f8f410bd51",
   "metadata": {},
   "outputs": [],
   "source": [
    "plt.figure(figsize=(20,10))\n",
    "\n",
    "plt.subplot(2, 3, 1) # index 1\n",
    "ax1=sns.violinplot(x='ixp', y='Symmetric', data=df.reset_index())\n",
    "ax1.set(ylim=(0, 1))\n",
    "ax1.set_ylabel('Networks')\n",
    "ax1.set_title('Symmetry')\n",
    "ax1.xaxis.set_visible(False)\n",
    "\n",
    "plt.subplot(2, 3, 2) # index 2\n",
    "ax2=sns.violinplot(x='ixp', y='Only Egress', data=df.reset_index())\n",
    "ax2.set(ylim=(0, 1))\n",
    "ax2.set_ylabel('')\n",
    "ax2.set_title('Only Egress')\n",
    "ax2.xaxis.set_visible(False)\n",
    "ax2.yaxis.set_visible(False)\n",
    "\n",
    "plt.subplot(2, 3, 3)\n",
    "ax3=sns.violinplot(x='ixp', y='Only Ingress', data=df.reset_index())\n",
    "ax3.set(ylim=(0, 1))\n",
    "ax3.set_ylabel('')\n",
    "ax3.set_title('Only Ingress')\n",
    "ax3.xaxis.set_visible(False)\n",
    "ax3.yaxis.set_visible(False)\n",
    "ax3.set_title('Only Egress')\n",
    "\n",
    "\n",
    "plt.subplot(2, 3, 4)\n",
    "ax4=sns.violinplot(x='ixp', y='Symmetric(24)', data=df.reset_index())\n",
    "ax4.set(ylim=(0, 1))\n",
    "ax4.set_title('Symmetric(24)')\n",
    "\n",
    "\n",
    "plt.subplot(2, 3, 5)\n",
    "ax5=sns.violinplot(x='ixp', y='Only Egress(24)', data=df.reset_index())\n",
    "ax5.set(ylim=(0, 1))\n",
    "ax5.set_xlabel('')\n",
    "ax5.set_ylabel('')\n",
    "ax5.yaxis.set_visible(False)\n",
    "ax5.set_title('Only Egress(24)')\n",
    "\n",
    "\n",
    "plt.subplot(2, 3, 6)\n",
    "ax6=sns.violinplot(x='ixp', y='Only Ingress(24)', data=df.reset_index())\n",
    "ax6.set(ylim=(0, 1))\n",
    "ax6.set_ylabel('')\n",
    "ax6.set_xlabel('')\n",
    "ax6.yaxis.set_visible(False)\n",
    "ax6.set_title('Only Ingress(24)')\n",
    "\n",
    "plt.savefig(IMG+'violin_prefixsize.pdf', bbox_inches='tight',pad_inches = 0)\n",
    "plt.show()"
   ]
  },
  {
   "cell_type": "code",
   "execution_count": null,
   "id": "140b7e7b-e20a-4309-baa7-c4e2ea8b1f8a",
   "metadata": {},
   "outputs": [],
   "source": [
    "print(df.groupby('ixp').mean().to_latex())"
   ]
  },
  {
   "cell_type": "markdown",
   "id": "b476b3e3-772d-42d9-abe1-a05d5219d9f4",
   "metadata": {},
   "source": [
    "# PAPER Table::: NETWORK SYMMETRY\n",
    "<pre>\n",
    "{tab:percent-net24} AND \n",
    "{tab:percent-net24}\n",
    "</pre>"
   ]
  },
  {
   "cell_type": "code",
   "execution_count": null,
   "id": "fdf344b3-9f78-413a-a5b2-99ab355e7744",
   "metadata": {},
   "outputs": [],
   "source": [
    "# Rename columns\n",
    "col=dict({'nei_net24'\t\t  :'Neig. Net.',\n",
    "         'nei_net23'\t\t  :'Neig. Net.', \n",
    "         'sym24'              :'Symmetric',\n",
    "         'sym23'              :'Symmetric',\n",
    "         'asy24-in'           :'Only Ingress',\n",
    "         'asy23-in'           :'Only Ingress',\n",
    "         'asy24-out'          :'Only Egress',          \n",
    "         'asy23-out'          :'Only Egress',\n",
    "         })\n",
    "\n",
    "#less specific prefix results\n",
    "df=pnet23.join(net23)\n",
    "df=df[['nei_net23',  'sym23',  'asy23-in',  'asy23-out' ]]\n",
    "df=df.rename(columns=col).sort_index()\n",
    "df23=df.reset_index()\n",
    "\n",
    "#more specific prefix results\n",
    "df=pnet24.join(net24)\n",
    "df=df[['nei_net24',  'sym24',  'asy24-in',  'asy24-out' ]]\n",
    "df=df.rename(columns=col).sort_index()\n",
    "df24=df.reset_index()\n",
    "\n",
    "\n",
    "# generate tables \n",
    "print(df24.style\n",
    "      .set_table_styles([\n",
    "                         {'selector': 'toprule', 'props': ':toprule;'},\n",
    "                         {'selector': 'midrule', 'props': ':midrule;'},\n",
    "                         {'selector': 'bottomrule', 'props': ':hline;'},\n",
    "                        ], overwrite=False)\n",
    "      .format({'Neig. Net.':'{0:,}', 'Symmetric':'{0:.2f}\\%', 'Only Ingress':'{0:.2f}\\%', 'Only Egress':'{0:.2f}\\%'})\n",
    "      .hide(axis='index')\n",
    "      .to_latex(position_float=\"centering\", label=\"tab:percent-net24\", caption=\"Network symmetry using more specific prefix\") \n",
    "     )\n",
    "\n",
    "print(df23.style\n",
    "      .set_table_styles([\n",
    "                         {'selector': 'toprule', 'props': ':toprule;'},\n",
    "                         {'selector': 'midrule', 'props': ':midrule;'},\n",
    "                         {'selector': 'bottomrule', 'props': ':hline;'},\n",
    "                         #{'selector': 'th', 'props':[('text-align', 'center')]}, # does not work\n",
    "                        ], overwrite=False)\n",
    "      .format({'Neig. Net.':'{0:,}', 'Symmetric':'{0:.2f}\\%', 'Only Ingress':'{0:.2f}\\%', 'Only Egress':'{0:.2f}\\%'})\n",
    "      .hide(axis='index')\n",
    "      .to_latex(position_float=\"centering\", label=\"tab:percent-net23\", caption=\"Network symmetry using same size prefix\") \n",
    "     )\n",
    "df24"
   ]
  },
  {
   "cell_type": "code",
   "execution_count": null,
   "id": "413b29dc-38a2-4fa3-b71b-b2585394747e",
   "metadata": {},
   "outputs": [],
   "source": [
    "# mean of \n",
    "((net24['nei_net24']-net23['nei_net23'])/net23['nei_net23']).mean()"
   ]
  },
  {
   "cell_type": "code",
   "execution_count": null,
   "id": "b917965c-2fab-4c32-8c96-61f580663379",
   "metadata": {},
   "outputs": [],
   "source": []
  },
  {
   "cell_type": "code",
   "execution_count": null,
   "id": "45d01ba5-7067-4c7a-8e23-5aa41a91a3bd",
   "metadata": {},
   "outputs": [],
   "source": []
  },
  {
   "cell_type": "markdown",
   "id": "bca0e204-f304-4e7f-80fc-5b543b0be0a0",
   "metadata": {},
   "source": [
    "# PAPER Table::: ASN SYMMETRY\n",
    "<pre>\n",
    "{tab:percent-asn24} AND \n",
    "{tab:percent-asn23}\n",
    "</pre>"
   ]
  },
  {
   "cell_type": "markdown",
   "id": "afd9c50a-8976-49a2-b785-c0c801a01ca9",
   "metadata": {},
   "source": [
    "### ASY_ASN_24"
   ]
  },
  {
   "cell_type": "code",
   "execution_count": null,
   "id": "4766a1ad-98c7-451a-ad0d-3a8b02898f83",
   "metadata": {},
   "outputs": [],
   "source": [
    "df=result_view('asy','asn','24')\n",
    "df=df.loc[:, df.columns!='date']\n",
    "data=df.groupby('ixp').agg('median') #agg(['mean','std'])\n",
    "data=data.sort_values('ixp')\n",
    "pc=pd.DataFrame()\n",
    "\n",
    "# regular symmetry (will match 100% on rows)\n",
    "pc['reg-sym24']    = round( data['qt_asn_sym24']/data['nei_asn24']*100,1)\n",
    "# equalized symmetry (discounting Unkown networks)\n",
    "pc['eq-sym24']    = round( data['qt_asn_sym24']/(data['nei_asn24']-(data['qt_asn_onlydiscard24']+data['qt_asn_nonetworks24']))*100,1)\n",
    "\n",
    "pc['hyb24']    = round( data['qt_asn_hib24']/data['nei_asn24']*100,1)\n",
    "pc['asy24-in'] = round( data['qt_asn_asy24_in']/data['nei_asn24']*100,1)\n",
    "pc['asy24-out']= round( data['qt_asn_asy24_out']/data['nei_asn24']*100,1)\n",
    "pc['hyb24']    = round( data['qt_asn_hib24']/data['nei_asn24']*100,1)\n",
    "pc['qt-hyb24'] = round( data['qt_asn_hib24'],1)\n",
    "\n",
    "pc['unmap24']  = round( (data['qt_asn_onlydiscard24']+data['qt_asn_nonetworks24'])/data['nei_asn24']*100,1)\n",
    "pc['qt-unmap24']  = round( (data['qt_asn_onlydiscard24']+data['qt_asn_nonetworks24']),1)\n",
    "\n",
    "asn24  = data\n",
    "pasn24 = pc\n",
    "\n",
    "pasn24\n"
   ]
  },
  {
   "cell_type": "code",
   "execution_count": null,
   "id": "082a734a-f9ae-4929-8219-92fc0c505ca0",
   "metadata": {},
   "outputs": [],
   "source": [
    "data"
   ]
  },
  {
   "cell_type": "markdown",
   "id": "6e1ee7e8-954c-4014-8888-c6b031b1b2d1",
   "metadata": {},
   "source": [
    "### ASY_ASN_23"
   ]
  },
  {
   "cell_type": "code",
   "execution_count": null,
   "id": "ae75dc20-3748-46ed-a986-62ab9fb90232",
   "metadata": {},
   "outputs": [],
   "source": [
    "df=result_view('asy','asn','23')\n",
    "df=df.loc[:, df.columns!='date']\n",
    "data=df.groupby('ixp').agg('median') #agg(['mean','std'])\n",
    "data=data.sort_values('ixp')\n",
    "pc=pd.DataFrame()\n",
    "# regular symmetry (will match 100% on rows)\n",
    "pc['reg-sym23']    = round( data['qt_asn_sym23']/data['nei_asn23']*100,1)\n",
    "# equalized symmetry (discounting Unkown networks)\n",
    "pc['eq-sym23'] = round( data['qt_asn_sym23']/(data['nei_asn23']-(data['qt_asn_onlydiscard23']+data['qt_asn_nonetworks23']))*100,1)\n",
    "pc['asy23-in'] = round( data['qt_asn_asy23_in']/data['nei_asn23']*100,1)\n",
    "pc['asy23-out']= round( data['qt_asn_asy23_out']/data['nei_asn23']*100,1)\n",
    "pc['hyb23']    = round( data['qt_asn_hib23']/data['nei_asn23']*100,1)\n",
    "pc['unmap23']  = round( (data['qt_asn_onlydiscard23']+data['qt_asn_nonetworks23'])/data['nei_asn23']*100,1)\n",
    "\n",
    "asn23  = data\n",
    "pasn23 = pc\n",
    "pc"
   ]
  },
  {
   "cell_type": "code",
   "execution_count": null,
   "id": "399f8001-e8c3-4c3b-9791-6307cff19d11",
   "metadata": {},
   "outputs": [],
   "source": [
    "# Rename columns\n",
    "col=dict({'nei_asn24'\t\t   :'ASes',\n",
    "          'nei_asn23'\t\t   :'ASes', \n",
    "          'eq-sym24'              :'Symm',\n",
    "          'eq-sym23'              :'Symm',\n",
    "          'asy24-in'           :'Only IN',\n",
    "          'asy23-in'           :'Only IN',\n",
    "          'asy24-out'          :'Only EGRS',          \n",
    "          'asy23-out'          :'Only EGRS',\n",
    "          'hyb24'              :'Hybrid',          \n",
    "          'hyb23'              :'Hybrid',  \n",
    "          'qt_asn_asy24_in'    :'Ingress',\n",
    "          'qt_asn_asy23_in'    :'Ingress',\n",
    "          'qt_asn_asy24_out'   :'Egress',\n",
    "          'qt_asn_asy23_out'   :'Egress',\n",
    "          'unmap23'           :'Unk',\n",
    "          'unmap24'           :'Unk',\n",
    "         })\n",
    "\n",
    "#less specific prefix results\n",
    "df=pasn23.join(asn23)\n",
    "df"
   ]
  },
  {
   "cell_type": "code",
   "execution_count": null,
   "id": "8f9503c9-9c1b-44a7-a70f-dead57aa61bb",
   "metadata": {},
   "outputs": [],
   "source": [
    "#df=df[['nei_asn23',  'sym23', 'hyb23',  'asy23-in', 'qt_asn_asy23_in',  'asy23-out', 'qt_asn_asy23_out' ]]\n",
    "df=df[['nei_asn23', 'unmap23', 'eq-sym23', 'hyb23',  'qt_asn_asy23_in', 'qt_asn_asy23_out' ]]\n",
    "\n",
    "df=df.rename(columns=col).sort_index()\n",
    "df23=df.reset_index()\n",
    "\n",
    "#more specific prefix results\n",
    "df=pasn24.join(asn24)\n",
    "#df=df[['nei_asn24',  'sym24', 'hyb24',  'asy24-in', 'qt_asn_asy24_in',  'asy24-out', 'qt_asn_asy24_out' ]]\n",
    "df=df[['nei_asn24', 'unmap24', 'sym24', 'hyb24',  'qt_asn_asy24_in',  'qt_asn_asy24_out' ]]\n",
    "\n",
    "df=df.rename(columns=col).sort_index()\n",
    "df24=df.reset_index()\n",
    "\n",
    "df"
   ]
  },
  {
   "cell_type": "code",
   "execution_count": null,
   "id": "c64b375d-95a1-4392-a917-ff02481bebea",
   "metadata": {},
   "outputs": [],
   "source": [
    "# generate tables \n",
    "print(df24.style\n",
    "      .set_table_styles([\n",
    "                         {'selector': 'toprule', 'props': ':toprule;'},\n",
    "                         {'selector': 'midrule', 'props': ':midrule;'},\n",
    "                         {'selector': 'bottomrule', 'props': ':hline;'},\n",
    "                        ], overwrite=False)\n",
    "      .format({'ASes':'{0:,.0f}', 'Unk':'{0:.1f}\\%', 'Symm':'{0:.1f}\\%', 'Hybrid':'{0:.1f}\\%', \n",
    "               'Only IN':'{0:.2f}\\%',   'Ingress':'{0:,.0f}',\n",
    "               'Only EGRS':'{0:.2f}\\%', 'Egress':'{0:,.0f}',})\n",
    "      .hide(axis='index')\n",
    "      .to_latex(position_float=\"centering\", label=\"tab:percent-asn24\", caption=\"ASes symmetry using more specific prefix\") \n",
    "     )\n",
    "\n",
    "print(df23.style\n",
    "      .set_table_styles([\n",
    "                         {'selector': 'toprule', 'props': ':toprule;'},\n",
    "                         {'selector': 'midrule', 'props': ':midrule;'},\n",
    "                         {'selector': 'bottomrule', 'props': ':hline;'},\n",
    "                         #{'selector': 'th', 'props':[('text-align', 'center')]}, # does not work\n",
    "                        ], overwrite=False)\n",
    "      .format({'ASes':'{0:,.0f}', 'Unk':'{0:.1f}\\%', 'Symm':'{0:.1f}\\%', 'Hybrid':'{0:.1f}\\%', \n",
    "               'Only IN':'{0:.2f}\\%',   'Ingress':'{0:,.0f}',\n",
    "               'Only EGRS':'{0:.2f}\\%', 'Egress':'{0:,.0f}',})\n",
    "      .hide(axis='index')\n",
    "      .to_latex(position_float=\"centering\", label=\"tab:percent-asn23\", caption=\"ASes symmetry using same size prefix\") \n",
    "     )\n",
    "df24"
   ]
  },
  {
   "cell_type": "code",
   "execution_count": null,
   "id": "57f06130-212b-4347-9ff6-f26dcf9a1396",
   "metadata": {},
   "outputs": [],
   "source": []
  },
  {
   "cell_type": "markdown",
   "id": "e5b272b0-7623-4fc7-9e73-801e3c796645",
   "metadata": {},
   "source": [
    "# Networks table total numbers"
   ]
  },
  {
   "cell_type": "code",
   "execution_count": null,
   "id": "7db2688d-5891-4b51-8625-912e0cf84c82",
   "metadata": {},
   "outputs": [],
   "source": [
    "df=net23.join(net24)\n",
    "df=df[['nei_net24','nei_net23', 'qt_net_sym24','qt_net_sym23', 'qt_net_asy24_in','qt_net_asy23_in', 'qt_net_asy24_out','qt_net_asy23_out',]]\n",
    "#      'sym23','asy23-in','asy23-out' ,'sym24','asy24-in','asy24-out' ]]\n",
    "col=dict({'nei_net24'\t\t  :'24-nei-net',\n",
    "         'nei_net23'\t\t  :'23-nei-net', \n",
    "         'qt_net_sym24'\t      :'24-nei-sym',\n",
    "         'qt_net_sym23'\t      :'23-nei-sym', \n",
    "         'qt_net_asy24_in'    :'24-only-in',\n",
    "         'qt_net_asy23_in'    :'23-only-in', \n",
    "         'qt_net_asy24_out'   :'24-only-out',\n",
    "         'qt_net_asy23_out'   :'23-only-out',\n",
    "         'sym23'              :'23-perc-sym',\n",
    "         'asy23-in'           :'23-perc-in',\n",
    "         'asy23-out'          :'23-perc-out',\n",
    "         'sym24'              :'24-perc-sym',\n",
    "         'asy24-in'           :'24-perc-in',\n",
    "         'asy24-out'          :'24-perc-out',          \n",
    "         })\n",
    "df=df.rename(columns=col)\n",
    "\n",
    "d=df.set_axis( df.columns.str.split('-',1,expand=True), axis='columns', inplace=False ).swaplevel(0,1, axis='columns').reset_index()\n",
    "print( d.style\n",
    "      .set_table_styles([\n",
    "                         {'selector': 'toprule', 'props': ':toprule;'},\n",
    "                         {'selector': 'midrule', 'props': ':midrule;'},\n",
    "                         {'selector': 'bottomrule', 'props': ':hline;'},\n",
    "                        ], overwrite=False)\n",
    "      .format(precision=1, thousands=\",\")   #precision 1 because of median on nets - sometimes 0.5\n",
    "      .hide(axis='index')\n",
    "      .to_latex(position_float=\"centering\", label=\"tab:netasy\") \n",
    "     )\n",
    "d"
   ]
  },
  {
   "cell_type": "code",
   "execution_count": null,
   "id": "a6aff0dd-ab9c-479f-9739-b8f8efb70264",
   "metadata": {},
   "outputs": [],
   "source": []
  },
  {
   "cell_type": "markdown",
   "id": "81bd0b4d-520b-4910-ae80-927c2e4b79f9",
   "metadata": {},
   "source": [
    "## ALL INFO IN ONE TABLE {tab:percent-net}"
   ]
  },
  {
   "cell_type": "code",
   "execution_count": null,
   "id": "cbb059e7-cc96-413d-b124-1d53401e0976",
   "metadata": {},
   "outputs": [],
   "source": [
    "# join numbers and percentage\n",
    "df=pnet23.join(pnet24).join(net23).join(net24)\n",
    "\n",
    "# order columns\n",
    "#df=df[['nei_net24',  'qt_net_sym24','sym24',  'qt_net_asy24_in','asy24-in',  'qt_net_asy24_out','asy24-out',\n",
    "#       'nei_net23',  'qt_net_sym23','sym23',  'qt_net_asy23_in','asy23-in',  'qt_net_asy23_out','asy23-out' ]]\n",
    "df=df[['nei_net24',  'sym24',  'asy24-in',  'asy24-out',\n",
    "       'nei_net23',  'sym23',  'asy23-in',  'asy23-out' ]]\n",
    "\n",
    "\n",
    "\n",
    "# rename for multiIndexing\n",
    "col=dict({'nei_net24'\t\t  :'24-nei-net',\n",
    "         'nei_net23'\t\t  :'23-nei-net', \n",
    "         'qt_net_sym24'\t      :'24-nei-sym',\n",
    "         'qt_net_sym23'\t      :'23-nei-sym', \n",
    "         'qt_net_asy24_in'    :'24-only-in',\n",
    "         'qt_net_asy23_in'    :'23-only-in', \n",
    "         'qt_net_asy24_out'   :'24-only-out',\n",
    "         'qt_net_asy23_out'   :'23-only-out',\n",
    "         'sym23'              :'23-perc-sym',\n",
    "         'asy23-in'           :'23-perc-in',\n",
    "         'asy23-out'          :'23-perc-out',\n",
    "         'sym24'              :'24-perc-sym',\n",
    "         'asy24-in'           :'24-perc-in',\n",
    "         'asy24-out'          :'24-perc-out',          \n",
    "         })\n",
    "df=df.rename(columns=col).sort_index()\n",
    "df\n",
    "\n",
    "d=df.set_axis( df.columns.str.split('-',1,expand=True), axis='columns', inplace=False )#.swaplevel(0,1, axis='columns')#.reset_index()\n",
    "d\n",
    "\n",
    "d.stack(0).swaplevel(0,1, axis='rows').T\n",
    "\n",
    "\n",
    "\n",
    "print(d.style\n",
    "      .set_table_styles([\n",
    "                         {'selector': 'toprule', 'props': ':toprule;'},\n",
    "                         {'selector': 'midrule', 'props': ':midrule;'},\n",
    "                         {'selector': 'bottomrule', 'props': ':hline;'},\n",
    "                         #{'selector': 'th', 'props':[('text-align', 'center')]}, # does not work\n",
    "                        ], overwrite=False)\n",
    "      .format(precision=1, thousands=\",\")   #precision 1 because of median on nets - sometimes 0.5\n",
    "      #.hide(axis='index')\n",
    "      .to_latex(position_float=\"centering\", label=\"tab:percent-net\") \n",
    "     )\n",
    "\n",
    "d.style\\\n",
    "      .set_table_styles([\n",
    "                         {'selector': 'toprule', 'props': ':toprule;'},\n",
    "                         {'selector': 'midrule', 'props': ':midrule;'},\n",
    "                         {'selector': 'bottomrule', 'props': ':hline;'},\n",
    "                         {'selector': 'th', 'props':[('text-align', 'center')]},\n",
    "                        ], overwrite=False)\\\n",
    "      .format(precision=2, thousands=\",\")   #precision 1 because of median on nets - sometimes 0.5\n",
    "      #.hide(axis='index')\n",
    "      #.to_latex(position_float=\"centering\", label=\"tab:percent-net\") "
   ]
  },
  {
   "cell_type": "code",
   "execution_count": null,
   "id": "694f2381-14ee-4828-adef-921dea3c81ae",
   "metadata": {},
   "outputs": [],
   "source": []
  },
  {
   "cell_type": "markdown",
   "id": "9ee6a3a0-3e3e-449c-8100-78b1f4805822",
   "metadata": {},
   "source": [
    "# TEST AREA"
   ]
  },
  {
   "cell_type": "code",
   "execution_count": null,
   "id": "8c1b1744-ee20-4328-8c1c-c294b0ed328a",
   "metadata": {},
   "outputs": [],
   "source": [
    "df23"
   ]
  },
  {
   "cell_type": "code",
   "execution_count": null,
   "id": "7c7d811f-f020-420b-9aef-5b769c8136a9",
   "metadata": {},
   "outputs": [],
   "source": [
    "df24"
   ]
  },
  {
   "cell_type": "code",
   "execution_count": null,
   "id": "7dc0eda9-d59a-4e82-80d3-4163ecfe379f",
   "metadata": {},
   "outputs": [],
   "source": [
    "df24.set_index('ixp').subtract(df23.set_index('ixp'))"
   ]
  },
  {
   "cell_type": "code",
   "execution_count": null,
   "id": "89c777e4-4f63-4829-9a7a-705c2f9ec5e1",
   "metadata": {},
   "outputs": [],
   "source": [
    "df24"
   ]
  },
  {
   "cell_type": "code",
   "execution_count": null,
   "id": "9809c1b8-d768-4341-923e-c39b8192943a",
   "metadata": {},
   "outputs": [],
   "source": [
    "df23"
   ]
  },
  {
   "cell_type": "code",
   "execution_count": null,
   "id": "7a3c9467-7ee0-4534-bf74-bfc57de47385",
   "metadata": {},
   "outputs": [],
   "source": [
    "df24.set_index('ixp').subtract(df23.set_index('ixp'))"
   ]
  },
  {
   "cell_type": "code",
   "execution_count": null,
   "id": "97928b30-cc96-4e9e-9dae-d4306ad931ce",
   "metadata": {},
   "outputs": [],
   "source": [
    "df24.set_index('ixp').subtract(df23.set_index('ixp'))"
   ]
  },
  {
   "cell_type": "code",
   "execution_count": null,
   "id": "c6a940b4-135b-4eef-8a88-098e117cd5d2",
   "metadata": {},
   "outputs": [],
   "source": [
    "# # egress only ixsp\n",
    "# df=pd.read_csv('/Users/bertholdo/Downloads/sp_116egress_networks.csv', dtype=str)\n",
    "# len(df[['name_asn']].drop_duplicates()['name_asn'].to_list())\n",
    "# df=df[['AS', 'type', 'name_asn' ]].drop_duplicates()"
   ]
  },
  {
   "cell_type": "code",
   "execution_count": null,
   "id": "11057aed-48d2-482f-8707-23b348f28267",
   "metadata": {},
   "outputs": [],
   "source": []
  }
 ],
 "metadata": {
  "kernelspec": {
   "display_name": "Python 3 (ipykernel)",
   "language": "python",
   "name": "python3"
  },
  "language_info": {
   "codemirror_mode": {
    "name": "ipython",
    "version": 3
   },
   "file_extension": ".py",
   "mimetype": "text/x-python",
   "name": "python",
   "nbconvert_exporter": "python",
   "pygments_lexer": "ipython3",
   "version": "3.8.5"
  }
 },
 "nbformat": 4,
 "nbformat_minor": 5
}

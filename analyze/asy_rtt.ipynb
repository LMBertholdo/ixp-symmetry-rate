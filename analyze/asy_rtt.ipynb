{
 "cells": [
  {
   "cell_type": "markdown",
   "id": "506b7ce5-1677-4ee1-bcfc-fcacfd81ae56",
   "metadata": {},
   "source": [
    "# RTT Analisys for asymmetry paper"
   ]
  },
  {
   "cell_type": "code",
   "execution_count": 1,
   "id": "3e74377b-e346-4a56-8879-ba469d72ebf4",
   "metadata": {},
   "outputs": [],
   "source": [
    "import pandas as pd\n",
    "import numpy as np\n",
    "import seaborn as sns\n",
    "import plotly \n",
    "import plotly.graph_objs as go\n",
    "import plotly.express as px\n",
    "from IPython.display import HTML\n",
    "from IPython.display import display\n",
    "import os\n",
    "import re\n",
    "import glob\n",
    "import fnmatch\n",
    "from datetime import date, datetime\n",
    "\n",
    "import matplotlib.pyplot as plt\n",
    "import seaborn as sns\n",
    "import timeit\n",
    "\n",
    "from pandarallel import pandarallel\n",
    "import argparse\n",
    "import sys"
   ]
  },
  {
   "cell_type": "code",
   "execution_count": 2,
   "id": "db4d335e-cf02-4c79-a67d-1e50bee28db9",
   "metadata": {},
   "outputs": [],
   "source": [
    "import collections\n",
    "\n",
    "import numpy as np\n",
    "import pandas as pd\n",
    "from pandas import *\n",
    "from numpy import int64,float64\n",
    "\n",
    "import os\n",
    "import sys\n",
    "import glob\n",
    "import subprocess\n",
    "import paramiko\n",
    "import time\n",
    "from datetime import datetime, timedelta, date\n",
    "\n",
    "import seaborn as sns\n",
    "import plotly \n",
    "import plotly.graph_objs as go\n",
    "from IPython.display import HTML\n",
    "import plotly.io as pio\n",
    "pio.renderers.default='iframe'  # Dont forget: to use plotly MUST set\n",
    "import plotly.express as px\n",
    "import matplotlib.pyplot as plt\n",
    "\n",
    "\n",
    "import re\n",
    "import json\n",
    "from pprint import pprint\n",
    "import requests\n",
    "import cfscrape\n",
    "from lxml import etree\n",
    "from bs4 import BeautifulSoup\n",
    "import requests\n",
    "from pandas.io.json import json_normalize\n"
   ]
  },
  {
   "cell_type": "markdown",
   "id": "7b2d86f3-656c-4158-aaf1-cf9a74a8c34a",
   "metadata": {},
   "source": [
    "# Globals"
   ]
  },
  {
   "cell_type": "code",
   "execution_count": 3,
   "id": "e49a2d04-08f3-438f-8ac8-4ff782154889",
   "metadata": {},
   "outputs": [],
   "source": [
    "IMG='/Users/bertholdo/PAPERS/asym/leandro/'"
   ]
  },
  {
   "cell_type": "markdown",
   "id": "5f6a7104-7fd1-4545-861f-abd73bcfc53d",
   "metadata": {},
   "source": [
    "# Functions\n"
   ]
  },
  {
   "cell_type": "code",
   "execution_count": 4,
   "id": "cc0becff-67eb-4b7d-8873-d09d6e6edf05",
   "metadata": {},
   "outputs": [],
   "source": [
    "def is_jupyter_notebook():\n",
    "    ''' Return True if is running inside Jupyter Notebook or Jupyter lab '''\n",
    "    try:\n",
    "        __IPYTHON__\n",
    "        _in_ipython_session = True\n",
    "    except NameError:\n",
    "        _in_ipython_session = False\n",
    "    return _in_ipython_session"
   ]
  },
  {
   "cell_type": "code",
   "execution_count": 5,
   "id": "aae4277d-a63f-4d38-869e-75e6f5ef2020",
   "metadata": {},
   "outputs": [],
   "source": [
    "def map_tangled_to_IXP_names (name):\n",
    "    tangled_in=['au-syd-anycast01', 'br-gru-anycast01', 'br-poa-anycast02', 'de-fra-anycast01', 'fr-par-anycast01', \n",
    "                'jp-hnd-anycast01', 'nl-ams-anycast01', 'sg-sin-anycast01', 'uk-lnd-anycast02', 'us-sea-anycast01', 'za-jnb-anycast01',\n",
    "                'us-los-anycast01', 'us-mia-anycast01', 'us-was-anycast01', 'dk-cop-anycast01', 'nl-ens-anycast02', 'nl-arn-anycast01']\n",
    "    ixp_out=[   'IX-AU',            'SPO.IX.br',        'POA.IX.br',        'DECIX',            'FranceIX', \n",
    "                'Drain',            'AMSIX',            'EQ-Sin',           'LINX',             'SIX',               'NAPAfrica',\n",
    "                'NaN-LOS',          'NaN-MIA',          'NaN-WAS',          'NaN-COP',          'Nan-ENS',           'NaN-ARN']\n",
    "\n",
    "    ixp_out=[   'auix',             'spoixbr',          'poaixbr',          'decix',            'franceix', \n",
    "                'NaN-HND',          'amsix',            'eqsin',            'linx',             'six',               'napafrica',\n",
    "                'NaN-LOS',          'NaN-MIA',          'NaN-WAS',          'NaN-COP',          'Nan-ENS',           'NaN-ARN']    \n",
    "    \n",
    "    name=map_tangled_names(name)\n",
    "    dict_tangled = dict(zip(tangled_in, ixp_out)) \n",
    "    return dict_tangled[name]\n",
    "\n",
    "def map_tangled_names (name):\n",
    "    tangled_short=['au-syd', 'br-gru', 'br-poa', 'de-fra', 'fr-par', 'jp-hnd', 'nl-ams', 'sg-sin', 'uk-lnd', 'us-sea', 'za-jnb', 'us-los', \n",
    "               'us-mia', 'us-was', 'dk-cop', 'nl-ens', 'nl-arn', 'syd', 'gru', 'poa', 'fra', 'par', 'hnd', 'ams', 'sin', 'lnd', 'sea', \n",
    "               'jnb', 'los', 'mia', 'was', 'cop', 'ens', 'arn']\n",
    "    tangled_full=['au-syd-anycast01', 'br-gru-anycast01', 'br-poa-anycast02', 'de-fra-anycast01', 'fr-par-anycast01', \n",
    "              'jp-hnd-anycast01', 'nl-ams-anycast01', 'sg-sin-anycast01', 'uk-lnd-anycast02', 'us-sea-anycast01', 'za-jnb-anycast01',\n",
    "              'us-los-anycast01', 'us-mia-anycast01', 'us-was-anycast01', 'dk-cop-anycast01', 'nl-ens-anycast02', 'nl-arn-anycast01',\n",
    "              'au-syd-anycast01', 'br-gru-anycast01', 'br-poa-anycast02', 'de-fra-anycast01', 'fr-par-anycast01', \n",
    "              'jp-hnd-anycast01', 'nl-ams-anycast01', 'sg-sin-anycast01', 'uk-lnd-anycast02', 'us-sea-anycast01', 'za-jnb-anycast01',\n",
    "              'us-los-anycast01', 'us-mia-anycast01', 'us-was-anycast01', 'dk-cop-anycast01', 'nl-ens-anycast02', 'nl-arn-anycast01']\n",
    "\n",
    "    if not 'anycast' in name:\n",
    "        dict_tangled = dict(zip(tangled_short, tangled_full)) \n",
    "        return dict_tangled[name]\n",
    "    else:\n",
    "        return name"
   ]
  },
  {
   "cell_type": "code",
   "execution_count": 6,
   "id": "3fc48e35-2277-488d-8ed8-83cd8f10939b",
   "metadata": {},
   "outputs": [],
   "source": [
    "# quantiles\n",
    "def q1(x):\n",
    "    return x.quantile(0.25)\n",
    "def q2(x):\n",
    "    return x.quantile(0.50)\n",
    "def q3(x):\n",
    "    return x.quantile(0.75)"
   ]
  },
  {
   "cell_type": "code",
   "execution_count": 7,
   "id": "ec7da054-2d23-42d7-9ed7-48c17ba664f9",
   "metadata": {},
   "outputs": [],
   "source": [
    "def gera_dif24_rtt(ixp):\n",
    "    '''\n",
    "    (1)Get a measurement day of asymmetry, (2)consider just SYM in that day, (3)use just SYM_24 RTT measumements\n",
    "    (4)get a list of SYM23 to isolate wich SYM24 was added. (5)generate DF_RTT23 for simmetrical ASes RTT and a DF_DIF24\n",
    "    for new IPs added to each AS. (5)filter just ASes who have at least one measurement from /23 and /24.\n",
    "    return a dataframe with MEAN/MEDIAN of each case /23 and /24\n",
    "    '''\n",
    "    df24=rtt[ (rtt['type']=='sym') & (rtt['pfxsize']=='/24') & (rtt['ixp']==ixp)]\n",
    "    df23=rtt[ (rtt['type']=='sym') & (rtt['pfxsize']=='/23') & (rtt['ixp']==ixp)]\n",
    "    \n",
    "    # ips added by /24\n",
    "    s23=set(df23['meta_destination_address'].to_list())\n",
    "    s24=set(df24['meta_destination_address'].to_list())\n",
    "    # listas de ips /24 e /23 e a diferenca dos adicionados pelo /24\n",
    "    l24=list(s24)\n",
    "    l23=list(s23)\n",
    "    ldif=list(s24-s23)\n",
    "    \n",
    "    # verifica o rtt do arquivo /24 usando os ips existentes no /23 e a diferenca dos /24 (pra usar so uma medida de rtt)\n",
    "    #df_rtt23 = df23[df23['meta_destination_address'].isin(l23)]\n",
    "    df_rtt23 = df24[df24['meta_destination_address'].isin(l23)]\n",
    "    df_dif24 = df24[df24['meta_destination_address'].isin(ldif)]\n",
    "    \n",
    "    \n",
    "    as23=df_rtt23.groupby(['source_address_asn'])['send_receive_time_diff'].agg(['median','mean'])#.reset_index()\n",
    "    as23=as23.rename(columns = {'median':'median-23', 'mean':'mean-23'})\n",
    "    \n",
    "    as24=df_dif24.groupby(['source_address_asn'])['send_receive_time_diff'].agg(['median','mean'])#.reset_index()\n",
    "    as24=as24.rename(columns = {'median':'median-24', 'mean':'mean-24'})\n",
    "    \n",
    "    # Join mean/medians\n",
    "    df=pd.concat([as23,as24], axis=1).reset_index()\n",
    "    df['ixp']=ixp\n",
    "    # Drop all ASes dont have /23 and /24\n",
    "    df=df.dropna()\n",
    "    #return df[['ixp','source_address_asn','mean-23', 'mean-24','median-23','median-24']]\n",
    "    return df[['ixp','source_address_asn','mean-23', 'mean-24']]"
   ]
  },
  {
   "cell_type": "markdown",
   "id": "0b9abc45-b0e5-4c94-b2e5-e1e0de95d6cd",
   "metadata": {},
   "source": [
    "# MAIN"
   ]
  },
  {
   "cell_type": "code",
   "execution_count": 8,
   "id": "b23a7881-1279-486b-984f-cb26062fdd6c",
   "metadata": {},
   "outputs": [
    {
     "name": "stdout",
     "output_type": "stream",
     "text": [
      "rtt/uk_lnd24_2022-04-19.csv\n",
      "rtt/uk_lnd23_2022-04-19.csv\n",
      "rtt/nl_ams24_2022-04-19.csv\n",
      "rtt/nl_ams23_2022-04-19.csv\n",
      "rtt/us_sea24_2022-04-19.csv\n",
      "rtt/us_sea23_2022-04-19.csv\n",
      "rtt/br_gru24_2022-04-19.csv\n",
      "rtt/br_gru23_2022-04-19.csv\n",
      "rtt/br_poa24_2022-04-19.csv\n",
      "rtt/br_poa23_2022-04-19.csv\n"
     ]
    },
    {
     "data": {
      "text/html": [
       "<div>\n",
       "<style scoped>\n",
       "    .dataframe tbody tr th:only-of-type {\n",
       "        vertical-align: middle;\n",
       "    }\n",
       "\n",
       "    .dataframe tbody tr th {\n",
       "        vertical-align: top;\n",
       "    }\n",
       "\n",
       "    .dataframe thead th {\n",
       "        text-align: right;\n",
       "    }\n",
       "</style>\n",
       "<table border=\"1\" class=\"dataframe\">\n",
       "  <thead>\n",
       "    <tr style=\"text-align: right;\">\n",
       "      <th></th>\n",
       "      <th>source_address_asn</th>\n",
       "      <th>Organization</th>\n",
       "      <th>meta_destination_address</th>\n",
       "      <th>send_receive_time_diff</th>\n",
       "      <th>ixp</th>\n",
       "      <th>type</th>\n",
       "      <th>date</th>\n",
       "      <th>pfxsize</th>\n",
       "    </tr>\n",
       "  </thead>\n",
       "  <tbody>\n",
       "    <tr>\n",
       "      <th>0</th>\n",
       "      <td>20915</td>\n",
       "      <td>100 Percent IT</td>\n",
       "      <td>87.254.14.255</td>\n",
       "      <td>5.557903</td>\n",
       "      <td>linx</td>\n",
       "      <td>asy_out</td>\n",
       "      <td>2022-04-19</td>\n",
       "      <td>/24</td>\n",
       "    </tr>\n",
       "    <tr>\n",
       "      <th>1</th>\n",
       "      <td>20915</td>\n",
       "      <td>100 Percent IT</td>\n",
       "      <td>87.254.30.3</td>\n",
       "      <td>5.442801</td>\n",
       "      <td>linx</td>\n",
       "      <td>asy_out</td>\n",
       "      <td>2022-04-19</td>\n",
       "      <td>/24</td>\n",
       "    </tr>\n",
       "  </tbody>\n",
       "</table>\n",
       "</div>"
      ],
      "text/plain": [
       "   source_address_asn    Organization meta_destination_address  \\\n",
       "0               20915  100 Percent IT            87.254.14.255   \n",
       "1               20915  100 Percent IT              87.254.30.3   \n",
       "\n",
       "   send_receive_time_diff   ixp     type        date pfxsize  \n",
       "0                5.557903  linx  asy_out  2022-04-19     /24  \n",
       "1                5.442801  linx  asy_out  2022-04-19     /24  "
      ]
     },
     "metadata": {},
     "output_type": "display_data"
    }
   ],
   "source": [
    "files=glob.glob('rtt/*csv')\n",
    "rtt=pd.DataFrame()\n",
    "for f in files:\n",
    "    print (f)\n",
    "    df=pd.read_csv(f, sep=';', encoding = \"ISO-8859-1\")\n",
    "    df[['ixp2', 'pfxsize']]=df['file_type'].str.split(' ', expand=True)\n",
    "    rtt=pd.concat([rtt, df], ignore_index=True)\n",
    "rtt=rtt[['source_address_asn', 'Organization', 'meta_destination_address','send_receive_time_diff', 'ixp','type', 'date','pfxsize']]\n",
    "rtt['ixp']=rtt['ixp'].apply(map_tangled_to_IXP_names)\n",
    "display(rtt.head(2))"
   ]
  },
  {
   "cell_type": "markdown",
   "id": "289b46d7-f80e-403d-9432-6358a94fc11f",
   "metadata": {},
   "source": [
    "## Table {tab:rtt-sym} on Appendix\n",
    "stdev is big when we compare /23 and /24 but median stay same."
   ]
  },
  {
   "cell_type": "code",
   "execution_count": 9,
   "id": "e9963631-1423-4d8d-b761-e765a325ff3b",
   "metadata": {},
   "outputs": [
    {
     "name": "stdout",
     "output_type": "stream",
     "text": [
      "\\begin{table}\n",
      "\\centering\n",
      "\\caption{RTT of symmetrical paths}\n",
      "\\label{tab:rtt-sym}\n",
      "\\begin{tabular}{llrrrrrr}\n",
      "\\toprule\n",
      " &  & mean & std & median & q1 & q2 & q3 \\\\\n",
      "ixp & pfxsize &  &  &  &  &  &  \\\\\n",
      "\\midrule\n",
      "\\multirow[c]{2}{*}{amsix} & /23 & 69.69 & 817.02 & 28.19 & 9.37 & 28.19 & 99.93 \\\\\n",
      " & /24 & 63.81 & 904.99 & 27.92 & 10.61 & 27.92 & 92.24 \\\\\n",
      "\\multirow[c]{2}{*}{linx} & /23 & 77.27 & 215.77 & 32.79 & 9.40 & 32.79 & 127.95 \\\\\n",
      " & /24 & 73.11 & 832.27 & 30.12 & 11.14 & 30.12 & 95.61 \\\\\n",
      "\\multirow[c]{2}{*}{poaixbr} & /23 & 59.91 & 241.75 & 20.34 & 16.62 & 20.34 & 27.81 \\\\\n",
      " & /24 & 62.23 & 612.20 & 19.82 & 15.79 & 19.82 & 27.75 \\\\\n",
      "\\multirow[c]{2}{*}{six} & /23 & 88.70 & 89.66 & 68.52 & 44.00 & 68.52 & 144.84 \\\\\n",
      " & /24 & 90.76 & 383.22 & 67.75 & 43.99 & 67.75 & 145.39 \\\\\n",
      "\\multirow[c]{2}{*}{spoixbr} & /23 & 80.54 & 457.47 & 29.31 & 10.76 & 29.31 & 139.79 \\\\\n",
      " & /24 & 79.90 & 533.13 & 28.37 & 10.22 & 28.37 & 139.69 \\\\\n",
      "\\hline\n",
      "\\end{tabular}\n",
      "\\end{table}\n",
      "\n"
     ]
    }
   ],
   "source": [
    "# Sym Networks RTT /23 and /24 stay same\n",
    "df=rtt[rtt['type']=='sym']\n",
    "data=df.groupby(['ixp','pfxsize'])['send_receive_time_diff'].agg(['mean','std','median',q1,q2,q3])\n",
    "# generate tables \n",
    "print(data.style\n",
    "      .set_table_styles([\n",
    "                         {'selector': 'toprule', 'props': ':toprule;'},\n",
    "                         {'selector': 'midrule', 'props': ':midrule;'},\n",
    "                         {'selector': 'bottomrule', 'props': ':hline;'},\n",
    "                        ], overwrite=False)\n",
    "      .format({'mean':'{0:.2f}','std':'{0:.2f}','median':'{0:.2f}', 'q1':'{0:.2f}','q2':'{0:.2f}','q3':'{0:.2f}'})\n",
    "      #.hide(axis='index')\n",
    "      .to_latex(position_float=\"centering\", label=\"tab:rtt-sym\", caption=\"RTT of symmetrical paths\") \n",
    "     )"
   ]
  },
  {
   "cell_type": "markdown",
   "id": "1de81c58-e9a5-4025-8b19-d1cf74a61a70",
   "metadata": {},
   "source": [
    "## Vizualizing RTT impact of  /24 prefixes os ASes"
   ]
  },
  {
   "cell_type": "code",
   "execution_count": 10,
   "id": "50150acc-d49c-49b4-9a74-ea1f49451c24",
   "metadata": {},
   "outputs": [
    {
     "data": {
      "text/html": [
       "<div>\n",
       "<style scoped>\n",
       "    .dataframe tbody tr th:only-of-type {\n",
       "        vertical-align: middle;\n",
       "    }\n",
       "\n",
       "    .dataframe tbody tr th {\n",
       "        vertical-align: top;\n",
       "    }\n",
       "\n",
       "    .dataframe thead th {\n",
       "        text-align: right;\n",
       "    }\n",
       "</style>\n",
       "<table border=\"1\" class=\"dataframe\">\n",
       "  <thead>\n",
       "    <tr style=\"text-align: right;\">\n",
       "      <th></th>\n",
       "      <th>ixp</th>\n",
       "      <th>source_address_asn</th>\n",
       "      <th>23</th>\n",
       "      <th>24</th>\n",
       "    </tr>\n",
       "  </thead>\n",
       "  <tbody>\n",
       "    <tr>\n",
       "      <th>1</th>\n",
       "      <td>linx</td>\n",
       "      <td>1248</td>\n",
       "      <td>32.532240</td>\n",
       "      <td>266.776664</td>\n",
       "    </tr>\n",
       "    <tr>\n",
       "      <th>2</th>\n",
       "      <td>linx</td>\n",
       "      <td>1267</td>\n",
       "      <td>28.013735</td>\n",
       "      <td>39.400794</td>\n",
       "    </tr>\n",
       "  </tbody>\n",
       "</table>\n",
       "</div>"
      ],
      "text/plain": [
       "    ixp  source_address_asn         23          24\n",
       "1  linx                1248  32.532240  266.776664\n",
       "2  linx                1267  28.013735   39.400794"
      ]
     },
     "execution_count": 10,
     "metadata": {},
     "output_type": "execute_result"
    }
   ],
   "source": [
    "asrtt=pd.DataFrame()\n",
    "for ixp in ['linx', 'amsix', 'six', 'spoixbr', 'poaixbr']:\n",
    "    df=gera_dif24_rtt(ixp)\n",
    "    df=df.rename(columns={'mean-23':'23', 'mean-24':'24'})\n",
    "    asrtt=pd.concat([asrtt,df],axis=0)\n",
    "asrtt.head(2)    "
   ]
  },
  {
   "cell_type": "code",
   "execution_count": 11,
   "id": "eb546138-baa3-4c3d-b61b-a4c9d0ae132c",
   "metadata": {},
   "outputs": [
    {
     "data": {
      "text/html": [
       "<div>\n",
       "<style scoped>\n",
       "    .dataframe tbody tr th:only-of-type {\n",
       "        vertical-align: middle;\n",
       "    }\n",
       "\n",
       "    .dataframe tbody tr th {\n",
       "        vertical-align: top;\n",
       "    }\n",
       "\n",
       "    .dataframe thead th {\n",
       "        text-align: right;\n",
       "    }\n",
       "</style>\n",
       "<table border=\"1\" class=\"dataframe\">\n",
       "  <thead>\n",
       "    <tr style=\"text-align: right;\">\n",
       "      <th></th>\n",
       "      <th>ixp</th>\n",
       "      <th>source_address_asn</th>\n",
       "      <th>pfxsize</th>\n",
       "      <th>ms</th>\n",
       "    </tr>\n",
       "  </thead>\n",
       "  <tbody>\n",
       "    <tr>\n",
       "      <th>0</th>\n",
       "      <td>linx</td>\n",
       "      <td>1248</td>\n",
       "      <td>23</td>\n",
       "      <td>32.532240</td>\n",
       "    </tr>\n",
       "    <tr>\n",
       "      <th>1</th>\n",
       "      <td>linx</td>\n",
       "      <td>1248</td>\n",
       "      <td>24</td>\n",
       "      <td>266.776664</td>\n",
       "    </tr>\n",
       "  </tbody>\n",
       "</table>\n",
       "</div>"
      ],
      "text/plain": [
       "    ixp  source_address_asn pfxsize          ms\n",
       "0  linx                1248      23   32.532240\n",
       "1  linx                1248      24  266.776664"
      ]
     },
     "execution_count": 11,
     "metadata": {},
     "output_type": "execute_result"
    }
   ],
   "source": [
    "df=asrtt.set_index(['ixp','source_address_asn']).stack().rename('ms').reset_index()\n",
    "df=df.rename(columns={'level_2':'pfxsize'})\n",
    "df.head(2)"
   ]
  },
  {
   "cell_type": "code",
   "execution_count": 12,
   "id": "86ac5f51-e86d-43a0-ba90-3db6830a9be9",
   "metadata": {},
   "outputs": [
    {
     "name": "stdout",
     "output_type": "stream",
     "text": [
      "Figure saved at /Users/bertholdo/PAPERS/asym/leandro/rtt_diff.pdf\n"
     ]
    },
    {
     "data": {
      "text/plain": [
       "<Figure size 864x288 with 0 Axes>"
      ]
     },
     "metadata": {},
     "output_type": "display_data"
    },
    {
     "data": {
      "image/png": "[encoded data removed]",
      "text/plain": [
       "<Figure size 432x576 with 4 Axes>"
      ]
     },
     "metadata": {},
     "output_type": "display_data"
    }
   ],
   "source": [
    "sns.set(rc = {'figure.figsize':(12,4)})\n",
    "\n",
    "# Plot prepended vs not prepended path on ixp\n",
    "fig=plt.figure(figsize=(12,4))\n",
    "sns.set(font_scale = 1)\n",
    "sns.set_style(\"whitegrid\")    \n",
    "\n",
    "g = sns.catplot(x=\"ms\", y=\"pfxsize\",\n",
    "                hue=\"pfxsize\", row=\"ixp\",\n",
    "                data=df[ (df['ixp']!='poaixbr') & (df['ms']<501) ],\n",
    "                orient=\"h\", height=2, aspect=3, palette=\"Set3\",\n",
    "                kind=\"violin\", dodge=False, cut=0, bw=.3,\n",
    "                legend = False)\n",
    "g.set(xlabel=None)  # remove the axis label\n",
    "\n",
    "plt.title('Evaluating prepended announcements on '+ixp.upper())\n",
    "#ax.set_ylabel('Prefixes')\n",
    "plt.xlabel('')\n",
    "plt.title('')\n",
    "#plt.ylabel('Prefixes')\n",
    "plt.xticks(rotation = 25)\n",
    "#ax.set(ylabel='', xlabel='mean RTT (ms)')\n",
    "\n",
    "\n",
    "outfig=IMG+'rtt_diff.pdf'\n",
    "print(f'Figure saved at {outfig}')\n",
    "if (is_jupyter_notebook()):\n",
    "    plt.savefig(outfig)\n",
    "    plt.show()\n",
    "else:\n",
    "    plt.savefig(outfig)\n",
    "    plt.close()\n"
   ]
  },
  {
   "cell_type": "code",
   "execution_count": 13,
   "id": "5d1f81ce-6ebc-4aaf-91e3-97341c307843",
   "metadata": {},
   "outputs": [
    {
     "data": {
      "text/html": [
       "<div>\n",
       "<style scoped>\n",
       "    .dataframe tbody tr th:only-of-type {\n",
       "        vertical-align: middle;\n",
       "    }\n",
       "\n",
       "    .dataframe tbody tr th {\n",
       "        vertical-align: top;\n",
       "    }\n",
       "\n",
       "    .dataframe thead th {\n",
       "        text-align: right;\n",
       "    }\n",
       "</style>\n",
       "<table border=\"1\" class=\"dataframe\">\n",
       "  <thead>\n",
       "    <tr style=\"text-align: right;\">\n",
       "      <th></th>\n",
       "      <th>ixp</th>\n",
       "      <th>source_address_asn</th>\n",
       "      <th>pfxsize</th>\n",
       "      <th>ms</th>\n",
       "    </tr>\n",
       "  </thead>\n",
       "  <tbody>\n",
       "    <tr>\n",
       "      <th>0</th>\n",
       "      <td>linx</td>\n",
       "      <td>1248</td>\n",
       "      <td>23</td>\n",
       "      <td>32.532240</td>\n",
       "    </tr>\n",
       "    <tr>\n",
       "      <th>1</th>\n",
       "      <td>linx</td>\n",
       "      <td>1248</td>\n",
       "      <td>24</td>\n",
       "      <td>266.776664</td>\n",
       "    </tr>\n",
       "  </tbody>\n",
       "</table>\n",
       "</div>"
      ],
      "text/plain": [
       "    ixp  source_address_asn pfxsize          ms\n",
       "0  linx                1248      23   32.532240\n",
       "1  linx                1248      24  266.776664"
      ]
     },
     "execution_count": 13,
     "metadata": {},
     "output_type": "execute_result"
    }
   ],
   "source": [
    "df=asrtt.set_index(['ixp','source_address_asn']).stack().rename('ms').reset_index()\n",
    "df=df.rename(columns={'level_2':'pfxsize'})\n",
    "df=df[df['ms']<501]\n",
    "df.head(2)"
   ]
  },
  {
   "cell_type": "code",
   "execution_count": 21,
   "id": "59eb478b-2654-4b47-965e-0e838de7fba9",
   "metadata": {},
   "outputs": [
    {
     "name": "stdout",
     "output_type": "stream",
     "text": [
      "Figure saved at /Users/bertholdo/PAPERS/asym/leandro/rtt_violin.pdf\n"
     ]
    },
    {
     "data": {
      "image/png": "[encoded data removed]",
      "text/plain": [
       "<Figure size 720x288 with 1 Axes>"
      ]
     },
     "metadata": {},
     "output_type": "display_data"
    }
   ],
   "source": [
    "fig=plt.figure(figsize=(10,4))\n",
    "sns.set(font_scale=1.4)\n",
    "sns.set_style(\"whitegrid\")    \n",
    "#sns.set(context='notebook', style='darkgrid', palette='deep', font='sans-serif', font_scale=1, color_codes=True, rc=None)\n",
    "\n",
    "ax = sns.violinplot(x=\"ixp\", y=\"ms\", hue=\"pfxsize\",\n",
    "                    data=df, palette=\"Set2\", split=True,\n",
    "                    scale=\"count\")\n",
    "\n",
    "plt.xlabel('')\n",
    "\n",
    "outfig=IMG+'rtt_violin.pdf'\n",
    "print(f'Figure saved at {outfig}')\n",
    "if (is_jupyter_notebook()):\n",
    "    plt.savefig(outfig, bbox_inches='tight')\n",
    "    plt.show()\n",
    "else:\n",
    "    plt.savefig(outfig, bbox_inches='tight')\n",
    "    plt.close()"
   ]
  },
  {
   "cell_type": "code",
   "execution_count": null,
   "id": "11965c16-c1a6-42d7-a68c-266b43c2c641",
   "metadata": {},
   "outputs": [],
   "source": []
  },
  {
   "cell_type": "code",
   "execution_count": null,
   "id": "325ca9e1-9e30-4216-a1ba-7824d7000719",
   "metadata": {},
   "outputs": [],
   "source": []
  },
  {
   "cell_type": "code",
   "execution_count": 15,
   "id": "6ccb9247-71da-4c9f-a477-806eb3ac5b43",
   "metadata": {},
   "outputs": [],
   "source": [
    "# Ases que nao tem as duas medidas de RTT = 75% (nao t\n",
    "# m=sum([True for idx,row in df.iterrows() if any(row.isnull())])\n",
    "# t=len(df)\n",
    "# print(f' missing rows / total =', m/t)"
   ]
  },
  {
   "cell_type": "code",
   "execution_count": 16,
   "id": "4d7cfb5a-e6e4-4a81-87da-50272244023e",
   "metadata": {},
   "outputs": [
    {
     "data": {
      "text/plain": [
       "Index(['ixp', 'source_address_asn', 'pfxsize', 'ms'], dtype='object')"
      ]
     },
     "execution_count": 16,
     "metadata": {},
     "output_type": "execute_result"
    }
   ],
   "source": [
    "df.columns"
   ]
  },
  {
   "cell_type": "code",
   "execution_count": null,
   "id": "fc87618a-588a-4b35-9972-5d0e4ccf2c8a",
   "metadata": {},
   "outputs": [],
   "source": []
  },
  {
   "cell_type": "code",
   "execution_count": 17,
   "id": "d7881243-282a-4bfa-a00a-9c0709c33c3c",
   "metadata": {},
   "outputs": [
    {
     "data": {
      "text/html": [
       "<div>\n",
       "<style scoped>\n",
       "    .dataframe tbody tr th:only-of-type {\n",
       "        vertical-align: middle;\n",
       "    }\n",
       "\n",
       "    .dataframe tbody tr th {\n",
       "        vertical-align: top;\n",
       "    }\n",
       "\n",
       "    .dataframe thead th {\n",
       "        text-align: right;\n",
       "    }\n",
       "</style>\n",
       "<table border=\"1\" class=\"dataframe\">\n",
       "  <thead>\n",
       "    <tr style=\"text-align: right;\">\n",
       "      <th></th>\n",
       "      <th>source_address_asn</th>\n",
       "      <th>ms</th>\n",
       "    </tr>\n",
       "  </thead>\n",
       "  <tbody>\n",
       "    <tr>\n",
       "      <th>count</th>\n",
       "      <td>677.000000</td>\n",
       "      <td>677.000000</td>\n",
       "    </tr>\n",
       "    <tr>\n",
       "      <th>mean</th>\n",
       "      <td>65077.775480</td>\n",
       "      <td>67.972046</td>\n",
       "    </tr>\n",
       "    <tr>\n",
       "      <th>std</th>\n",
       "      <td>83502.416961</td>\n",
       "      <td>79.043876</td>\n",
       "    </tr>\n",
       "    <tr>\n",
       "      <th>min</th>\n",
       "      <td>101.000000</td>\n",
       "      <td>0.264285</td>\n",
       "    </tr>\n",
       "    <tr>\n",
       "      <th>25%</th>\n",
       "      <td>15802.000000</td>\n",
       "      <td>11.733570</td>\n",
       "    </tr>\n",
       "    <tr>\n",
       "      <th>50%</th>\n",
       "      <td>29791.000000</td>\n",
       "      <td>29.569100</td>\n",
       "    </tr>\n",
       "    <tr>\n",
       "      <th>75%</th>\n",
       "      <td>54994.000000</td>\n",
       "      <td>111.330481</td>\n",
       "    </tr>\n",
       "    <tr>\n",
       "      <th>max</th>\n",
       "      <td>269308.000000</td>\n",
       "      <td>417.773183</td>\n",
       "    </tr>\n",
       "  </tbody>\n",
       "</table>\n",
       "</div>"
      ],
      "text/plain": [
       "       source_address_asn          ms\n",
       "count          677.000000  677.000000\n",
       "mean         65077.775480   67.972046\n",
       "std          83502.416961   79.043876\n",
       "min            101.000000    0.264285\n",
       "25%          15802.000000   11.733570\n",
       "50%          29791.000000   29.569100\n",
       "75%          54994.000000  111.330481\n",
       "max         269308.000000  417.773183"
      ]
     },
     "execution_count": 17,
     "metadata": {},
     "output_type": "execute_result"
    }
   ],
   "source": [
    "df.describe()"
   ]
  },
  {
   "cell_type": "code",
   "execution_count": null,
   "id": "5f32fcd4-e002-4b54-b026-a31a8a7e8de6",
   "metadata": {},
   "outputs": [],
   "source": []
  },
  {
   "cell_type": "code",
   "execution_count": null,
   "id": "0bb0b044-09ab-4357-a68c-d90bd14d7f91",
   "metadata": {},
   "outputs": [],
   "source": []
  }
 ],
 "metadata": {
  "kernelspec": {
   "display_name": "Python 3 (ipykernel)",
   "language": "python",
   "name": "python3"
  },
  "language_info": {
   "codemirror_mode": {
    "name": "ipython",
    "version": 3
   },
   "file_extension": ".py",
   "mimetype": "text/x-python",
   "name": "python",
   "nbconvert_exporter": "python",
   "pygments_lexer": "ipython3",
   "version": "3.8.5"
  }
 },
 "nbformat": 4,
 "nbformat_minor": 5
}
